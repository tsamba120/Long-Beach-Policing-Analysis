{
 "metadata": {
  "language_info": {
   "codemirror_mode": {
    "name": "ipython",
    "version": 3
   },
   "file_extension": ".py",
   "mimetype": "text/x-python",
   "name": "python",
   "nbconvert_exporter": "python",
   "pygments_lexer": "ipython3",
   "version": "3.8.5"
  },
  "orig_nbformat": 2,
  "kernelspec": {
   "name": "python385jvsc74a57bd0c80bbb1121cd7f4020b528273b0abdb9e6c4295ef68413e87e37775322d7a8ce",
   "display_name": "Python 3.8.5 64-bit ('lbpd_acab_env': conda)"
  },
  "metadata": {
   "interpreter": {
    "hash": "c80bbb1121cd7f4020b528273b0abdb9e6c4295ef68413e87e37775322d7a8ce"
   }
  }
 },
 "nbformat": 4,
 "nbformat_minor": 2,
 "cells": [
  {
   "source": [
    "# Data Processing Canvas\n",
    "* Using this ipynb to draft possible methods for data cleaning and processing before including in script files "
   ],
   "cell_type": "markdown",
   "metadata": {}
  },
  {
   "cell_type": "code",
   "execution_count": 13,
   "metadata": {},
   "outputs": [],
   "source": [
    "import re\n",
    "import pandas as pd\n",
    "file_path = './raw_data'"
   ]
  },
  {
   "source": [
    "### Clean columns with regex"
   ],
   "cell_type": "markdown",
   "metadata": {}
  },
  {
   "cell_type": "code",
   "execution_count": 8,
   "metadata": {},
   "outputs": [],
   "source": [
    "def clean_columns(df):\n",
    "    ''' Removes 'properties.' quality from each column '''\n",
    "    df = df.rename(columns=lambda x: re.sub('properties.', '', x))\n",
    "    return df"
   ]
  },
  {
   "source": [
    "### Perceived Race Cleaning"
   ],
   "cell_type": "markdown",
   "metadata": {}
  },
  {
   "cell_type": "code",
   "execution_count": 10,
   "metadata": {},
   "outputs": [
    {
     "output_type": "execute_result",
     "data": {
      "text/plain": [
       "   ObjectId  StopID  PID perceivedRace\n",
       "0         1    5782    1         White\n",
       "1         2    5785    1         White\n",
       "2         3    5786    1         White\n",
       "3         4    5787    1         Asian\n",
       "4         5    5787    1         Black"
      ],
      "text/html": "<div>\n<style scoped>\n    .dataframe tbody tr th:only-of-type {\n        vertical-align: middle;\n    }\n\n    .dataframe tbody tr th {\n        vertical-align: top;\n    }\n\n    .dataframe thead th {\n        text-align: right;\n    }\n</style>\n<table border=\"1\" class=\"dataframe\">\n  <thead>\n    <tr style=\"text-align: right;\">\n      <th></th>\n      <th>ObjectId</th>\n      <th>StopID</th>\n      <th>PID</th>\n      <th>perceivedRace</th>\n    </tr>\n  </thead>\n  <tbody>\n    <tr>\n      <th>0</th>\n      <td>1</td>\n      <td>5782</td>\n      <td>1</td>\n      <td>White</td>\n    </tr>\n    <tr>\n      <th>1</th>\n      <td>2</td>\n      <td>5785</td>\n      <td>1</td>\n      <td>White</td>\n    </tr>\n    <tr>\n      <th>2</th>\n      <td>3</td>\n      <td>5786</td>\n      <td>1</td>\n      <td>White</td>\n    </tr>\n    <tr>\n      <th>3</th>\n      <td>4</td>\n      <td>5787</td>\n      <td>1</td>\n      <td>Asian</td>\n    </tr>\n    <tr>\n      <th>4</th>\n      <td>5</td>\n      <td>5787</td>\n      <td>1</td>\n      <td>Black</td>\n    </tr>\n  </tbody>\n</table>\n</div>"
     },
     "metadata": {},
     "execution_count": 10
    }
   ],
   "source": [
    "df_race = pd.read_csv('./raw_data/1. perceivedRace.csv')\n",
    "df_race = clean_columns(df_race)\n",
    "df_race.head()"
   ]
  },
  {
   "cell_type": "code",
   "execution_count": 11,
   "metadata": {},
   "outputs": [
    {
     "output_type": "execute_result",
     "data": {
      "text/plain": [
       "Hispanic                         16716\n",
       "Black                            12472\n",
       "White                            10972\n",
       "Asian                             3150\n",
       "Middle Eastern or South Asian     1804\n",
       "Pacific Islander                  1700\n",
       "Native American                   1301\n",
       "Name: perceivedRace, dtype: int64"
      ]
     },
     "metadata": {},
     "execution_count": 11
    }
   ],
   "source": [
    "df_race['perceivedRace'].value_counts()"
   ]
  },
  {
   "cell_type": "code",
   "execution_count": null,
   "metadata": {},
   "outputs": [],
   "source": []
  }
 ]
}