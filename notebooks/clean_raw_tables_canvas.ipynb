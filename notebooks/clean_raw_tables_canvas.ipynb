{
 "metadata": {
  "language_info": {
   "codemirror_mode": {
    "name": "ipython",
    "version": 3
   },
   "file_extension": ".py",
   "mimetype": "text/x-python",
   "name": "python",
   "nbconvert_exporter": "python",
   "pygments_lexer": "ipython3",
   "version": "3.8.5"
  },
  "orig_nbformat": 2,
  "kernelspec": {
   "name": "python385jvsc74a57bd0c80bbb1121cd7f4020b528273b0abdb9e6c4295ef68413e87e37775322d7a8ce",
   "display_name": "Python 3.8.5 64-bit ('lbpd_acab_env': conda)"
  },
  "metadata": {
   "interpreter": {
    "hash": "c80bbb1121cd7f4020b528273b0abdb9e6c4295ef68413e87e37775322d7a8ce"
   }
  }
 },
 "nbformat": 4,
 "nbformat_minor": 2,
 "cells": [
  {
   "source": [
    "# Pre-EDA Cleaning for Scripts"
   ],
   "cell_type": "markdown",
   "metadata": {}
  },
  {
   "cell_type": "code",
   "execution_count": 2,
   "metadata": {},
   "outputs": [],
   "source": [
    "import re\n",
    "import numpy as np\n",
    "import pandas as pd\n",
    "import matplotlib.pyplot as plt\n",
    "import seaborn as sns"
   ]
  },
  {
   "cell_type": "code",
   "execution_count": 3,
   "metadata": {},
   "outputs": [
    {
     "output_type": "stream",
     "name": "stdout",
     "text": [
      "/Users/terencerustia/Documents/Data Science/Long Beach Policing Analysis\n"
     ]
    }
   ],
   "source": [
    "%cd .."
   ]
  },
  {
   "cell_type": "code",
   "execution_count": 4,
   "metadata": {},
   "outputs": [],
   "source": [
    "# %cd Long\\ Beach\\ Policing\\ Analysis"
   ]
  },
  {
   "cell_type": "code",
   "execution_count": 5,
   "metadata": {},
   "outputs": [],
   "source": [
    "df = pd.read_csv('./processed_data/PROCESSED_0_to_5.csv', dtype=object)"
   ]
  },
  {
   "cell_type": "code",
   "execution_count": 6,
   "metadata": {},
   "outputs": [
    {
     "output_type": "execute_result",
     "data": {
      "text/plain": [
       "  ObjectId_x StopID             stopDate             stopTime stopDuration  \\\n",
       "0          1   5875  2019/01/01 00:00:00  2020/06/26 07:41:59            5   \n",
       "1          2   5782  2019/01/01 00:00:00  2020/06/26 00:04:59            5   \n",
       "2          3   5876  2019/01/01 00:00:00  2020/06/26 18:17:00            4   \n",
       "3          4   5877  2019/01/01 00:00:00  2020/06/26 18:25:35           10   \n",
       "4          5   5785  2019/01/01 00:00:00  2020/06/26 01:04:00           16   \n",
       "\n",
       "  stopInResponseToCFS blockNumber           street intersection highwayExit  \\\n",
       "0                   0       200.0       E First St          NaN         NaN   \n",
       "1                   1      5900.0  Long Beach Blvd          NaN         NaN   \n",
       "2                   0      6600.0       Butler Ave          NaN         NaN   \n",
       "3                   1       900.0        E anaheim          NaN         NaN   \n",
       "4                   0      4800.0     Vista street          NaN         NaN   \n",
       "\n",
       "   ... reasonForStopcode                              reasonForStopCodeText  \\\n",
       "0  ...             54153  21453(D) VC - PED AGAINST RED LIGHT/ETC (I) 54153   \n",
       "1  ...             38021     273(A) PC - ILLEGAL PAY FOR ADOPTION (M) 38021   \n",
       "2  ...             54106     22350 VC - UNSAFE SPEED:PREVAIL COND (I) 54106   \n",
       "3  ...                 0                                                NaN   \n",
       "4  ...             65002          65002 ZZ - LOCAL ORDINANCE VIOL (I) 65002   \n",
       "\n",
       "  ObjectId_x.2 actionTakenDuringStop personSearchConsentGiven  \\\n",
       "0           17    Curbside detention                      NaN   \n",
       "1            3    Curbside detention                      NaN   \n",
       "2           22                  None                      NaN   \n",
       "3           24                  None                      NaN   \n",
       "4            8                  None                      NaN   \n",
       "\n",
       "  propertySearchConsentGiven ObjectId_y.2                    resultOfStop  \\\n",
       "0                        NaN           47         Citation for infraction   \n",
       "1                        NaN            1  Field interview card completed   \n",
       "2                        NaN           51                       No Action   \n",
       "3                        NaN           55                       No Action   \n",
       "4                        NaN            5         Citation for infraction   \n",
       "\n",
       "  resultOfStopcode                               resultOfStopcodeText  \n",
       "0            54153  21453(D) VC - PED AGAINST RED LIGHT/ETC (I) 54153  \n",
       "1              NaN                                                NaN  \n",
       "2              NaN                                                NaN  \n",
       "3              NaN                                                NaN  \n",
       "4            65000          65000 ZZ - LOCAL ORDINANCE VIOL (M) 65000  \n",
       "\n",
       "[5 rows x 38 columns]"
      ],
      "text/html": "<div>\n<style scoped>\n    .dataframe tbody tr th:only-of-type {\n        vertical-align: middle;\n    }\n\n    .dataframe tbody tr th {\n        vertical-align: top;\n    }\n\n    .dataframe thead th {\n        text-align: right;\n    }\n</style>\n<table border=\"1\" class=\"dataframe\">\n  <thead>\n    <tr style=\"text-align: right;\">\n      <th></th>\n      <th>ObjectId_x</th>\n      <th>StopID</th>\n      <th>stopDate</th>\n      <th>stopTime</th>\n      <th>stopDuration</th>\n      <th>stopInResponseToCFS</th>\n      <th>blockNumber</th>\n      <th>street</th>\n      <th>intersection</th>\n      <th>highwayExit</th>\n      <th>...</th>\n      <th>reasonForStopcode</th>\n      <th>reasonForStopCodeText</th>\n      <th>ObjectId_x.2</th>\n      <th>actionTakenDuringStop</th>\n      <th>personSearchConsentGiven</th>\n      <th>propertySearchConsentGiven</th>\n      <th>ObjectId_y.2</th>\n      <th>resultOfStop</th>\n      <th>resultOfStopcode</th>\n      <th>resultOfStopcodeText</th>\n    </tr>\n  </thead>\n  <tbody>\n    <tr>\n      <th>0</th>\n      <td>1</td>\n      <td>5875</td>\n      <td>2019/01/01 00:00:00</td>\n      <td>2020/06/26 07:41:59</td>\n      <td>5</td>\n      <td>0</td>\n      <td>200.0</td>\n      <td>E First St</td>\n      <td>NaN</td>\n      <td>NaN</td>\n      <td>...</td>\n      <td>54153</td>\n      <td>21453(D) VC - PED AGAINST RED LIGHT/ETC (I) 54153</td>\n      <td>17</td>\n      <td>Curbside detention</td>\n      <td>NaN</td>\n      <td>NaN</td>\n      <td>47</td>\n      <td>Citation for infraction</td>\n      <td>54153</td>\n      <td>21453(D) VC - PED AGAINST RED LIGHT/ETC (I) 54153</td>\n    </tr>\n    <tr>\n      <th>1</th>\n      <td>2</td>\n      <td>5782</td>\n      <td>2019/01/01 00:00:00</td>\n      <td>2020/06/26 00:04:59</td>\n      <td>5</td>\n      <td>1</td>\n      <td>5900.0</td>\n      <td>Long Beach Blvd</td>\n      <td>NaN</td>\n      <td>NaN</td>\n      <td>...</td>\n      <td>38021</td>\n      <td>273(A) PC - ILLEGAL PAY FOR ADOPTION (M) 38021</td>\n      <td>3</td>\n      <td>Curbside detention</td>\n      <td>NaN</td>\n      <td>NaN</td>\n      <td>1</td>\n      <td>Field interview card completed</td>\n      <td>NaN</td>\n      <td>NaN</td>\n    </tr>\n    <tr>\n      <th>2</th>\n      <td>3</td>\n      <td>5876</td>\n      <td>2019/01/01 00:00:00</td>\n      <td>2020/06/26 18:17:00</td>\n      <td>4</td>\n      <td>0</td>\n      <td>6600.0</td>\n      <td>Butler Ave</td>\n      <td>NaN</td>\n      <td>NaN</td>\n      <td>...</td>\n      <td>54106</td>\n      <td>22350 VC - UNSAFE SPEED:PREVAIL COND (I) 54106</td>\n      <td>22</td>\n      <td>None</td>\n      <td>NaN</td>\n      <td>NaN</td>\n      <td>51</td>\n      <td>No Action</td>\n      <td>NaN</td>\n      <td>NaN</td>\n    </tr>\n    <tr>\n      <th>3</th>\n      <td>4</td>\n      <td>5877</td>\n      <td>2019/01/01 00:00:00</td>\n      <td>2020/06/26 18:25:35</td>\n      <td>10</td>\n      <td>1</td>\n      <td>900.0</td>\n      <td>E anaheim</td>\n      <td>NaN</td>\n      <td>NaN</td>\n      <td>...</td>\n      <td>0</td>\n      <td>NaN</td>\n      <td>24</td>\n      <td>None</td>\n      <td>NaN</td>\n      <td>NaN</td>\n      <td>55</td>\n      <td>No Action</td>\n      <td>NaN</td>\n      <td>NaN</td>\n    </tr>\n    <tr>\n      <th>4</th>\n      <td>5</td>\n      <td>5785</td>\n      <td>2019/01/01 00:00:00</td>\n      <td>2020/06/26 01:04:00</td>\n      <td>16</td>\n      <td>0</td>\n      <td>4800.0</td>\n      <td>Vista street</td>\n      <td>NaN</td>\n      <td>NaN</td>\n      <td>...</td>\n      <td>65002</td>\n      <td>65002 ZZ - LOCAL ORDINANCE VIOL (I) 65002</td>\n      <td>8</td>\n      <td>None</td>\n      <td>NaN</td>\n      <td>NaN</td>\n      <td>5</td>\n      <td>Citation for infraction</td>\n      <td>65000</td>\n      <td>65000 ZZ - LOCAL ORDINANCE VIOL (M) 65000</td>\n    </tr>\n  </tbody>\n</table>\n<p>5 rows × 38 columns</p>\n</div>"
     },
     "metadata": {},
     "execution_count": 6
    }
   ],
   "source": [
    "df.head()"
   ]
  },
  {
   "source": [
    "## df0: Clean date and time columns:"
   ],
   "cell_type": "markdown",
   "metadata": {}
  },
  {
   "cell_type": "code",
   "execution_count": 7,
   "metadata": {},
   "outputs": [],
   "source": [
    "def clean_date_time(df):\n",
    "    df['stopDate'] = pd.to_datetime(df['stopDate']).dt.date\n",
    "    df['stopTime'] = pd.to_datetime(df['stopTime']).dt.time"
   ]
  },
  {
   "cell_type": "code",
   "execution_count": 8,
   "metadata": {},
   "outputs": [],
   "source": [
    "clean_date_time(df)"
   ]
  },
  {
   "cell_type": "code",
   "execution_count": 9,
   "metadata": {},
   "outputs": [
    {
     "output_type": "execute_result",
     "data": {
      "text/plain": [
       "  ObjectId_x StopID    stopDate  stopTime stopDuration stopInResponseToCFS  \\\n",
       "0          1   5875  2019-01-01  07:41:59            5                   0   \n",
       "1          2   5782  2019-01-01  00:04:59            5                   1   \n",
       "2          3   5876  2019-01-01  18:17:00            4                   0   \n",
       "3          4   5877  2019-01-01  18:25:35           10                   1   \n",
       "4          5   5785  2019-01-01  01:04:00           16                   0   \n",
       "\n",
       "  blockNumber           street intersection highwayExit  ...  \\\n",
       "0       200.0       E First St          NaN         NaN  ...   \n",
       "1      5900.0  Long Beach Blvd          NaN         NaN  ...   \n",
       "2      6600.0       Butler Ave          NaN         NaN  ...   \n",
       "3       900.0        E anaheim          NaN         NaN  ...   \n",
       "4      4800.0     Vista street          NaN         NaN  ...   \n",
       "\n",
       "  reasonForStopcode                              reasonForStopCodeText  \\\n",
       "0             54153  21453(D) VC - PED AGAINST RED LIGHT/ETC (I) 54153   \n",
       "1             38021     273(A) PC - ILLEGAL PAY FOR ADOPTION (M) 38021   \n",
       "2             54106     22350 VC - UNSAFE SPEED:PREVAIL COND (I) 54106   \n",
       "3                 0                                                NaN   \n",
       "4             65002          65002 ZZ - LOCAL ORDINANCE VIOL (I) 65002   \n",
       "\n",
       "  ObjectId_x.2 actionTakenDuringStop personSearchConsentGiven  \\\n",
       "0           17    Curbside detention                      NaN   \n",
       "1            3    Curbside detention                      NaN   \n",
       "2           22                  None                      NaN   \n",
       "3           24                  None                      NaN   \n",
       "4            8                  None                      NaN   \n",
       "\n",
       "  propertySearchConsentGiven ObjectId_y.2                    resultOfStop  \\\n",
       "0                        NaN           47         Citation for infraction   \n",
       "1                        NaN            1  Field interview card completed   \n",
       "2                        NaN           51                       No Action   \n",
       "3                        NaN           55                       No Action   \n",
       "4                        NaN            5         Citation for infraction   \n",
       "\n",
       "  resultOfStopcode                               resultOfStopcodeText  \n",
       "0            54153  21453(D) VC - PED AGAINST RED LIGHT/ETC (I) 54153  \n",
       "1              NaN                                                NaN  \n",
       "2              NaN                                                NaN  \n",
       "3              NaN                                                NaN  \n",
       "4            65000          65000 ZZ - LOCAL ORDINANCE VIOL (M) 65000  \n",
       "\n",
       "[5 rows x 38 columns]"
      ],
      "text/html": "<div>\n<style scoped>\n    .dataframe tbody tr th:only-of-type {\n        vertical-align: middle;\n    }\n\n    .dataframe tbody tr th {\n        vertical-align: top;\n    }\n\n    .dataframe thead th {\n        text-align: right;\n    }\n</style>\n<table border=\"1\" class=\"dataframe\">\n  <thead>\n    <tr style=\"text-align: right;\">\n      <th></th>\n      <th>ObjectId_x</th>\n      <th>StopID</th>\n      <th>stopDate</th>\n      <th>stopTime</th>\n      <th>stopDuration</th>\n      <th>stopInResponseToCFS</th>\n      <th>blockNumber</th>\n      <th>street</th>\n      <th>intersection</th>\n      <th>highwayExit</th>\n      <th>...</th>\n      <th>reasonForStopcode</th>\n      <th>reasonForStopCodeText</th>\n      <th>ObjectId_x.2</th>\n      <th>actionTakenDuringStop</th>\n      <th>personSearchConsentGiven</th>\n      <th>propertySearchConsentGiven</th>\n      <th>ObjectId_y.2</th>\n      <th>resultOfStop</th>\n      <th>resultOfStopcode</th>\n      <th>resultOfStopcodeText</th>\n    </tr>\n  </thead>\n  <tbody>\n    <tr>\n      <th>0</th>\n      <td>1</td>\n      <td>5875</td>\n      <td>2019-01-01</td>\n      <td>07:41:59</td>\n      <td>5</td>\n      <td>0</td>\n      <td>200.0</td>\n      <td>E First St</td>\n      <td>NaN</td>\n      <td>NaN</td>\n      <td>...</td>\n      <td>54153</td>\n      <td>21453(D) VC - PED AGAINST RED LIGHT/ETC (I) 54153</td>\n      <td>17</td>\n      <td>Curbside detention</td>\n      <td>NaN</td>\n      <td>NaN</td>\n      <td>47</td>\n      <td>Citation for infraction</td>\n      <td>54153</td>\n      <td>21453(D) VC - PED AGAINST RED LIGHT/ETC (I) 54153</td>\n    </tr>\n    <tr>\n      <th>1</th>\n      <td>2</td>\n      <td>5782</td>\n      <td>2019-01-01</td>\n      <td>00:04:59</td>\n      <td>5</td>\n      <td>1</td>\n      <td>5900.0</td>\n      <td>Long Beach Blvd</td>\n      <td>NaN</td>\n      <td>NaN</td>\n      <td>...</td>\n      <td>38021</td>\n      <td>273(A) PC - ILLEGAL PAY FOR ADOPTION (M) 38021</td>\n      <td>3</td>\n      <td>Curbside detention</td>\n      <td>NaN</td>\n      <td>NaN</td>\n      <td>1</td>\n      <td>Field interview card completed</td>\n      <td>NaN</td>\n      <td>NaN</td>\n    </tr>\n    <tr>\n      <th>2</th>\n      <td>3</td>\n      <td>5876</td>\n      <td>2019-01-01</td>\n      <td>18:17:00</td>\n      <td>4</td>\n      <td>0</td>\n      <td>6600.0</td>\n      <td>Butler Ave</td>\n      <td>NaN</td>\n      <td>NaN</td>\n      <td>...</td>\n      <td>54106</td>\n      <td>22350 VC - UNSAFE SPEED:PREVAIL COND (I) 54106</td>\n      <td>22</td>\n      <td>None</td>\n      <td>NaN</td>\n      <td>NaN</td>\n      <td>51</td>\n      <td>No Action</td>\n      <td>NaN</td>\n      <td>NaN</td>\n    </tr>\n    <tr>\n      <th>3</th>\n      <td>4</td>\n      <td>5877</td>\n      <td>2019-01-01</td>\n      <td>18:25:35</td>\n      <td>10</td>\n      <td>1</td>\n      <td>900.0</td>\n      <td>E anaheim</td>\n      <td>NaN</td>\n      <td>NaN</td>\n      <td>...</td>\n      <td>0</td>\n      <td>NaN</td>\n      <td>24</td>\n      <td>None</td>\n      <td>NaN</td>\n      <td>NaN</td>\n      <td>55</td>\n      <td>No Action</td>\n      <td>NaN</td>\n      <td>NaN</td>\n    </tr>\n    <tr>\n      <th>4</th>\n      <td>5</td>\n      <td>5785</td>\n      <td>2019-01-01</td>\n      <td>01:04:00</td>\n      <td>16</td>\n      <td>0</td>\n      <td>4800.0</td>\n      <td>Vista street</td>\n      <td>NaN</td>\n      <td>NaN</td>\n      <td>...</td>\n      <td>65002</td>\n      <td>65002 ZZ - LOCAL ORDINANCE VIOL (I) 65002</td>\n      <td>8</td>\n      <td>None</td>\n      <td>NaN</td>\n      <td>NaN</td>\n      <td>5</td>\n      <td>Citation for infraction</td>\n      <td>65000</td>\n      <td>65000 ZZ - LOCAL ORDINANCE VIOL (M) 65000</td>\n    </tr>\n  </tbody>\n</table>\n<p>5 rows × 38 columns</p>\n</div>"
     },
     "metadata": {},
     "execution_count": 9
    }
   ],
   "source": [
    "df.head()"
   ]
  },
  {
   "source": [
    "## Remove excess ObjectId columns:"
   ],
   "cell_type": "markdown",
   "metadata": {}
  },
  {
   "cell_type": "code",
   "execution_count": 10,
   "metadata": {},
   "outputs": [],
   "source": [
    "def remove_objectId(df):\n",
    "    cols = list(df.filter(regex='ObjectId').columns)\n",
    "    df.drop(cols, axis=1, inplace=True)"
   ]
  },
  {
   "cell_type": "code",
   "execution_count": 11,
   "metadata": {},
   "outputs": [
    {
     "output_type": "execute_result",
     "data": {
      "text/plain": [
       "  StopID    stopDate  stopTime stopDuration stopInResponseToCFS blockNumber  \\\n",
       "0   5875  2019-01-01  07:41:59            5                   0       200.0   \n",
       "1   5782  2019-01-01  00:04:59            5                   1      5900.0   \n",
       "2   5876  2019-01-01  18:17:00            4                   0      6600.0   \n",
       "3   5877  2019-01-01  18:25:35           10                   1       900.0   \n",
       "4   5785  2019-01-01  01:04:00           16                   0      4800.0   \n",
       "\n",
       "            street intersection highwayExit landMark  ...  \\\n",
       "0       E First St          NaN         NaN      NaN  ...   \n",
       "1  Long Beach Blvd          NaN         NaN      NaN  ...   \n",
       "2       Butler Ave          NaN         NaN      NaN  ...   \n",
       "3        E anaheim          NaN         NaN      NaN  ...   \n",
       "4     Vista street          NaN         NaN      NaN  ...   \n",
       "\n",
       "                                       reasonForStop  \\\n",
       "0                                  Traffic Violation   \n",
       "1                               Reasonable Suspicion   \n",
       "2                                  Traffic Violation   \n",
       "3  Knowledge of outstanding arrest warrant/wanted...   \n",
       "4                               Reasonable Suspicion   \n",
       "\n",
       "                     reasonForStopDetail reasonForStopcode  \\\n",
       "0                       Moving Violation             54153   \n",
       "1  Other Reasonable Suspicion of a crime             38021   \n",
       "2                       Moving Violation             54106   \n",
       "3                                    NaN                 0   \n",
       "4  Other Reasonable Suspicion of a crime             65002   \n",
       "\n",
       "                               reasonForStopCodeText actionTakenDuringStop  \\\n",
       "0  21453(D) VC - PED AGAINST RED LIGHT/ETC (I) 54153    Curbside detention   \n",
       "1     273(A) PC - ILLEGAL PAY FOR ADOPTION (M) 38021    Curbside detention   \n",
       "2     22350 VC - UNSAFE SPEED:PREVAIL COND (I) 54106                  None   \n",
       "3                                                NaN                  None   \n",
       "4          65002 ZZ - LOCAL ORDINANCE VIOL (I) 65002                  None   \n",
       "\n",
       "  personSearchConsentGiven propertySearchConsentGiven  \\\n",
       "0                      NaN                        NaN   \n",
       "1                      NaN                        NaN   \n",
       "2                      NaN                        NaN   \n",
       "3                      NaN                        NaN   \n",
       "4                      NaN                        NaN   \n",
       "\n",
       "                     resultOfStop resultOfStopcode  \\\n",
       "0         Citation for infraction            54153   \n",
       "1  Field interview card completed              NaN   \n",
       "2                       No Action              NaN   \n",
       "3                       No Action              NaN   \n",
       "4         Citation for infraction            65000   \n",
       "\n",
       "                                resultOfStopcodeText  \n",
       "0  21453(D) VC - PED AGAINST RED LIGHT/ETC (I) 54153  \n",
       "1                                                NaN  \n",
       "2                                                NaN  \n",
       "3                                                NaN  \n",
       "4          65000 ZZ - LOCAL ORDINANCE VIOL (M) 65000  \n",
       "\n",
       "[5 rows x 32 columns]"
      ],
      "text/html": "<div>\n<style scoped>\n    .dataframe tbody tr th:only-of-type {\n        vertical-align: middle;\n    }\n\n    .dataframe tbody tr th {\n        vertical-align: top;\n    }\n\n    .dataframe thead th {\n        text-align: right;\n    }\n</style>\n<table border=\"1\" class=\"dataframe\">\n  <thead>\n    <tr style=\"text-align: right;\">\n      <th></th>\n      <th>StopID</th>\n      <th>stopDate</th>\n      <th>stopTime</th>\n      <th>stopDuration</th>\n      <th>stopInResponseToCFS</th>\n      <th>blockNumber</th>\n      <th>street</th>\n      <th>intersection</th>\n      <th>highwayExit</th>\n      <th>landMark</th>\n      <th>...</th>\n      <th>reasonForStop</th>\n      <th>reasonForStopDetail</th>\n      <th>reasonForStopcode</th>\n      <th>reasonForStopCodeText</th>\n      <th>actionTakenDuringStop</th>\n      <th>personSearchConsentGiven</th>\n      <th>propertySearchConsentGiven</th>\n      <th>resultOfStop</th>\n      <th>resultOfStopcode</th>\n      <th>resultOfStopcodeText</th>\n    </tr>\n  </thead>\n  <tbody>\n    <tr>\n      <th>0</th>\n      <td>5875</td>\n      <td>2019-01-01</td>\n      <td>07:41:59</td>\n      <td>5</td>\n      <td>0</td>\n      <td>200.0</td>\n      <td>E First St</td>\n      <td>NaN</td>\n      <td>NaN</td>\n      <td>NaN</td>\n      <td>...</td>\n      <td>Traffic Violation</td>\n      <td>Moving Violation</td>\n      <td>54153</td>\n      <td>21453(D) VC - PED AGAINST RED LIGHT/ETC (I) 54153</td>\n      <td>Curbside detention</td>\n      <td>NaN</td>\n      <td>NaN</td>\n      <td>Citation for infraction</td>\n      <td>54153</td>\n      <td>21453(D) VC - PED AGAINST RED LIGHT/ETC (I) 54153</td>\n    </tr>\n    <tr>\n      <th>1</th>\n      <td>5782</td>\n      <td>2019-01-01</td>\n      <td>00:04:59</td>\n      <td>5</td>\n      <td>1</td>\n      <td>5900.0</td>\n      <td>Long Beach Blvd</td>\n      <td>NaN</td>\n      <td>NaN</td>\n      <td>NaN</td>\n      <td>...</td>\n      <td>Reasonable Suspicion</td>\n      <td>Other Reasonable Suspicion of a crime</td>\n      <td>38021</td>\n      <td>273(A) PC - ILLEGAL PAY FOR ADOPTION (M) 38021</td>\n      <td>Curbside detention</td>\n      <td>NaN</td>\n      <td>NaN</td>\n      <td>Field interview card completed</td>\n      <td>NaN</td>\n      <td>NaN</td>\n    </tr>\n    <tr>\n      <th>2</th>\n      <td>5876</td>\n      <td>2019-01-01</td>\n      <td>18:17:00</td>\n      <td>4</td>\n      <td>0</td>\n      <td>6600.0</td>\n      <td>Butler Ave</td>\n      <td>NaN</td>\n      <td>NaN</td>\n      <td>NaN</td>\n      <td>...</td>\n      <td>Traffic Violation</td>\n      <td>Moving Violation</td>\n      <td>54106</td>\n      <td>22350 VC - UNSAFE SPEED:PREVAIL COND (I) 54106</td>\n      <td>None</td>\n      <td>NaN</td>\n      <td>NaN</td>\n      <td>No Action</td>\n      <td>NaN</td>\n      <td>NaN</td>\n    </tr>\n    <tr>\n      <th>3</th>\n      <td>5877</td>\n      <td>2019-01-01</td>\n      <td>18:25:35</td>\n      <td>10</td>\n      <td>1</td>\n      <td>900.0</td>\n      <td>E anaheim</td>\n      <td>NaN</td>\n      <td>NaN</td>\n      <td>NaN</td>\n      <td>...</td>\n      <td>Knowledge of outstanding arrest warrant/wanted...</td>\n      <td>NaN</td>\n      <td>0</td>\n      <td>NaN</td>\n      <td>None</td>\n      <td>NaN</td>\n      <td>NaN</td>\n      <td>No Action</td>\n      <td>NaN</td>\n      <td>NaN</td>\n    </tr>\n    <tr>\n      <th>4</th>\n      <td>5785</td>\n      <td>2019-01-01</td>\n      <td>01:04:00</td>\n      <td>16</td>\n      <td>0</td>\n      <td>4800.0</td>\n      <td>Vista street</td>\n      <td>NaN</td>\n      <td>NaN</td>\n      <td>NaN</td>\n      <td>...</td>\n      <td>Reasonable Suspicion</td>\n      <td>Other Reasonable Suspicion of a crime</td>\n      <td>65002</td>\n      <td>65002 ZZ - LOCAL ORDINANCE VIOL (I) 65002</td>\n      <td>None</td>\n      <td>NaN</td>\n      <td>NaN</td>\n      <td>Citation for infraction</td>\n      <td>65000</td>\n      <td>65000 ZZ - LOCAL ORDINANCE VIOL (M) 65000</td>\n    </tr>\n  </tbody>\n</table>\n<p>5 rows × 32 columns</p>\n</div>"
     },
     "metadata": {},
     "execution_count": 11
    }
   ],
   "source": [
    "remove_objectId(df)\n",
    "df.head()"
   ]
  },
  {
   "cell_type": "code",
   "execution_count": 12,
   "metadata": {},
   "outputs": [
    {
     "output_type": "execute_result",
     "data": {
      "text/plain": [
       "Index(['StopID', 'stopDate', 'stopTime', 'stopDuration', 'stopInResponseToCFS',\n",
       "       'blockNumber', 'street', 'intersection', 'highwayExit', 'landMark',\n",
       "       'city', 'isSchool', 'schoolName', 'PID', 'isStudent', 'perceivedAge',\n",
       "       'perceivedGender', 'genderNonconforming', 'perceivedLgbt',\n",
       "       'perceivedLimitedEnglish', 'perceivedRace',\n",
       "       'perceivedOrKnownDisability', 'reasonForStop', 'reasonForStopDetail',\n",
       "       'reasonForStopcode', 'reasonForStopCodeText', 'actionTakenDuringStop',\n",
       "       'personSearchConsentGiven', 'propertySearchConsentGiven',\n",
       "       'resultOfStop', 'resultOfStopcode', 'resultOfStopcodeText'],\n",
       "      dtype='object')"
      ]
     },
     "metadata": {},
     "execution_count": 12
    }
   ],
   "source": [
    "df.columns"
   ]
  },
  {
   "source": [
    "## Drop other unneeded columns:"
   ],
   "cell_type": "markdown",
   "metadata": {}
  },
  {
   "cell_type": "code",
   "execution_count": 13,
   "metadata": {},
   "outputs": [],
   "source": [
    "def drop_others(df):\n",
    "    cols = ['highwayExit','isSchool', 'schoolName', 'isStudent']\n",
    "    df.drop(cols, axis=1, inplace=True)"
   ]
  },
  {
   "cell_type": "code",
   "execution_count": 14,
   "metadata": {},
   "outputs": [
    {
     "output_type": "execute_result",
     "data": {
      "text/plain": [
       "Index(['StopID', 'stopDate', 'stopTime', 'stopDuration', 'stopInResponseToCFS',\n",
       "       'blockNumber', 'street', 'intersection', 'landMark', 'city', 'PID',\n",
       "       'perceivedAge', 'perceivedGender', 'genderNonconforming',\n",
       "       'perceivedLgbt', 'perceivedLimitedEnglish', 'perceivedRace',\n",
       "       'perceivedOrKnownDisability', 'reasonForStop', 'reasonForStopDetail',\n",
       "       'reasonForStopcode', 'reasonForStopCodeText', 'actionTakenDuringStop',\n",
       "       'personSearchConsentGiven', 'propertySearchConsentGiven',\n",
       "       'resultOfStop', 'resultOfStopcode', 'resultOfStopcodeText'],\n",
       "      dtype='object')"
      ]
     },
     "metadata": {},
     "execution_count": 14
    }
   ],
   "source": [
    "drop_others(df)\n",
    "df.columns"
   ]
  },
  {
   "cell_type": "code",
   "execution_count": 15,
   "metadata": {},
   "outputs": [],
   "source": [
    "def drop_stop_text(df):\n",
    "    stop_text_cols = ['reasonForStopcode', 'reasonForStopCodeText','resultOfStopcode', 'resultOfStopcodeText']\n",
    "    df.drop(stop_text_cols, axis=1, inplace=True)"
   ]
  },
  {
   "cell_type": "code",
   "execution_count": 16,
   "metadata": {},
   "outputs": [],
   "source": [
    "drop_stop_text(df)"
   ]
  },
  {
   "source": [
    "## 1. Perceived Race Table: Cast unique responses into new columns\n",
    "* Our main dataframe has 40523 unique stops, we need to create dummy variables so as not to falsely create duplicates"
   ],
   "cell_type": "markdown",
   "metadata": {}
  },
  {
   "cell_type": "code",
   "execution_count": 17,
   "metadata": {},
   "outputs": [
    {
     "output_type": "stream",
     "name": "stderr",
     "text": [
      "/Users/terencerustia/opt/anaconda3/envs/lbpd_acab_env/lib/python3.8/site-packages/IPython/core/interactiveshell.py:3165: DtypeWarning: Columns (10) have mixed types.Specify dtype option on import or set low_memory=False.\n  has_raised = await self.run_ast_nodes(code_ast.body, cell_name,\n"
     ]
    },
    {
     "output_type": "execute_result",
     "data": {
      "text/plain": [
       "(40523, 21)"
      ]
     },
     "metadata": {},
     "execution_count": 17
    }
   ],
   "source": [
    "pd.read_csv('./raw_data/0. mainStopDateTime.csv').shape"
   ]
  },
  {
   "cell_type": "code",
   "execution_count": 18,
   "metadata": {},
   "outputs": [],
   "source": [
    "# TABLE 1 - Race data\n",
    "df_race = pd.read_csv('./raw_data/1. perceivedRace.csv')"
   ]
  },
  {
   "cell_type": "code",
   "execution_count": 19,
   "metadata": {},
   "outputs": [
    {
     "output_type": "execute_result",
     "data": {
      "text/plain": [
       "   properties.ObjectId  properties.StopID  properties.PID  \\\n",
       "0                    1               5782               1   \n",
       "1                    2               5785               1   \n",
       "2                    3               5786               1   \n",
       "3                    4               5787               1   \n",
       "4                    5               5787               1   \n",
       "\n",
       "  properties.perceivedRace  \n",
       "0                    White  \n",
       "1                    White  \n",
       "2                    White  \n",
       "3                    Asian  \n",
       "4                    Black  "
      ],
      "text/html": "<div>\n<style scoped>\n    .dataframe tbody tr th:only-of-type {\n        vertical-align: middle;\n    }\n\n    .dataframe tbody tr th {\n        vertical-align: top;\n    }\n\n    .dataframe thead th {\n        text-align: right;\n    }\n</style>\n<table border=\"1\" class=\"dataframe\">\n  <thead>\n    <tr style=\"text-align: right;\">\n      <th></th>\n      <th>properties.ObjectId</th>\n      <th>properties.StopID</th>\n      <th>properties.PID</th>\n      <th>properties.perceivedRace</th>\n    </tr>\n  </thead>\n  <tbody>\n    <tr>\n      <th>0</th>\n      <td>1</td>\n      <td>5782</td>\n      <td>1</td>\n      <td>White</td>\n    </tr>\n    <tr>\n      <th>1</th>\n      <td>2</td>\n      <td>5785</td>\n      <td>1</td>\n      <td>White</td>\n    </tr>\n    <tr>\n      <th>2</th>\n      <td>3</td>\n      <td>5786</td>\n      <td>1</td>\n      <td>White</td>\n    </tr>\n    <tr>\n      <th>3</th>\n      <td>4</td>\n      <td>5787</td>\n      <td>1</td>\n      <td>Asian</td>\n    </tr>\n    <tr>\n      <th>4</th>\n      <td>5</td>\n      <td>5787</td>\n      <td>1</td>\n      <td>Black</td>\n    </tr>\n  </tbody>\n</table>\n</div>"
     },
     "metadata": {},
     "execution_count": 19
    }
   ],
   "source": [
    "df_race.head()"
   ]
  },
  {
   "cell_type": "code",
   "execution_count": 20,
   "metadata": {},
   "outputs": [],
   "source": [
    "df_race.rename(columns=lambda x: re.sub('properties.', '', x), inplace=True)"
   ]
  },
  {
   "cell_type": "code",
   "execution_count": 21,
   "metadata": {},
   "outputs": [],
   "source": [
    "df_race = pd.get_dummies(df_race).groupby(['StopID', 'PID']).sum().rename(columns=lambda x: re.sub('perceivedRace_', 'perceived_', x))"
   ]
  },
  {
   "cell_type": "code",
   "execution_count": 22,
   "metadata": {},
   "outputs": [],
   "source": [
    "df_race = df_race.reset_index()"
   ]
  },
  {
   "cell_type": "code",
   "execution_count": 23,
   "metadata": {},
   "outputs": [
    {
     "output_type": "execute_result",
     "data": {
      "text/plain": [
       "   StopID  PID  ObjectId  perceived_Asian  perceived_Black  \\\n",
       "0    5782    1         1                0                0   \n",
       "1    5785    1         2                0                0   \n",
       "2    5786    1         3                0                0   \n",
       "3    5787    1        49                1                1   \n",
       "4    5788    1        11                0                0   \n",
       "\n",
       "   perceived_Hispanic  perceived_Middle Eastern or South Asian  \\\n",
       "0                   0                                        0   \n",
       "1                   0                                        0   \n",
       "2                   0                                        0   \n",
       "3                   1                                        1   \n",
       "4                   0                                        0   \n",
       "\n",
       "   perceived_Native American  perceived_Pacific Islander  perceived_White  \n",
       "0                          0                           0                1  \n",
       "1                          0                           0                1  \n",
       "2                          0                           0                1  \n",
       "3                          1                           1                1  \n",
       "4                          0                           0                1  "
      ],
      "text/html": "<div>\n<style scoped>\n    .dataframe tbody tr th:only-of-type {\n        vertical-align: middle;\n    }\n\n    .dataframe tbody tr th {\n        vertical-align: top;\n    }\n\n    .dataframe thead th {\n        text-align: right;\n    }\n</style>\n<table border=\"1\" class=\"dataframe\">\n  <thead>\n    <tr style=\"text-align: right;\">\n      <th></th>\n      <th>StopID</th>\n      <th>PID</th>\n      <th>ObjectId</th>\n      <th>perceived_Asian</th>\n      <th>perceived_Black</th>\n      <th>perceived_Hispanic</th>\n      <th>perceived_Middle Eastern or South Asian</th>\n      <th>perceived_Native American</th>\n      <th>perceived_Pacific Islander</th>\n      <th>perceived_White</th>\n    </tr>\n  </thead>\n  <tbody>\n    <tr>\n      <th>0</th>\n      <td>5782</td>\n      <td>1</td>\n      <td>1</td>\n      <td>0</td>\n      <td>0</td>\n      <td>0</td>\n      <td>0</td>\n      <td>0</td>\n      <td>0</td>\n      <td>1</td>\n    </tr>\n    <tr>\n      <th>1</th>\n      <td>5785</td>\n      <td>1</td>\n      <td>2</td>\n      <td>0</td>\n      <td>0</td>\n      <td>0</td>\n      <td>0</td>\n      <td>0</td>\n      <td>0</td>\n      <td>1</td>\n    </tr>\n    <tr>\n      <th>2</th>\n      <td>5786</td>\n      <td>1</td>\n      <td>3</td>\n      <td>0</td>\n      <td>0</td>\n      <td>0</td>\n      <td>0</td>\n      <td>0</td>\n      <td>0</td>\n      <td>1</td>\n    </tr>\n    <tr>\n      <th>3</th>\n      <td>5787</td>\n      <td>1</td>\n      <td>49</td>\n      <td>1</td>\n      <td>1</td>\n      <td>1</td>\n      <td>1</td>\n      <td>1</td>\n      <td>1</td>\n      <td>1</td>\n    </tr>\n    <tr>\n      <th>4</th>\n      <td>5788</td>\n      <td>1</td>\n      <td>11</td>\n      <td>0</td>\n      <td>0</td>\n      <td>0</td>\n      <td>0</td>\n      <td>0</td>\n      <td>0</td>\n      <td>1</td>\n    </tr>\n  </tbody>\n</table>\n</div>"
     },
     "metadata": {},
     "execution_count": 23
    }
   ],
   "source": [
    "df_race.head()"
   ]
  },
  {
   "cell_type": "code",
   "execution_count": 24,
   "metadata": {},
   "outputs": [
    {
     "output_type": "execute_result",
     "data": {
      "text/plain": [
       "StopID                                     1104735434\n",
       "PID                                             46514\n",
       "ObjectId                                   1157550670\n",
       "perceived_Asian                                  3150\n",
       "perceived_Black                                 12472\n",
       "perceived_Hispanic                              16716\n",
       "perceived_Middle Eastern or South Asian          1804\n",
       "perceived_Native American                        1301\n",
       "perceived_Pacific Islander                       1700\n",
       "perceived_White                                 10972\n",
       "dtype: int64"
      ]
     },
     "metadata": {},
     "execution_count": 24
    }
   ],
   "source": [
    "df_race.sum()"
   ]
  },
  {
   "cell_type": "code",
   "execution_count": 25,
   "metadata": {},
   "outputs": [
    {
     "output_type": "execute_result",
     "data": {
      "text/plain": [
       "   StopID  PID  ObjectId  perceived_Asian  perceived_Black  \\\n",
       "0    5782    1         1                0                0   \n",
       "1    5785    1         2                0                0   \n",
       "2    5786    1         3                0                0   \n",
       "3    5787    1        49                1                1   \n",
       "4    5788    1        11                0                0   \n",
       "\n",
       "   perceived_Hispanic  perceived_Middle Eastern or South Asian  \\\n",
       "0                   0                                        0   \n",
       "1                   0                                        0   \n",
       "2                   0                                        0   \n",
       "3                   1                                        1   \n",
       "4                   0                                        0   \n",
       "\n",
       "   perceived_Native American  perceived_Pacific Islander  perceived_White  \n",
       "0                          0                           0                1  \n",
       "1                          0                           0                1  \n",
       "2                          0                           0                1  \n",
       "3                          1                           1                1  \n",
       "4                          0                           0                1  "
      ],
      "text/html": "<div>\n<style scoped>\n    .dataframe tbody tr th:only-of-type {\n        vertical-align: middle;\n    }\n\n    .dataframe tbody tr th {\n        vertical-align: top;\n    }\n\n    .dataframe thead th {\n        text-align: right;\n    }\n</style>\n<table border=\"1\" class=\"dataframe\">\n  <thead>\n    <tr style=\"text-align: right;\">\n      <th></th>\n      <th>StopID</th>\n      <th>PID</th>\n      <th>ObjectId</th>\n      <th>perceived_Asian</th>\n      <th>perceived_Black</th>\n      <th>perceived_Hispanic</th>\n      <th>perceived_Middle Eastern or South Asian</th>\n      <th>perceived_Native American</th>\n      <th>perceived_Pacific Islander</th>\n      <th>perceived_White</th>\n    </tr>\n  </thead>\n  <tbody>\n    <tr>\n      <th>0</th>\n      <td>5782</td>\n      <td>1</td>\n      <td>1</td>\n      <td>0</td>\n      <td>0</td>\n      <td>0</td>\n      <td>0</td>\n      <td>0</td>\n      <td>0</td>\n      <td>1</td>\n    </tr>\n    <tr>\n      <th>1</th>\n      <td>5785</td>\n      <td>1</td>\n      <td>2</td>\n      <td>0</td>\n      <td>0</td>\n      <td>0</td>\n      <td>0</td>\n      <td>0</td>\n      <td>0</td>\n      <td>1</td>\n    </tr>\n    <tr>\n      <th>2</th>\n      <td>5786</td>\n      <td>1</td>\n      <td>3</td>\n      <td>0</td>\n      <td>0</td>\n      <td>0</td>\n      <td>0</td>\n      <td>0</td>\n      <td>0</td>\n      <td>1</td>\n    </tr>\n    <tr>\n      <th>3</th>\n      <td>5787</td>\n      <td>1</td>\n      <td>49</td>\n      <td>1</td>\n      <td>1</td>\n      <td>1</td>\n      <td>1</td>\n      <td>1</td>\n      <td>1</td>\n      <td>1</td>\n    </tr>\n    <tr>\n      <th>4</th>\n      <td>5788</td>\n      <td>1</td>\n      <td>11</td>\n      <td>0</td>\n      <td>0</td>\n      <td>0</td>\n      <td>0</td>\n      <td>0</td>\n      <td>0</td>\n      <td>1</td>\n    </tr>\n  </tbody>\n</table>\n</div>"
     },
     "metadata": {},
     "execution_count": 25
    }
   ],
   "source": [
    "df_race = pd.read_csv('./raw_data/1. perceivedRace.csv')\n",
    "df_race.rename(columns=lambda x: re.sub('properties.', '', x), inplace=True)\n",
    "df_race = pd.get_dummies(df_race).groupby(['StopID', 'PID']).sum()\n",
    "df_race.rename(columns=lambda x: re.sub('perceivedRace_', 'perceived_', x), inplace=True)\n",
    "df_race = df_race.reset_index()\n",
    "df_race.head()"
   ]
  },
  {
   "source": [
    "## Clean Disability Table:"
   ],
   "cell_type": "markdown",
   "metadata": {}
  },
  {
   "cell_type": "code",
   "execution_count": 26,
   "metadata": {},
   "outputs": [
    {
     "output_type": "execute_result",
     "data": {
      "text/plain": [
       "   properties.ObjectId  properties.StopID  properties.PID  \\\n",
       "0                    1               5782               1   \n",
       "1                    2               5785               1   \n",
       "2                    3               5786               1   \n",
       "\n",
       "  properties.perceivedOrKnownDisability  \n",
       "0                                  None  \n",
       "1                                  None  \n",
       "2                                  None  "
      ],
      "text/html": "<div>\n<style scoped>\n    .dataframe tbody tr th:only-of-type {\n        vertical-align: middle;\n    }\n\n    .dataframe tbody tr th {\n        vertical-align: top;\n    }\n\n    .dataframe thead th {\n        text-align: right;\n    }\n</style>\n<table border=\"1\" class=\"dataframe\">\n  <thead>\n    <tr style=\"text-align: right;\">\n      <th></th>\n      <th>properties.ObjectId</th>\n      <th>properties.StopID</th>\n      <th>properties.PID</th>\n      <th>properties.perceivedOrKnownDisability</th>\n    </tr>\n  </thead>\n  <tbody>\n    <tr>\n      <th>0</th>\n      <td>1</td>\n      <td>5782</td>\n      <td>1</td>\n      <td>None</td>\n    </tr>\n    <tr>\n      <th>1</th>\n      <td>2</td>\n      <td>5785</td>\n      <td>1</td>\n      <td>None</td>\n    </tr>\n    <tr>\n      <th>2</th>\n      <td>3</td>\n      <td>5786</td>\n      <td>1</td>\n      <td>None</td>\n    </tr>\n  </tbody>\n</table>\n</div>"
     },
     "metadata": {},
     "execution_count": 26
    }
   ],
   "source": [
    "disability_df = pd.read_csv('./raw_data/2. perceivedKnownDisability.csv')\n",
    "disability_df.head(3)"
   ]
  },
  {
   "cell_type": "code",
   "execution_count": 27,
   "metadata": {},
   "outputs": [
    {
     "output_type": "execute_result",
     "data": {
      "text/plain": [
       "   ObjectId  StopID  PID Disability\n",
       "0         1    5782    1       None\n",
       "1         2    5785    1       None\n",
       "2         3    5786    1       None"
      ],
      "text/html": "<div>\n<style scoped>\n    .dataframe tbody tr th:only-of-type {\n        vertical-align: middle;\n    }\n\n    .dataframe tbody tr th {\n        vertical-align: top;\n    }\n\n    .dataframe thead th {\n        text-align: right;\n    }\n</style>\n<table border=\"1\" class=\"dataframe\">\n  <thead>\n    <tr style=\"text-align: right;\">\n      <th></th>\n      <th>ObjectId</th>\n      <th>StopID</th>\n      <th>PID</th>\n      <th>Disability</th>\n    </tr>\n  </thead>\n  <tbody>\n    <tr>\n      <th>0</th>\n      <td>1</td>\n      <td>5782</td>\n      <td>1</td>\n      <td>None</td>\n    </tr>\n    <tr>\n      <th>1</th>\n      <td>2</td>\n      <td>5785</td>\n      <td>1</td>\n      <td>None</td>\n    </tr>\n    <tr>\n      <th>2</th>\n      <td>3</td>\n      <td>5786</td>\n      <td>1</td>\n      <td>None</td>\n    </tr>\n  </tbody>\n</table>\n</div>"
     },
     "metadata": {},
     "execution_count": 27
    }
   ],
   "source": [
    "disability_df.rename(columns= lambda x: re.sub('properties.', '', x), inplace=True)\n",
    "disability_df.rename(columns= lambda x: re.sub('perceivedOrKnown', '', x), inplace=True)\n",
    "disability_df.head(3)"
   ]
  },
  {
   "cell_type": "code",
   "execution_count": 28,
   "metadata": {},
   "outputs": [
    {
     "output_type": "execute_result",
     "data": {
      "text/plain": [
       "array(['None', 'Mental health condition',\n",
       "       'Speech impairment or limited use of language', 'Other disability',\n",
       "       'Deafness or difficulty hearing', 'Blind or limited vision',\n",
       "       'Intellectual or developmental disability, including dementia'],\n",
       "      dtype=object)"
      ]
     },
     "metadata": {},
     "execution_count": 28
    }
   ],
   "source": [
    "disability_df['Disability'].unique()"
   ]
  },
  {
   "cell_type": "code",
   "execution_count": 29,
   "metadata": {},
   "outputs": [
    {
     "output_type": "stream",
     "name": "stdout",
     "text": [
      "<class 'pandas.core.frame.DataFrame'>\nRangeIndex: 40585 entries, 0 to 40584\nData columns (total 4 columns):\n #   Column      Non-Null Count  Dtype \n---  ------      --------------  ----- \n 0   ObjectId    40585 non-null  int64 \n 1   StopID      40585 non-null  int64 \n 2   PID         40585 non-null  int64 \n 3   Disability  40585 non-null  object\ndtypes: int64(3), object(1)\nmemory usage: 1.2+ MB\n"
     ]
    }
   ],
   "source": [
    "disability_df.info()"
   ]
  },
  {
   "cell_type": "code",
   "execution_count": 30,
   "metadata": {},
   "outputs": [
    {
     "output_type": "execute_result",
     "data": {
      "text/plain": [
       "   ObjectId  StopID  PID  DA_Blind or limited vision  \\\n",
       "0         1    5782    1                           0   \n",
       "1         2    5785    1                           0   \n",
       "2         3    5786    1                           0   \n",
       "3         4    5787    1                           0   \n",
       "4         5    5788    1                           0   \n",
       "\n",
       "   DA_Deafness or difficulty hearing  \\\n",
       "0                                  0   \n",
       "1                                  0   \n",
       "2                                  0   \n",
       "3                                  0   \n",
       "4                                  0   \n",
       "\n",
       "   DA_Intellectual or developmental disability, including dementia  \\\n",
       "0                                                  0                 \n",
       "1                                                  0                 \n",
       "2                                                  0                 \n",
       "3                                                  0                 \n",
       "4                                                  0                 \n",
       "\n",
       "   DA_Mental health condition  DA_Other disability  \\\n",
       "0                           0                    0   \n",
       "1                           0                    0   \n",
       "2                           0                    0   \n",
       "3                           0                    0   \n",
       "4                           0                    0   \n",
       "\n",
       "   DA_Speech impairment or limited use of language  \n",
       "0                                                0  \n",
       "1                                                0  \n",
       "2                                                0  \n",
       "3                                                0  \n",
       "4                                                0  "
      ],
      "text/html": "<div>\n<style scoped>\n    .dataframe tbody tr th:only-of-type {\n        vertical-align: middle;\n    }\n\n    .dataframe tbody tr th {\n        vertical-align: top;\n    }\n\n    .dataframe thead th {\n        text-align: right;\n    }\n</style>\n<table border=\"1\" class=\"dataframe\">\n  <thead>\n    <tr style=\"text-align: right;\">\n      <th></th>\n      <th>ObjectId</th>\n      <th>StopID</th>\n      <th>PID</th>\n      <th>DA_Blind or limited vision</th>\n      <th>DA_Deafness or difficulty hearing</th>\n      <th>DA_Intellectual or developmental disability, including dementia</th>\n      <th>DA_Mental health condition</th>\n      <th>DA_Other disability</th>\n      <th>DA_Speech impairment or limited use of language</th>\n    </tr>\n  </thead>\n  <tbody>\n    <tr>\n      <th>0</th>\n      <td>1</td>\n      <td>5782</td>\n      <td>1</td>\n      <td>0</td>\n      <td>0</td>\n      <td>0</td>\n      <td>0</td>\n      <td>0</td>\n      <td>0</td>\n    </tr>\n    <tr>\n      <th>1</th>\n      <td>2</td>\n      <td>5785</td>\n      <td>1</td>\n      <td>0</td>\n      <td>0</td>\n      <td>0</td>\n      <td>0</td>\n      <td>0</td>\n      <td>0</td>\n    </tr>\n    <tr>\n      <th>2</th>\n      <td>3</td>\n      <td>5786</td>\n      <td>1</td>\n      <td>0</td>\n      <td>0</td>\n      <td>0</td>\n      <td>0</td>\n      <td>0</td>\n      <td>0</td>\n    </tr>\n    <tr>\n      <th>3</th>\n      <td>4</td>\n      <td>5787</td>\n      <td>1</td>\n      <td>0</td>\n      <td>0</td>\n      <td>0</td>\n      <td>0</td>\n      <td>0</td>\n      <td>0</td>\n    </tr>\n    <tr>\n      <th>4</th>\n      <td>5</td>\n      <td>5788</td>\n      <td>1</td>\n      <td>0</td>\n      <td>0</td>\n      <td>0</td>\n      <td>0</td>\n      <td>0</td>\n      <td>0</td>\n    </tr>\n  </tbody>\n</table>\n</div>"
     },
     "metadata": {},
     "execution_count": 30
    }
   ],
   "source": [
    "disability_df = pd.get_dummies(disability_df)\n",
    "disability_df.drop('Disability_None', axis=1, inplace=True)\n",
    "disability_df.rename(columns=lambda x: re.sub('Disability_', 'DA_', x), inplace=True)\n",
    "disability_df.head()"
   ]
  },
  {
   "cell_type": "code",
   "execution_count": 31,
   "metadata": {},
   "outputs": [],
   "source": [
    "# Cleaning function\n",
    "# disability_df.rename(columns= lambda x: re.sub('perceivedOrKnown', '', x), inplace=True)\n",
    "# disability_df = pd.get_dummies(disability_df)\n",
    "# disability_df.drop('Disability_None', axis=1, inplace=True)\n",
    "# disability_df.rename(columns=lambda x: re.sub('Disability_', 'DA_', x), inplace=True)"
   ]
  },
  {
   "source": [
    "## 3. Clean Reason for Stop"
   ],
   "cell_type": "markdown",
   "metadata": {}
  },
  {
   "cell_type": "code",
   "execution_count": 32,
   "metadata": {},
   "outputs": [],
   "source": [
    "reason_stop_df = pd.read_csv('./raw_data/3. reasonForStop.csv')\n",
    "reason_stop_df.rename(columns= lambda x: re.sub('properties.', '', x), inplace=True)"
   ]
  },
  {
   "cell_type": "code",
   "execution_count": 33,
   "metadata": {},
   "outputs": [
    {
     "output_type": "execute_result",
     "data": {
      "text/plain": [
       "   ObjectId  StopID  PID         reasonForStop  \\\n",
       "0         1    5782    1  Reasonable Suspicion   \n",
       "1         2    5785    1  Reasonable Suspicion   \n",
       "2         3    5786    1  Reasonable Suspicion   \n",
       "\n",
       "                     reasonForStopDetail  reasonForStopcode  \\\n",
       "0  Other Reasonable Suspicion of a crime              38021   \n",
       "1  Other Reasonable Suspicion of a crime              65002   \n",
       "2  Other Reasonable Suspicion of a crime              32096   \n",
       "\n",
       "                               reasonForStopCodeText  \n",
       "0     273(A) PC - ILLEGAL PAY FOR ADOPTION (M) 38021  \n",
       "1          65002 ZZ - LOCAL ORDINANCE VIOL (I) 65002  \n",
       "2  602(L)(1) PC - TRSPSS:PSTD LND:RFS TO LV (M) 3...  "
      ],
      "text/html": "<div>\n<style scoped>\n    .dataframe tbody tr th:only-of-type {\n        vertical-align: middle;\n    }\n\n    .dataframe tbody tr th {\n        vertical-align: top;\n    }\n\n    .dataframe thead th {\n        text-align: right;\n    }\n</style>\n<table border=\"1\" class=\"dataframe\">\n  <thead>\n    <tr style=\"text-align: right;\">\n      <th></th>\n      <th>ObjectId</th>\n      <th>StopID</th>\n      <th>PID</th>\n      <th>reasonForStop</th>\n      <th>reasonForStopDetail</th>\n      <th>reasonForStopcode</th>\n      <th>reasonForStopCodeText</th>\n    </tr>\n  </thead>\n  <tbody>\n    <tr>\n      <th>0</th>\n      <td>1</td>\n      <td>5782</td>\n      <td>1</td>\n      <td>Reasonable Suspicion</td>\n      <td>Other Reasonable Suspicion of a crime</td>\n      <td>38021</td>\n      <td>273(A) PC - ILLEGAL PAY FOR ADOPTION (M) 38021</td>\n    </tr>\n    <tr>\n      <th>1</th>\n      <td>2</td>\n      <td>5785</td>\n      <td>1</td>\n      <td>Reasonable Suspicion</td>\n      <td>Other Reasonable Suspicion of a crime</td>\n      <td>65002</td>\n      <td>65002 ZZ - LOCAL ORDINANCE VIOL (I) 65002</td>\n    </tr>\n    <tr>\n      <th>2</th>\n      <td>3</td>\n      <td>5786</td>\n      <td>1</td>\n      <td>Reasonable Suspicion</td>\n      <td>Other Reasonable Suspicion of a crime</td>\n      <td>32096</td>\n      <td>602(L)(1) PC - TRSPSS:PSTD LND:RFS TO LV (M) 3...</td>\n    </tr>\n  </tbody>\n</table>\n</div>"
     },
     "metadata": {},
     "execution_count": 33
    }
   ],
   "source": [
    "reason_stop_df.head(3)"
   ]
  },
  {
   "cell_type": "code",
   "execution_count": 34,
   "metadata": {},
   "outputs": [
    {
     "output_type": "execute_result",
     "data": {
      "text/plain": [
       "(41526, 7)"
      ]
     },
     "metadata": {},
     "execution_count": 34
    }
   ],
   "source": [
    "reason_stop_df.shape"
   ]
  },
  {
   "cell_type": "code",
   "execution_count": 35,
   "metadata": {},
   "outputs": [
    {
     "output_type": "execute_result",
     "data": {
      "text/plain": [
       "ObjectId                 41526\n",
       "StopID                   36788\n",
       "PID                         19\n",
       "reasonForStop                8\n",
       "reasonForStopDetail         14\n",
       "reasonForStopcode          872\n",
       "reasonForStopCodeText      871\n",
       "dtype: int64"
      ]
     },
     "metadata": {},
     "execution_count": 35
    }
   ],
   "source": [
    "reason_stop_df.nunique()"
   ]
  },
  {
   "cell_type": "code",
   "execution_count": 36,
   "metadata": {},
   "outputs": [
    {
     "output_type": "execute_result",
     "data": {
      "text/plain": [
       "array(['Reasonable Suspicion', 'Traffic Violation',\n",
       "       'Knowledge of outstanding arrest warrant/wanted person',\n",
       "       'Investigation to determine whether the person was truant',\n",
       "       'Consensual Encounter resulting in a search',\n",
       "       'Known to be on Parole / Probation / PRCS / Mandatory Supervision',\n",
       "       'Determine whether the student violated school policy',\n",
       "       'Possible conduct warranting discipline under Education Code sections 48900, 48900.2, 48900.3, 48900.4 and 48900.7'],\n",
       "      dtype=object)"
      ]
     },
     "metadata": {},
     "execution_count": 36
    }
   ],
   "source": [
    "reason_stop_df['reasonForStop'].unique()"
   ]
  },
  {
   "cell_type": "code",
   "execution_count": 37,
   "metadata": {},
   "outputs": [
    {
     "output_type": "execute_result",
     "data": {
      "text/plain": [
       "array(['Other Reasonable Suspicion of a crime', 'Moving Violation',\n",
       "       'Matched suspect description',\n",
       "       'Non-moving Violation, including Registration Violation',\n",
       "       'Officer witnessed commission of a crime', nan,\n",
       "       'Witness or Victim identification of Suspect at the scene',\n",
       "       'Actions indicative of engaging in violent crime',\n",
       "       'Equipment Violation', 'Carrying Suspicious Object',\n",
       "       'Suspected of Acting as Lookout',\n",
       "       'Actions indicative of casing a victim or location',\n",
       "       'Actions indicative of drug transaction',\n",
       "       '48900.3 - Suspension or expulsion for hate violence',\n",
       "       '48900 - Suspension or expulsion (select subsection)'],\n",
       "      dtype=object)"
      ]
     },
     "metadata": {},
     "execution_count": 37
    }
   ],
   "source": [
    "reason_stop_df['reasonForStopDetail'].unique()"
   ]
  },
  {
   "cell_type": "code",
   "execution_count": 38,
   "metadata": {},
   "outputs": [],
   "source": [
    "rfs_df = pd.get_dummies(reason_stop_df.drop(['ObjectId','reasonForStopcode', 'reasonForStopCodeText'], axis=1)).groupby(['StopID', 'PID']).sum()"
   ]
  },
  {
   "cell_type": "code",
   "execution_count": 39,
   "metadata": {},
   "outputs": [],
   "source": [
    "rfs_df.rename(columns=lambda x: re.sub('reasonForStop_', 'RFS_', x), inplace=True)\n",
    "rfs_df.rename(columns=lambda x: re.sub('reasonForStopDetail_', 'RFS_Detail_', x), inplace=True)"
   ]
  },
  {
   "cell_type": "code",
   "execution_count": 40,
   "metadata": {},
   "outputs": [
    {
     "output_type": "execute_result",
     "data": {
      "text/plain": [
       "            RFS_Consensual Encounter resulting in a search  \\\n",
       "StopID PID                                                   \n",
       "5782   1                                                 0   \n",
       "5785   1                                                 0   \n",
       "\n",
       "            RFS_Determine whether the student violated school policy  \\\n",
       "StopID PID                                                             \n",
       "5782   1                                                    0          \n",
       "5785   1                                                    0          \n",
       "\n",
       "            RFS_Investigation to determine whether the person was truant  \\\n",
       "StopID PID                                                                 \n",
       "5782   1                                                    0              \n",
       "5785   1                                                    0              \n",
       "\n",
       "            RFS_Knowledge of outstanding arrest warrant/wanted person  \\\n",
       "StopID PID                                                              \n",
       "5782   1                                                    0           \n",
       "5785   1                                                    0           \n",
       "\n",
       "            RFS_Known to be on Parole / Probation / PRCS / Mandatory Supervision  \\\n",
       "StopID PID                                                                         \n",
       "5782   1                                                    0                      \n",
       "5785   1                                                    0                      \n",
       "\n",
       "            RFS_Possible conduct warranting discipline under Education Code sections 48900, 48900.2, 48900.3, 48900.4 and 48900.7  \\\n",
       "StopID PID                                                                                                                          \n",
       "5782   1                                                    0                                                                       \n",
       "5785   1                                                    0                                                                       \n",
       "\n",
       "            RFS_Reasonable Suspicion  RFS_Traffic Violation  \\\n",
       "StopID PID                                                    \n",
       "5782   1                           1                      0   \n",
       "5785   1                           1                      0   \n",
       "\n",
       "            RFS_Detail_48900 - Suspension or expulsion (select subsection)  \\\n",
       "StopID PID                                                                   \n",
       "5782   1                                                    0                \n",
       "5785   1                                                    0                \n",
       "\n",
       "            RFS_Detail_48900.3 - Suspension or expulsion for hate violence  \\\n",
       "StopID PID                                                                   \n",
       "5782   1                                                    0                \n",
       "5785   1                                                    0                \n",
       "\n",
       "            ...  RFS_Detail_Actions indicative of engaging in violent crime  \\\n",
       "StopID PID  ...                                                               \n",
       "5782   1    ...                                                  0            \n",
       "5785   1    ...                                                  0            \n",
       "\n",
       "            RFS_Detail_Carrying Suspicious Object  \\\n",
       "StopID PID                                          \n",
       "5782   1                                        0   \n",
       "5785   1                                        0   \n",
       "\n",
       "            RFS_Detail_Equipment Violation  \\\n",
       "StopID PID                                   \n",
       "5782   1                                 0   \n",
       "5785   1                                 0   \n",
       "\n",
       "            RFS_Detail_Matched suspect description  \\\n",
       "StopID PID                                           \n",
       "5782   1                                         0   \n",
       "5785   1                                         0   \n",
       "\n",
       "            RFS_Detail_Moving Violation  \\\n",
       "StopID PID                                \n",
       "5782   1                              0   \n",
       "5785   1                              0   \n",
       "\n",
       "            RFS_Detail_Non-moving Violation, including Registration Violation  \\\n",
       "StopID PID                                                                      \n",
       "5782   1                                                    0                   \n",
       "5785   1                                                    0                   \n",
       "\n",
       "            RFS_Detail_Officer witnessed commission of a crime  \\\n",
       "StopID PID                                                       \n",
       "5782   1                                                    0    \n",
       "5785   1                                                    0    \n",
       "\n",
       "            RFS_Detail_Other Reasonable Suspicion of a crime  \\\n",
       "StopID PID                                                     \n",
       "5782   1                                                   1   \n",
       "5785   1                                                   1   \n",
       "\n",
       "            RFS_Detail_Suspected of Acting as Lookout  \\\n",
       "StopID PID                                              \n",
       "5782   1                                            0   \n",
       "5785   1                                            0   \n",
       "\n",
       "            RFS_Detail_Witness or Victim identification of Suspect at the scene  \n",
       "StopID PID                                                                       \n",
       "5782   1                                                    0                    \n",
       "5785   1                                                    0                    \n",
       "\n",
       "[2 rows x 22 columns]"
      ],
      "text/html": "<div>\n<style scoped>\n    .dataframe tbody tr th:only-of-type {\n        vertical-align: middle;\n    }\n\n    .dataframe tbody tr th {\n        vertical-align: top;\n    }\n\n    .dataframe thead th {\n        text-align: right;\n    }\n</style>\n<table border=\"1\" class=\"dataframe\">\n  <thead>\n    <tr style=\"text-align: right;\">\n      <th></th>\n      <th></th>\n      <th>RFS_Consensual Encounter resulting in a search</th>\n      <th>RFS_Determine whether the student violated school policy</th>\n      <th>RFS_Investigation to determine whether the person was truant</th>\n      <th>RFS_Knowledge of outstanding arrest warrant/wanted person</th>\n      <th>RFS_Known to be on Parole / Probation / PRCS / Mandatory Supervision</th>\n      <th>RFS_Possible conduct warranting discipline under Education Code sections 48900, 48900.2, 48900.3, 48900.4 and 48900.7</th>\n      <th>RFS_Reasonable Suspicion</th>\n      <th>RFS_Traffic Violation</th>\n      <th>RFS_Detail_48900 - Suspension or expulsion (select subsection)</th>\n      <th>RFS_Detail_48900.3 - Suspension or expulsion for hate violence</th>\n      <th>...</th>\n      <th>RFS_Detail_Actions indicative of engaging in violent crime</th>\n      <th>RFS_Detail_Carrying Suspicious Object</th>\n      <th>RFS_Detail_Equipment Violation</th>\n      <th>RFS_Detail_Matched suspect description</th>\n      <th>RFS_Detail_Moving Violation</th>\n      <th>RFS_Detail_Non-moving Violation, including Registration Violation</th>\n      <th>RFS_Detail_Officer witnessed commission of a crime</th>\n      <th>RFS_Detail_Other Reasonable Suspicion of a crime</th>\n      <th>RFS_Detail_Suspected of Acting as Lookout</th>\n      <th>RFS_Detail_Witness or Victim identification of Suspect at the scene</th>\n    </tr>\n    <tr>\n      <th>StopID</th>\n      <th>PID</th>\n      <th></th>\n      <th></th>\n      <th></th>\n      <th></th>\n      <th></th>\n      <th></th>\n      <th></th>\n      <th></th>\n      <th></th>\n      <th></th>\n      <th></th>\n      <th></th>\n      <th></th>\n      <th></th>\n      <th></th>\n      <th></th>\n      <th></th>\n      <th></th>\n      <th></th>\n      <th></th>\n      <th></th>\n    </tr>\n  </thead>\n  <tbody>\n    <tr>\n      <th>5782</th>\n      <th>1</th>\n      <td>0</td>\n      <td>0</td>\n      <td>0</td>\n      <td>0</td>\n      <td>0</td>\n      <td>0</td>\n      <td>1</td>\n      <td>0</td>\n      <td>0</td>\n      <td>0</td>\n      <td>...</td>\n      <td>0</td>\n      <td>0</td>\n      <td>0</td>\n      <td>0</td>\n      <td>0</td>\n      <td>0</td>\n      <td>0</td>\n      <td>1</td>\n      <td>0</td>\n      <td>0</td>\n    </tr>\n    <tr>\n      <th>5785</th>\n      <th>1</th>\n      <td>0</td>\n      <td>0</td>\n      <td>0</td>\n      <td>0</td>\n      <td>0</td>\n      <td>0</td>\n      <td>1</td>\n      <td>0</td>\n      <td>0</td>\n      <td>0</td>\n      <td>...</td>\n      <td>0</td>\n      <td>0</td>\n      <td>0</td>\n      <td>0</td>\n      <td>0</td>\n      <td>0</td>\n      <td>0</td>\n      <td>1</td>\n      <td>0</td>\n      <td>0</td>\n    </tr>\n  </tbody>\n</table>\n<p>2 rows × 22 columns</p>\n</div>"
     },
     "metadata": {},
     "execution_count": 40
    }
   ],
   "source": [
    "rfs_df.head(2)"
   ]
  },
  {
   "cell_type": "code",
   "execution_count": 41,
   "metadata": {},
   "outputs": [],
   "source": [
    "# Function\n",
    "# rfs_df = pd.get_dummies(reason_stop_df.drop(['ObjectId','reasonForStopcode', 'reasonForStopCodeText'], axis=1)).groupby(['StopID','PID']).sum()\n",
    "# rfs_df.rename(columns=lambda x: re.sub('reasonForStop_', 'RFS_', x), inplace=True)\n",
    "# rfs_df.rename(columns=lambda x: re.sub('reasonForStopDetail_', 'RFS_Detail_', x), inplace=True)"
   ]
  },
  {
   "source": [
    "## 4. Clean Actions During Stop\n",
    "* Separate actions dummy columns and consent columns and rejoin after creating dummy columns"
   ],
   "cell_type": "markdown",
   "metadata": {}
  },
  {
   "cell_type": "code",
   "execution_count": 42,
   "metadata": {},
   "outputs": [],
   "source": [
    "actions_stop_df = pd.read_csv('./raw_data/4. actionsDuringStop.csv')\n",
    "actions_stop_df.rename(columns= lambda x: re.sub('properties.', '', x), inplace=True)"
   ]
  },
  {
   "cell_type": "code",
   "execution_count": 43,
   "metadata": {},
   "outputs": [
    {
     "output_type": "execute_result",
     "data": {
      "text/plain": [
       "array([nan, True, False], dtype=object)"
      ]
     },
     "metadata": {},
     "execution_count": 43
    }
   ],
   "source": [
    "actions_stop_df['personSearchConsentGiven'].unique()"
   ]
  },
  {
   "cell_type": "code",
   "execution_count": 44,
   "metadata": {},
   "outputs": [
    {
     "output_type": "execute_result",
     "data": {
      "text/plain": [
       "(59801, 6)"
      ]
     },
     "metadata": {},
     "execution_count": 44
    }
   ],
   "source": [
    "actions_stop_df.shape"
   ]
  },
  {
   "cell_type": "code",
   "execution_count": 45,
   "metadata": {},
   "outputs": [
    {
     "output_type": "execute_result",
     "data": {
      "text/plain": [
       "array(['None', 'Curbside detention', 'Handcuffed or flex cuffed',\n",
       "       'Search of person was conducted', 'Patrol car detention',\n",
       "       'Search of property was conducted',\n",
       "       'Person removed from vehicle by order', 'Property was seized',\n",
       "       'Asked for consent to search person',\n",
       "       'Field sobriety test conducted',\n",
       "       'Asked for consent to search property',\n",
       "       'Physical or Vehicle contact', 'Vehicle impounded',\n",
       "       'Electronic control device used', 'Person photographed',\n",
       "       'Person removed from vehicle by physical contact',\n",
       "       'Firearm pointed at person',\n",
       "       'Canine removed from vehicle or used to search',\n",
       "       'Impact projectile discharged or used',\n",
       "       'Baton or other impact weapon used',\n",
       "       'Admission or written statement obtained from student',\n",
       "       'Canine bit or held person', 'Chemical spray used'], dtype=object)"
      ]
     },
     "metadata": {},
     "execution_count": 45
    }
   ],
   "source": [
    "actions_stop_df['actionTakenDuringStop'].unique()"
   ]
  },
  {
   "cell_type": "code",
   "execution_count": 46,
   "metadata": {},
   "outputs": [
    {
     "output_type": "execute_result",
     "data": {
      "text/plain": [
       "   StopID  PID  Action_Admission or written statement obtained from student  \\\n",
       "0    5782    1                                                  0             \n",
       "1    5785    1                                                  0             \n",
       "2    5786    1                                                  0             \n",
       "\n",
       "   Action_Asked for consent to search person  \\\n",
       "0                                          0   \n",
       "1                                          0   \n",
       "2                                          0   \n",
       "\n",
       "   Action_Asked for consent to search property  \\\n",
       "0                                            0   \n",
       "1                                            0   \n",
       "2                                            0   \n",
       "\n",
       "   Action_Baton or other impact weapon used  Action_Canine bit or held person  \\\n",
       "0                                         0                                 0   \n",
       "1                                         0                                 0   \n",
       "2                                         0                                 0   \n",
       "\n",
       "   Action_Canine removed from vehicle or used to search  \\\n",
       "0                                                  0      \n",
       "1                                                  0      \n",
       "2                                                  0      \n",
       "\n",
       "   Action_Chemical spray used  Action_Curbside detention  ...  \\\n",
       "0                           0                          1  ...   \n",
       "1                           0                          0  ...   \n",
       "2                           0                          1  ...   \n",
       "\n",
       "   Action_Impact projectile discharged or used  Action_Patrol car detention  \\\n",
       "0                                            0                            0   \n",
       "1                                            0                            0   \n",
       "2                                            0                            0   \n",
       "\n",
       "   Action_Person photographed  Action_Person removed from vehicle by order  \\\n",
       "0                           0                                            0   \n",
       "1                           0                                            0   \n",
       "2                           0                                            0   \n",
       "\n",
       "   Action_Person removed from vehicle by physical contact  \\\n",
       "0                                                  0        \n",
       "1                                                  0        \n",
       "2                                                  0        \n",
       "\n",
       "   Action_Physical or Vehicle contact  Action_Property was seized  \\\n",
       "0                                   0                           0   \n",
       "1                                   0                           0   \n",
       "2                                   0                           0   \n",
       "\n",
       "   Action_Search of person was conducted  \\\n",
       "0                                      0   \n",
       "1                                      0   \n",
       "2                                      0   \n",
       "\n",
       "   Action_Search of property was conducted  Action_Vehicle impounded  \n",
       "0                                        0                         0  \n",
       "1                                        0                         0  \n",
       "2                                        0                         0  \n",
       "\n",
       "[3 rows x 24 columns]"
      ],
      "text/html": "<div>\n<style scoped>\n    .dataframe tbody tr th:only-of-type {\n        vertical-align: middle;\n    }\n\n    .dataframe tbody tr th {\n        vertical-align: top;\n    }\n\n    .dataframe thead th {\n        text-align: right;\n    }\n</style>\n<table border=\"1\" class=\"dataframe\">\n  <thead>\n    <tr style=\"text-align: right;\">\n      <th></th>\n      <th>StopID</th>\n      <th>PID</th>\n      <th>Action_Admission or written statement obtained from student</th>\n      <th>Action_Asked for consent to search person</th>\n      <th>Action_Asked for consent to search property</th>\n      <th>Action_Baton or other impact weapon used</th>\n      <th>Action_Canine bit or held person</th>\n      <th>Action_Canine removed from vehicle or used to search</th>\n      <th>Action_Chemical spray used</th>\n      <th>Action_Curbside detention</th>\n      <th>...</th>\n      <th>Action_Impact projectile discharged or used</th>\n      <th>Action_Patrol car detention</th>\n      <th>Action_Person photographed</th>\n      <th>Action_Person removed from vehicle by order</th>\n      <th>Action_Person removed from vehicle by physical contact</th>\n      <th>Action_Physical or Vehicle contact</th>\n      <th>Action_Property was seized</th>\n      <th>Action_Search of person was conducted</th>\n      <th>Action_Search of property was conducted</th>\n      <th>Action_Vehicle impounded</th>\n    </tr>\n  </thead>\n  <tbody>\n    <tr>\n      <th>0</th>\n      <td>5782</td>\n      <td>1</td>\n      <td>0</td>\n      <td>0</td>\n      <td>0</td>\n      <td>0</td>\n      <td>0</td>\n      <td>0</td>\n      <td>0</td>\n      <td>1</td>\n      <td>...</td>\n      <td>0</td>\n      <td>0</td>\n      <td>0</td>\n      <td>0</td>\n      <td>0</td>\n      <td>0</td>\n      <td>0</td>\n      <td>0</td>\n      <td>0</td>\n      <td>0</td>\n    </tr>\n    <tr>\n      <th>1</th>\n      <td>5785</td>\n      <td>1</td>\n      <td>0</td>\n      <td>0</td>\n      <td>0</td>\n      <td>0</td>\n      <td>0</td>\n      <td>0</td>\n      <td>0</td>\n      <td>0</td>\n      <td>...</td>\n      <td>0</td>\n      <td>0</td>\n      <td>0</td>\n      <td>0</td>\n      <td>0</td>\n      <td>0</td>\n      <td>0</td>\n      <td>0</td>\n      <td>0</td>\n      <td>0</td>\n    </tr>\n    <tr>\n      <th>2</th>\n      <td>5786</td>\n      <td>1</td>\n      <td>0</td>\n      <td>0</td>\n      <td>0</td>\n      <td>0</td>\n      <td>0</td>\n      <td>0</td>\n      <td>0</td>\n      <td>1</td>\n      <td>...</td>\n      <td>0</td>\n      <td>0</td>\n      <td>0</td>\n      <td>0</td>\n      <td>0</td>\n      <td>0</td>\n      <td>0</td>\n      <td>0</td>\n      <td>0</td>\n      <td>0</td>\n    </tr>\n  </tbody>\n</table>\n<p>3 rows × 24 columns</p>\n</div>"
     },
     "metadata": {},
     "execution_count": 46
    }
   ],
   "source": [
    "asd1 = pd.get_dummies(actions_stop_df[['StopID', 'PID', 'actionTakenDuringStop']]).groupby(['StopID', 'PID']).sum().reset_index()\n",
    "asd1.rename(columns= lambda x: re.sub('actionTakenDuringStop_', 'Action_', x), inplace=True)\n",
    "asd1.drop('Action_None', axis=1, inplace=True)\n",
    "asd1.head(3)"
   ]
  },
  {
   "cell_type": "code",
   "execution_count": 47,
   "metadata": {},
   "outputs": [
    {
     "output_type": "execute_result",
     "data": {
      "text/plain": [
       "       StopID  PID  personSearchConsentGiven  propertySearchConsentGiven\n",
       "0        5782    1                         0                           0\n",
       "1        5785    1                         0                           0\n",
       "2        5786    1                         0                           0\n",
       "3        5787    1                         0                           0\n",
       "4        5788    1                         0                           0\n",
       "...       ...  ...                       ...                         ...\n",
       "40518   57921    1                         1                           0\n",
       "40519   57922    1                         0                           0\n",
       "40520   57930    1                         0                           0\n",
       "40521   57932    1                         0                           0\n",
       "40522   57933    1                         0                           0\n",
       "\n",
       "[40523 rows x 4 columns]"
      ],
      "text/html": "<div>\n<style scoped>\n    .dataframe tbody tr th:only-of-type {\n        vertical-align: middle;\n    }\n\n    .dataframe tbody tr th {\n        vertical-align: top;\n    }\n\n    .dataframe thead th {\n        text-align: right;\n    }\n</style>\n<table border=\"1\" class=\"dataframe\">\n  <thead>\n    <tr style=\"text-align: right;\">\n      <th></th>\n      <th>StopID</th>\n      <th>PID</th>\n      <th>personSearchConsentGiven</th>\n      <th>propertySearchConsentGiven</th>\n    </tr>\n  </thead>\n  <tbody>\n    <tr>\n      <th>0</th>\n      <td>5782</td>\n      <td>1</td>\n      <td>0</td>\n      <td>0</td>\n    </tr>\n    <tr>\n      <th>1</th>\n      <td>5785</td>\n      <td>1</td>\n      <td>0</td>\n      <td>0</td>\n    </tr>\n    <tr>\n      <th>2</th>\n      <td>5786</td>\n      <td>1</td>\n      <td>0</td>\n      <td>0</td>\n    </tr>\n    <tr>\n      <th>3</th>\n      <td>5787</td>\n      <td>1</td>\n      <td>0</td>\n      <td>0</td>\n    </tr>\n    <tr>\n      <th>4</th>\n      <td>5788</td>\n      <td>1</td>\n      <td>0</td>\n      <td>0</td>\n    </tr>\n    <tr>\n      <th>...</th>\n      <td>...</td>\n      <td>...</td>\n      <td>...</td>\n      <td>...</td>\n    </tr>\n    <tr>\n      <th>40518</th>\n      <td>57921</td>\n      <td>1</td>\n      <td>1</td>\n      <td>0</td>\n    </tr>\n    <tr>\n      <th>40519</th>\n      <td>57922</td>\n      <td>1</td>\n      <td>0</td>\n      <td>0</td>\n    </tr>\n    <tr>\n      <th>40520</th>\n      <td>57930</td>\n      <td>1</td>\n      <td>0</td>\n      <td>0</td>\n    </tr>\n    <tr>\n      <th>40521</th>\n      <td>57932</td>\n      <td>1</td>\n      <td>0</td>\n      <td>0</td>\n    </tr>\n    <tr>\n      <th>40522</th>\n      <td>57933</td>\n      <td>1</td>\n      <td>0</td>\n      <td>0</td>\n    </tr>\n  </tbody>\n</table>\n<p>40523 rows × 4 columns</p>\n</div>"
     },
     "metadata": {},
     "execution_count": 47
    }
   ],
   "source": [
    "asd2 = actions_stop_df.drop(['ObjectId', 'actionTakenDuringStop'], axis=1).drop_duplicates()\n",
    "asd2['personSearchConsentGiven'] = asd2['personSearchConsentGiven'].apply(float)\n",
    "asd2['propertySearchConsentGiven'] = asd2['propertySearchConsentGiven'].apply(float)\n",
    "asd2 = asd2.groupby(['StopID', 'PID']).sum().reset_index()\n",
    "asd2['personSearchConsentGiven'] = asd2['personSearchConsentGiven'].apply(int)\n",
    "asd2['propertySearchConsentGiven'] = asd2['propertySearchConsentGiven'].apply(int)\n",
    "asd2"
   ]
  },
  {
   "cell_type": "code",
   "execution_count": 48,
   "metadata": {},
   "outputs": [],
   "source": [
    "final_asd_df = asd1.merge(asd2, on=['StopID', 'PID'])"
   ]
  },
  {
   "cell_type": "code",
   "execution_count": 49,
   "metadata": {},
   "outputs": [
    {
     "output_type": "stream",
     "name": "stdout",
     "text": [
      "(40523, 24)\n(40523, 4)\n(40523, 26)\n"
     ]
    }
   ],
   "source": [
    "print(asd1.shape)\n",
    "print(asd2.shape)\n",
    "print(final_asd_df.shape)"
   ]
  },
  {
   "cell_type": "code",
   "execution_count": 50,
   "metadata": {},
   "outputs": [],
   "source": [
    "# # Function\n",
    "# actions_stop_df = pd.read_csv('./raw_data/4. actionsDuringStop.csv')\n",
    "# actions_stop_df.rename(columns= lambda x: re.sub('properties.', '', x), inplace=True)\n",
    "\n",
    "# # first half - dummy columns\n",
    "# asd1 = pd.get_dummies(actions_stop_df[['StopID', 'PID', 'actionTakenDuringStop']]).groupby(['StopID', 'PID']).sum().reset_index()\n",
    "# asd1.rename(columns= lambda x: re.sub('actionTakenDuringStop_', 'Action_', x), inplace=True)\n",
    "# asd1.drop('Action_None', axis=1, inplace=True)\n",
    "\n",
    "# # non-dummies to keep and remove duplicates\n",
    "# asd2 = actions_stop_df.drop(['ObjectId', 'actionTakenDuringStop'], axis=1).drop_duplicates()\n",
    "# asd2['personSearchConsentGiven'] = asd2['personSearchConsentGiven'].apply(float)\n",
    "# asd2['propertySearchConsentGiven'] = asd2['propertySearchConsentGiven'].apply(float)\n",
    "# asd2 = asd2.groupby(['StopID', 'PID']).sum().reset_index()\n",
    "# asd2['personSearchConsentGiven'] = asd2['personSearchConsentGiven'].apply(int)\n",
    "# asd2['propertySearchConsentGiven'] = asd2['propertySearchConsentGiven'].apply(int)\n",
    "\n",
    "# final_asd_df = asd1.merge(asd2, on=['StopID', 'PID'])"
   ]
  },
  {
   "source": [
    "## 5. Clean Result of Stop"
   ],
   "cell_type": "markdown",
   "metadata": {}
  },
  {
   "cell_type": "code",
   "execution_count": 51,
   "metadata": {},
   "outputs": [],
   "source": [
    "result_stop_df = pd.read_csv('./raw_data/5. resultofStop.csv')\n",
    "result_stop_df.rename(columns= lambda x: re.sub('properties.', '', x), inplace=True)"
   ]
  },
  {
   "cell_type": "code",
   "execution_count": 55,
   "metadata": {},
   "outputs": [
    {
     "output_type": "execute_result",
     "data": {
      "text/plain": [
       "array(['Field interview card completed', 'Citation for infraction',\n",
       "       'Warning (verbal or written)', 'No Action',\n",
       "       'Custodial Arrest without warrant',\n",
       "       'Custodial Arrest pursuant to outstanding warrant',\n",
       "       'In-field cite and release',\n",
       "       'Noncriminal transport or caretaking transport',\n",
       "       'Psychiatric hold',\n",
       "       'Contacted parent/legal guardian or other person responsible for the minor',\n",
       "       'Referral to school counselor or other support staff',\n",
       "       'Referral to school administrator',\n",
       "       'Contacted U.S. Department of Homeland Security'], dtype=object)"
      ]
     },
     "metadata": {},
     "execution_count": 55
    }
   ],
   "source": [
    "result_stop_df['resultOfStop'].unique()"
   ]
  },
  {
   "cell_type": "code",
   "execution_count": 60,
   "metadata": {},
   "outputs": [
    {
     "output_type": "execute_result",
     "data": {
      "text/plain": [
       "array(['Field interview card completed', 'Citation for infraction',\n",
       "       'Warning (verbal or written)', 'No Action', 'Arrest (no warrant)',\n",
       "       'Arrest (with warrant)', 'In-field cite and release',\n",
       "       'Noncriminal transport or caretaking transport',\n",
       "       'Psychiatric hold', 'Contacted parent/guardian', 'School referral',\n",
       "       'Contacted U.S. Department of Homeland Security'], dtype=object)"
      ]
     },
     "metadata": {},
     "execution_count": 60
    }
   ],
   "source": [
    "# Shorten calling parents\n",
    "result_stop_df['resultOfStop'] = result_stop_df['resultOfStop'].apply(lambda x: re.sub('Contacted parent/legal guardian or other person responsible for the minor', 'Contacted parent/guardian', x))\n",
    "\n",
    "# Shorten Arrests\n",
    "result_stop_df['resultOfStop'] = result_stop_df['resultOfStop'].apply(lambda x: re.sub('Custodial Arrest without warrant', 'Arrest (no warrant)', x))\n",
    "result_stop_df['resultOfStop'] = result_stop_df['resultOfStop'].apply(lambda x: re.sub('Custodial Arrest pursuant to outstanding warrant', 'Arrest (with warrant)', x))\n",
    "\n",
    "# School consolidation\n",
    "result_stop_df['resultOfStop'] = result_stop_df['resultOfStop'].apply(lambda x: re.sub('Referral to school counselor or other support staff', 'School referral', x))\n",
    "result_stop_df['resultOfStop'] = result_stop_df['resultOfStop'].apply(lambda x: re.sub('Referral to school administrator', 'School referral', x))\n",
    "result_stop_df['resultOfStop'].unique()"
   ]
  },
  {
   "cell_type": "code",
   "execution_count": 63,
   "metadata": {},
   "outputs": [],
   "source": [
    "result_stop_df.drop(['resultOfStopcode', 'resultOfStopcodeText'], axis=1, inplace=True)"
   ]
  },
  {
   "cell_type": "code",
   "execution_count": 65,
   "metadata": {},
   "outputs": [
    {
     "output_type": "execute_result",
     "data": {
      "text/plain": [
       "   ObjectId  StopID  PID  Result_Arrest (no warrant)  \\\n",
       "0         1    5782    1                           0   \n",
       "1         2    5867    1                           0   \n",
       "2         3    5908    1                           0   \n",
       "\n",
       "   Result_Arrest (with warrant)  Result_Citation for infraction  \\\n",
       "0                             0                               0   \n",
       "1                             0                               1   \n",
       "2                             0                               1   \n",
       "\n",
       "   Result_Contacted U.S. Department of Homeland Security  \\\n",
       "0                                                  0       \n",
       "1                                                  0       \n",
       "2                                                  0       \n",
       "\n",
       "   Result_Contacted parent/guardian  Result_Field interview card completed  \\\n",
       "0                                 0                                      1   \n",
       "1                                 0                                      0   \n",
       "2                                 0                                      0   \n",
       "\n",
       "   Result_In-field cite and release  Result_No Action  \\\n",
       "0                                 0                 0   \n",
       "1                                 0                 0   \n",
       "2                                 0                 0   \n",
       "\n",
       "   Result_Noncriminal transport or caretaking transport  \\\n",
       "0                                                  0      \n",
       "1                                                  0      \n",
       "2                                                  0      \n",
       "\n",
       "   Result_Psychiatric hold  Result_School referral  \\\n",
       "0                        0                       0   \n",
       "1                        0                       0   \n",
       "2                        0                       0   \n",
       "\n",
       "   Result_Warning (verbal or written)  \n",
       "0                                   0  \n",
       "1                                   0  \n",
       "2                                   0  "
      ],
      "text/html": "<div>\n<style scoped>\n    .dataframe tbody tr th:only-of-type {\n        vertical-align: middle;\n    }\n\n    .dataframe tbody tr th {\n        vertical-align: top;\n    }\n\n    .dataframe thead th {\n        text-align: right;\n    }\n</style>\n<table border=\"1\" class=\"dataframe\">\n  <thead>\n    <tr style=\"text-align: right;\">\n      <th></th>\n      <th>ObjectId</th>\n      <th>StopID</th>\n      <th>PID</th>\n      <th>Result_Arrest (no warrant)</th>\n      <th>Result_Arrest (with warrant)</th>\n      <th>Result_Citation for infraction</th>\n      <th>Result_Contacted U.S. Department of Homeland Security</th>\n      <th>Result_Contacted parent/guardian</th>\n      <th>Result_Field interview card completed</th>\n      <th>Result_In-field cite and release</th>\n      <th>Result_No Action</th>\n      <th>Result_Noncriminal transport or caretaking transport</th>\n      <th>Result_Psychiatric hold</th>\n      <th>Result_School referral</th>\n      <th>Result_Warning (verbal or written)</th>\n    </tr>\n  </thead>\n  <tbody>\n    <tr>\n      <th>0</th>\n      <td>1</td>\n      <td>5782</td>\n      <td>1</td>\n      <td>0</td>\n      <td>0</td>\n      <td>0</td>\n      <td>0</td>\n      <td>0</td>\n      <td>1</td>\n      <td>0</td>\n      <td>0</td>\n      <td>0</td>\n      <td>0</td>\n      <td>0</td>\n      <td>0</td>\n    </tr>\n    <tr>\n      <th>1</th>\n      <td>2</td>\n      <td>5867</td>\n      <td>1</td>\n      <td>0</td>\n      <td>0</td>\n      <td>1</td>\n      <td>0</td>\n      <td>0</td>\n      <td>0</td>\n      <td>0</td>\n      <td>0</td>\n      <td>0</td>\n      <td>0</td>\n      <td>0</td>\n      <td>0</td>\n    </tr>\n    <tr>\n      <th>2</th>\n      <td>3</td>\n      <td>5908</td>\n      <td>1</td>\n      <td>0</td>\n      <td>0</td>\n      <td>1</td>\n      <td>0</td>\n      <td>0</td>\n      <td>0</td>\n      <td>0</td>\n      <td>0</td>\n      <td>0</td>\n      <td>0</td>\n      <td>0</td>\n      <td>0</td>\n    </tr>\n  </tbody>\n</table>\n</div>"
     },
     "metadata": {},
     "execution_count": 65
    }
   ],
   "source": [
    "result_stop_df = pd.get_dummies(result_stop_df)\n",
    "result_stop_df.rename(columns= lambda x: re.sub('resultOfStop_', 'Result_', x), inplace=True)\n",
    "result_stop_df.head(3)"
   ]
  },
  {
   "cell_type": "code",
   "execution_count": null,
   "metadata": {},
   "outputs": [],
   "source": [
    "# COPY TO SCRIPT\n",
    "# # Shorten calling parents\n",
    "# result_stop_df['resultOfStop'] = result_stop_df['resultOfStop'].apply(lambda x: re.sub('Contacted parent/legal guardian or other person responsible for the minor', 'Contacted parent/guardian', x))\n",
    "\n",
    "# # Shorten Arrests\n",
    "# result_stop_df['resultOfStop'] = result_stop_df['resultOfStop'].apply(lambda x: re.sub('Custodial Arrest without warrant', 'Arrest (no warrant)', x))\n",
    "# result_stop_df['resultOfStop'] = result_stop_df['resultOfStop'].apply(lambda x: re.sub('Custodial Arrest pursuant to outstanding warrant', 'Arrest (with warrant)', x))\n",
    "\n",
    "# # School consolidation\n",
    "# result_stop_df['resultOfStop'] = result_stop_df['resultOfStop'].apply(lambda x: re.sub('Referral to school counselor or other support staff', 'School referral', x))\n",
    "# result_stop_df['resultOfStop'] = result_stop_df['resultOfStop'].apply(lambda x: re.sub('Referral to school administrator', 'School referral', x))\n",
    "# result_stop_df['resultOfStop'].unique()\n",
    "\n",
    "# result_stop_df.drop(['resultOfStopcode', 'resultOfStopcodeText'], axis=1, inplace=True)\n",
    "\n",
    "# result_stop_df = pd.get_dummies(result_stop_df)\n",
    "# result_stop_df.rename(columns= lambda x: re.sub('resultOfStop_', 'Result_', x), inplace=True)"
   ]
  }
 ]
}