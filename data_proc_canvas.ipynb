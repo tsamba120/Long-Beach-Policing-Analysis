{
 "metadata": {
  "language_info": {
   "codemirror_mode": {
    "name": "ipython",
    "version": 3
   },
   "file_extension": ".py",
   "mimetype": "text/x-python",
   "name": "python",
   "nbconvert_exporter": "python",
   "pygments_lexer": "ipython3",
   "version": "3.8.5"
  },
  "orig_nbformat": 2,
  "kernelspec": {
   "name": "python385jvsc74a57bd0c80bbb1121cd7f4020b528273b0abdb9e6c4295ef68413e87e37775322d7a8ce",
   "display_name": "Python 3.8.5 64-bit ('lbpd_acab_env': conda)"
  },
  "metadata": {
   "interpreter": {
    "hash": "c80bbb1121cd7f4020b528273b0abdb9e6c4295ef68413e87e37775322d7a8ce"
   }
  }
 },
 "nbformat": 4,
 "nbformat_minor": 2,
 "cells": [
  {
   "cell_type": "code",
   "execution_count": 2,
   "metadata": {},
   "outputs": [],
   "source": [
    "import pandas as pd"
   ]
  },
  {
   "source": [
    "### Perceived Race Cleaning"
   ],
   "cell_type": "markdown",
   "metadata": {}
  },
  {
   "cell_type": "code",
   "execution_count": 4,
   "metadata": {},
   "outputs": [
    {
     "output_type": "execute_result",
     "data": {
      "text/plain": [
       "   properties.ObjectId  properties.StopID  properties.PID  \\\n",
       "0                    1               5782               1   \n",
       "1                    2               5785               1   \n",
       "2                    3               5786               1   \n",
       "3                    4               5787               1   \n",
       "4                    5               5788               1   \n",
       "\n",
       "  properties.reasonForStop         properties.reasonForStopDetail  \\\n",
       "0     Reasonable Suspicion  Other Reasonable Suspicion of a crime   \n",
       "1     Reasonable Suspicion  Other Reasonable Suspicion of a crime   \n",
       "2     Reasonable Suspicion  Other Reasonable Suspicion of a crime   \n",
       "3     Reasonable Suspicion  Other Reasonable Suspicion of a crime   \n",
       "4        Traffic Violation                       Moving Violation   \n",
       "\n",
       "   properties.reasonForStopcode  \\\n",
       "0                         38021   \n",
       "1                         65002   \n",
       "2                         32096   \n",
       "3                         38080   \n",
       "4                         54098   \n",
       "\n",
       "                    properties.reasonForStopCodeText  \n",
       "0     273(A) PC - ILLEGAL PAY FOR ADOPTION (M) 38021  \n",
       "1          65002 ZZ - LOCAL ORDINANCE VIOL (I) 65002  \n",
       "2  602(L)(1) PC - TRSPSS:PSTD LND:RFS TO LV (M) 3...  \n",
       "3  273.5(A) PC - CRPL INJ:SPOUS/COHAB/DATE (F) 38080  \n",
       "4  21453(A) VC - FAIL STOP LINE/ETC AT RED (I) 54098  "
      ],
      "text/html": "<div>\n<style scoped>\n    .dataframe tbody tr th:only-of-type {\n        vertical-align: middle;\n    }\n\n    .dataframe tbody tr th {\n        vertical-align: top;\n    }\n\n    .dataframe thead th {\n        text-align: right;\n    }\n</style>\n<table border=\"1\" class=\"dataframe\">\n  <thead>\n    <tr style=\"text-align: right;\">\n      <th></th>\n      <th>properties.ObjectId</th>\n      <th>properties.StopID</th>\n      <th>properties.PID</th>\n      <th>properties.reasonForStop</th>\n      <th>properties.reasonForStopDetail</th>\n      <th>properties.reasonForStopcode</th>\n      <th>properties.reasonForStopCodeText</th>\n    </tr>\n  </thead>\n  <tbody>\n    <tr>\n      <th>0</th>\n      <td>1</td>\n      <td>5782</td>\n      <td>1</td>\n      <td>Reasonable Suspicion</td>\n      <td>Other Reasonable Suspicion of a crime</td>\n      <td>38021</td>\n      <td>273(A) PC - ILLEGAL PAY FOR ADOPTION (M) 38021</td>\n    </tr>\n    <tr>\n      <th>1</th>\n      <td>2</td>\n      <td>5785</td>\n      <td>1</td>\n      <td>Reasonable Suspicion</td>\n      <td>Other Reasonable Suspicion of a crime</td>\n      <td>65002</td>\n      <td>65002 ZZ - LOCAL ORDINANCE VIOL (I) 65002</td>\n    </tr>\n    <tr>\n      <th>2</th>\n      <td>3</td>\n      <td>5786</td>\n      <td>1</td>\n      <td>Reasonable Suspicion</td>\n      <td>Other Reasonable Suspicion of a crime</td>\n      <td>32096</td>\n      <td>602(L)(1) PC - TRSPSS:PSTD LND:RFS TO LV (M) 3...</td>\n    </tr>\n    <tr>\n      <th>3</th>\n      <td>4</td>\n      <td>5787</td>\n      <td>1</td>\n      <td>Reasonable Suspicion</td>\n      <td>Other Reasonable Suspicion of a crime</td>\n      <td>38080</td>\n      <td>273.5(A) PC - CRPL INJ:SPOUS/COHAB/DATE (F) 38080</td>\n    </tr>\n    <tr>\n      <th>4</th>\n      <td>5</td>\n      <td>5788</td>\n      <td>1</td>\n      <td>Traffic Violation</td>\n      <td>Moving Violation</td>\n      <td>54098</td>\n      <td>21453(A) VC - FAIL STOP LINE/ETC AT RED (I) 54098</td>\n    </tr>\n  </tbody>\n</table>\n</div>"
     },
     "metadata": {},
     "execution_count": 4
    }
   ],
   "source": [
    "df_race = pd.read_csv('./raw_data/3. reasonForStop.csv')\n",
    "df_race.head()"
   ]
  },
  {
   "cell_type": "code",
   "execution_count": null,
   "metadata": {},
   "outputs": [],
   "source": []
  }
 ]
}