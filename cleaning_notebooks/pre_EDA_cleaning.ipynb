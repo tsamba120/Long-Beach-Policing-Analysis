{
 "metadata": {
  "language_info": {
   "codemirror_mode": {
    "name": "ipython",
    "version": 3
   },
   "file_extension": ".py",
   "mimetype": "text/x-python",
   "name": "python",
   "nbconvert_exporter": "python",
   "pygments_lexer": "ipython3",
   "version": "3.8.5"
  },
  "orig_nbformat": 2,
  "kernelspec": {
   "name": "python385jvsc74a57bd0c80bbb1121cd7f4020b528273b0abdb9e6c4295ef68413e87e37775322d7a8ce",
   "display_name": "Python 3.8.5 64-bit ('lbpd_acab_env': conda)"
  },
  "metadata": {
   "interpreter": {
    "hash": "c80bbb1121cd7f4020b528273b0abdb9e6c4295ef68413e87e37775322d7a8ce"
   }
  }
 },
 "nbformat": 4,
 "nbformat_minor": 2,
 "cells": [
  {
   "source": [
    "# Pre-EDA Cleaning for Scripts"
   ],
   "cell_type": "markdown",
   "metadata": {}
  },
  {
   "cell_type": "code",
   "execution_count": 1,
   "metadata": {},
   "outputs": [],
   "source": [
    "import re\n",
    "import numpy as np\n",
    "import pandas as pd\n",
    "import matplotlib.pyplot as plt\n",
    "import seaborn as sns"
   ]
  },
  {
   "cell_type": "code",
   "execution_count": 4,
   "metadata": {},
   "outputs": [
    {
     "output_type": "execute_result",
     "data": {
      "text/plain": [
       "'/Users/terencerustia/Documents/Data Science/Long Beach Policing Analysis/cleaning_notebooks'"
      ]
     },
     "metadata": {},
     "execution_count": 4
    }
   ],
   "source": [
    "%cd .."
   ]
  },
  {
   "cell_type": "code",
   "execution_count": 2,
   "metadata": {},
   "outputs": [],
   "source": [
    "# %cd Long\\ Beach\\ Policing\\ Analysis"
   ]
  },
  {
   "cell_type": "code",
   "execution_count": 3,
   "metadata": {},
   "outputs": [
    {
     "output_type": "error",
     "ename": "FileNotFoundError",
     "evalue": "[Errno 2] No such file or directory: './processed_data/PROCESSED_0_to_5.csv'",
     "traceback": [
      "\u001b[0;31m---------------------------------------------------------------------------\u001b[0m",
      "\u001b[0;31mFileNotFoundError\u001b[0m                         Traceback (most recent call last)",
      "\u001b[0;32m<ipython-input-3-2edde9502c41>\u001b[0m in \u001b[0;36m<module>\u001b[0;34m\u001b[0m\n\u001b[0;32m----> 1\u001b[0;31m \u001b[0mdf\u001b[0m \u001b[0;34m=\u001b[0m \u001b[0mpd\u001b[0m\u001b[0;34m.\u001b[0m\u001b[0mread_csv\u001b[0m\u001b[0;34m(\u001b[0m\u001b[0;34m'./processed_data/PROCESSED_0_to_5.csv'\u001b[0m\u001b[0;34m,\u001b[0m \u001b[0mdtype\u001b[0m\u001b[0;34m=\u001b[0m\u001b[0mobject\u001b[0m\u001b[0;34m)\u001b[0m\u001b[0;34m\u001b[0m\u001b[0;34m\u001b[0m\u001b[0m\n\u001b[0m",
      "\u001b[0;32m~/opt/anaconda3/envs/lbpd_acab_env/lib/python3.8/site-packages/pandas/io/parsers.py\u001b[0m in \u001b[0;36mread_csv\u001b[0;34m(filepath_or_buffer, sep, delimiter, header, names, index_col, usecols, squeeze, prefix, mangle_dupe_cols, dtype, engine, converters, true_values, false_values, skipinitialspace, skiprows, skipfooter, nrows, na_values, keep_default_na, na_filter, verbose, skip_blank_lines, parse_dates, infer_datetime_format, keep_date_col, date_parser, dayfirst, cache_dates, iterator, chunksize, compression, thousands, decimal, lineterminator, quotechar, quoting, doublequote, escapechar, comment, encoding, dialect, error_bad_lines, warn_bad_lines, delim_whitespace, low_memory, memory_map, float_precision, storage_options)\u001b[0m\n\u001b[1;32m    608\u001b[0m     \u001b[0mkwds\u001b[0m\u001b[0;34m.\u001b[0m\u001b[0mupdate\u001b[0m\u001b[0;34m(\u001b[0m\u001b[0mkwds_defaults\u001b[0m\u001b[0;34m)\u001b[0m\u001b[0;34m\u001b[0m\u001b[0;34m\u001b[0m\u001b[0m\n\u001b[1;32m    609\u001b[0m \u001b[0;34m\u001b[0m\u001b[0m\n\u001b[0;32m--> 610\u001b[0;31m     \u001b[0;32mreturn\u001b[0m \u001b[0m_read\u001b[0m\u001b[0;34m(\u001b[0m\u001b[0mfilepath_or_buffer\u001b[0m\u001b[0;34m,\u001b[0m \u001b[0mkwds\u001b[0m\u001b[0;34m)\u001b[0m\u001b[0;34m\u001b[0m\u001b[0;34m\u001b[0m\u001b[0m\n\u001b[0m\u001b[1;32m    611\u001b[0m \u001b[0;34m\u001b[0m\u001b[0m\n\u001b[1;32m    612\u001b[0m \u001b[0;34m\u001b[0m\u001b[0m\n",
      "\u001b[0;32m~/opt/anaconda3/envs/lbpd_acab_env/lib/python3.8/site-packages/pandas/io/parsers.py\u001b[0m in \u001b[0;36m_read\u001b[0;34m(filepath_or_buffer, kwds)\u001b[0m\n\u001b[1;32m    460\u001b[0m \u001b[0;34m\u001b[0m\u001b[0m\n\u001b[1;32m    461\u001b[0m     \u001b[0;31m# Create the parser.\u001b[0m\u001b[0;34m\u001b[0m\u001b[0;34m\u001b[0m\u001b[0;34m\u001b[0m\u001b[0m\n\u001b[0;32m--> 462\u001b[0;31m     \u001b[0mparser\u001b[0m \u001b[0;34m=\u001b[0m \u001b[0mTextFileReader\u001b[0m\u001b[0;34m(\u001b[0m\u001b[0mfilepath_or_buffer\u001b[0m\u001b[0;34m,\u001b[0m \u001b[0;34m**\u001b[0m\u001b[0mkwds\u001b[0m\u001b[0;34m)\u001b[0m\u001b[0;34m\u001b[0m\u001b[0;34m\u001b[0m\u001b[0m\n\u001b[0m\u001b[1;32m    463\u001b[0m \u001b[0;34m\u001b[0m\u001b[0m\n\u001b[1;32m    464\u001b[0m     \u001b[0;32mif\u001b[0m \u001b[0mchunksize\u001b[0m \u001b[0;32mor\u001b[0m \u001b[0miterator\u001b[0m\u001b[0;34m:\u001b[0m\u001b[0;34m\u001b[0m\u001b[0;34m\u001b[0m\u001b[0m\n",
      "\u001b[0;32m~/opt/anaconda3/envs/lbpd_acab_env/lib/python3.8/site-packages/pandas/io/parsers.py\u001b[0m in \u001b[0;36m__init__\u001b[0;34m(self, f, engine, **kwds)\u001b[0m\n\u001b[1;32m    817\u001b[0m             \u001b[0mself\u001b[0m\u001b[0;34m.\u001b[0m\u001b[0moptions\u001b[0m\u001b[0;34m[\u001b[0m\u001b[0;34m\"has_index_names\"\u001b[0m\u001b[0;34m]\u001b[0m \u001b[0;34m=\u001b[0m \u001b[0mkwds\u001b[0m\u001b[0;34m[\u001b[0m\u001b[0;34m\"has_index_names\"\u001b[0m\u001b[0;34m]\u001b[0m\u001b[0;34m\u001b[0m\u001b[0;34m\u001b[0m\u001b[0m\n\u001b[1;32m    818\u001b[0m \u001b[0;34m\u001b[0m\u001b[0m\n\u001b[0;32m--> 819\u001b[0;31m         \u001b[0mself\u001b[0m\u001b[0;34m.\u001b[0m\u001b[0m_engine\u001b[0m \u001b[0;34m=\u001b[0m \u001b[0mself\u001b[0m\u001b[0;34m.\u001b[0m\u001b[0m_make_engine\u001b[0m\u001b[0;34m(\u001b[0m\u001b[0mself\u001b[0m\u001b[0;34m.\u001b[0m\u001b[0mengine\u001b[0m\u001b[0;34m)\u001b[0m\u001b[0;34m\u001b[0m\u001b[0;34m\u001b[0m\u001b[0m\n\u001b[0m\u001b[1;32m    820\u001b[0m \u001b[0;34m\u001b[0m\u001b[0m\n\u001b[1;32m    821\u001b[0m     \u001b[0;32mdef\u001b[0m \u001b[0mclose\u001b[0m\u001b[0;34m(\u001b[0m\u001b[0mself\u001b[0m\u001b[0;34m)\u001b[0m\u001b[0;34m:\u001b[0m\u001b[0;34m\u001b[0m\u001b[0;34m\u001b[0m\u001b[0m\n",
      "\u001b[0;32m~/opt/anaconda3/envs/lbpd_acab_env/lib/python3.8/site-packages/pandas/io/parsers.py\u001b[0m in \u001b[0;36m_make_engine\u001b[0;34m(self, engine)\u001b[0m\n\u001b[1;32m   1048\u001b[0m             )\n\u001b[1;32m   1049\u001b[0m         \u001b[0;31m# error: Too many arguments for \"ParserBase\"\u001b[0m\u001b[0;34m\u001b[0m\u001b[0;34m\u001b[0m\u001b[0;34m\u001b[0m\u001b[0m\n\u001b[0;32m-> 1050\u001b[0;31m         \u001b[0;32mreturn\u001b[0m \u001b[0mmapping\u001b[0m\u001b[0;34m[\u001b[0m\u001b[0mengine\u001b[0m\u001b[0;34m]\u001b[0m\u001b[0;34m(\u001b[0m\u001b[0mself\u001b[0m\u001b[0;34m.\u001b[0m\u001b[0mf\u001b[0m\u001b[0;34m,\u001b[0m \u001b[0;34m**\u001b[0m\u001b[0mself\u001b[0m\u001b[0;34m.\u001b[0m\u001b[0moptions\u001b[0m\u001b[0;34m)\u001b[0m  \u001b[0;31m# type: ignore[call-arg]\u001b[0m\u001b[0;34m\u001b[0m\u001b[0;34m\u001b[0m\u001b[0m\n\u001b[0m\u001b[1;32m   1051\u001b[0m \u001b[0;34m\u001b[0m\u001b[0m\n\u001b[1;32m   1052\u001b[0m     \u001b[0;32mdef\u001b[0m \u001b[0m_failover_to_python\u001b[0m\u001b[0;34m(\u001b[0m\u001b[0mself\u001b[0m\u001b[0;34m)\u001b[0m\u001b[0;34m:\u001b[0m\u001b[0;34m\u001b[0m\u001b[0;34m\u001b[0m\u001b[0m\n",
      "\u001b[0;32m~/opt/anaconda3/envs/lbpd_acab_env/lib/python3.8/site-packages/pandas/io/parsers.py\u001b[0m in \u001b[0;36m__init__\u001b[0;34m(self, src, **kwds)\u001b[0m\n\u001b[1;32m   1865\u001b[0m \u001b[0;34m\u001b[0m\u001b[0m\n\u001b[1;32m   1866\u001b[0m         \u001b[0;31m# open handles\u001b[0m\u001b[0;34m\u001b[0m\u001b[0;34m\u001b[0m\u001b[0;34m\u001b[0m\u001b[0m\n\u001b[0;32m-> 1867\u001b[0;31m         \u001b[0mself\u001b[0m\u001b[0;34m.\u001b[0m\u001b[0m_open_handles\u001b[0m\u001b[0;34m(\u001b[0m\u001b[0msrc\u001b[0m\u001b[0;34m,\u001b[0m \u001b[0mkwds\u001b[0m\u001b[0;34m)\u001b[0m\u001b[0;34m\u001b[0m\u001b[0;34m\u001b[0m\u001b[0m\n\u001b[0m\u001b[1;32m   1868\u001b[0m         \u001b[0;32massert\u001b[0m \u001b[0mself\u001b[0m\u001b[0;34m.\u001b[0m\u001b[0mhandles\u001b[0m \u001b[0;32mis\u001b[0m \u001b[0;32mnot\u001b[0m \u001b[0;32mNone\u001b[0m\u001b[0;34m\u001b[0m\u001b[0;34m\u001b[0m\u001b[0m\n\u001b[1;32m   1869\u001b[0m         \u001b[0;32mfor\u001b[0m \u001b[0mkey\u001b[0m \u001b[0;32min\u001b[0m \u001b[0;34m(\u001b[0m\u001b[0;34m\"storage_options\"\u001b[0m\u001b[0;34m,\u001b[0m \u001b[0;34m\"encoding\"\u001b[0m\u001b[0;34m,\u001b[0m \u001b[0;34m\"memory_map\"\u001b[0m\u001b[0;34m,\u001b[0m \u001b[0;34m\"compression\"\u001b[0m\u001b[0;34m)\u001b[0m\u001b[0;34m:\u001b[0m\u001b[0;34m\u001b[0m\u001b[0;34m\u001b[0m\u001b[0m\n",
      "\u001b[0;32m~/opt/anaconda3/envs/lbpd_acab_env/lib/python3.8/site-packages/pandas/io/parsers.py\u001b[0m in \u001b[0;36m_open_handles\u001b[0;34m(self, src, kwds)\u001b[0m\n\u001b[1;32m   1360\u001b[0m         \u001b[0mLet\u001b[0m \u001b[0mthe\u001b[0m \u001b[0mreaders\u001b[0m \u001b[0mopen\u001b[0m \u001b[0mIOHanldes\u001b[0m \u001b[0mafter\u001b[0m \u001b[0mthey\u001b[0m \u001b[0mare\u001b[0m \u001b[0mdone\u001b[0m \u001b[0;32mwith\u001b[0m \u001b[0mtheir\u001b[0m \u001b[0mpotential\u001b[0m \u001b[0mraises\u001b[0m\u001b[0;34m.\u001b[0m\u001b[0;34m\u001b[0m\u001b[0;34m\u001b[0m\u001b[0m\n\u001b[1;32m   1361\u001b[0m         \"\"\"\n\u001b[0;32m-> 1362\u001b[0;31m         self.handles = get_handle(\n\u001b[0m\u001b[1;32m   1363\u001b[0m             \u001b[0msrc\u001b[0m\u001b[0;34m,\u001b[0m\u001b[0;34m\u001b[0m\u001b[0;34m\u001b[0m\u001b[0m\n\u001b[1;32m   1364\u001b[0m             \u001b[0;34m\"r\"\u001b[0m\u001b[0;34m,\u001b[0m\u001b[0;34m\u001b[0m\u001b[0;34m\u001b[0m\u001b[0m\n",
      "\u001b[0;32m~/opt/anaconda3/envs/lbpd_acab_env/lib/python3.8/site-packages/pandas/io/common.py\u001b[0m in \u001b[0;36mget_handle\u001b[0;34m(path_or_buf, mode, encoding, compression, memory_map, is_text, errors, storage_options)\u001b[0m\n\u001b[1;32m    640\u001b[0m                 \u001b[0merrors\u001b[0m \u001b[0;34m=\u001b[0m \u001b[0;34m\"replace\"\u001b[0m\u001b[0;34m\u001b[0m\u001b[0;34m\u001b[0m\u001b[0m\n\u001b[1;32m    641\u001b[0m             \u001b[0;31m# Encoding\u001b[0m\u001b[0;34m\u001b[0m\u001b[0;34m\u001b[0m\u001b[0;34m\u001b[0m\u001b[0m\n\u001b[0;32m--> 642\u001b[0;31m             handle = open(\n\u001b[0m\u001b[1;32m    643\u001b[0m                 \u001b[0mhandle\u001b[0m\u001b[0;34m,\u001b[0m\u001b[0;34m\u001b[0m\u001b[0;34m\u001b[0m\u001b[0m\n\u001b[1;32m    644\u001b[0m                 \u001b[0mioargs\u001b[0m\u001b[0;34m.\u001b[0m\u001b[0mmode\u001b[0m\u001b[0;34m,\u001b[0m\u001b[0;34m\u001b[0m\u001b[0;34m\u001b[0m\u001b[0m\n",
      "\u001b[0;31mFileNotFoundError\u001b[0m: [Errno 2] No such file or directory: './processed_data/PROCESSED_0_to_5.csv'"
     ]
    }
   ],
   "source": [
    "df = pd.read_csv('./processed_data/PROCESSED_0_to_5.csv', dtype=object)"
   ]
  },
  {
   "cell_type": "code",
   "execution_count": 8,
   "metadata": {},
   "outputs": [
    {
     "output_type": "execute_result",
     "data": {
      "text/plain": [
       "  ObjectId_x StopID             stopDate             stopTime stopDuration  \\\n",
       "0          1   5875  2019/01/01 00:00:00  2020/06/26 07:41:59            5   \n",
       "1          2   5782  2019/01/01 00:00:00  2020/06/26 00:04:59            5   \n",
       "2          3   5876  2019/01/01 00:00:00  2020/06/26 18:17:00            4   \n",
       "3          4   5877  2019/01/01 00:00:00  2020/06/26 18:25:35           10   \n",
       "4          5   5785  2019/01/01 00:00:00  2020/06/26 01:04:00           16   \n",
       "\n",
       "  stopInResponseToCFS blockNumber           street intersection highwayExit  \\\n",
       "0                   0       200.0       E First St          NaN         NaN   \n",
       "1                   1      5900.0  Long Beach Blvd          NaN         NaN   \n",
       "2                   0      6600.0       Butler Ave          NaN         NaN   \n",
       "3                   1       900.0        E anaheim          NaN         NaN   \n",
       "4                   0      4800.0     Vista street          NaN         NaN   \n",
       "\n",
       "   ... reasonForStopcode                              reasonForStopCodeText  \\\n",
       "0  ...             54153  21453(D) VC - PED AGAINST RED LIGHT/ETC (I) 54153   \n",
       "1  ...             38021     273(A) PC - ILLEGAL PAY FOR ADOPTION (M) 38021   \n",
       "2  ...             54106     22350 VC - UNSAFE SPEED:PREVAIL COND (I) 54106   \n",
       "3  ...                 0                                                NaN   \n",
       "4  ...             65002          65002 ZZ - LOCAL ORDINANCE VIOL (I) 65002   \n",
       "\n",
       "  ObjectId_x.2 actionTakenDuringStop personSearchConsentGiven  \\\n",
       "0           17    Curbside detention                      NaN   \n",
       "1            3    Curbside detention                      NaN   \n",
       "2           22                  None                      NaN   \n",
       "3           24                  None                      NaN   \n",
       "4            8                  None                      NaN   \n",
       "\n",
       "  propertySearchConsentGiven ObjectId_y.2                    resultOfStop  \\\n",
       "0                        NaN           47         Citation for infraction   \n",
       "1                        NaN            1  Field interview card completed   \n",
       "2                        NaN           51                       No Action   \n",
       "3                        NaN           55                       No Action   \n",
       "4                        NaN            5         Citation for infraction   \n",
       "\n",
       "  resultOfStopcode                               resultOfStopcodeText  \n",
       "0            54153  21453(D) VC - PED AGAINST RED LIGHT/ETC (I) 54153  \n",
       "1              NaN                                                NaN  \n",
       "2              NaN                                                NaN  \n",
       "3              NaN                                                NaN  \n",
       "4            65000          65000 ZZ - LOCAL ORDINANCE VIOL (M) 65000  \n",
       "\n",
       "[5 rows x 38 columns]"
      ],
      "text/html": "<div>\n<style scoped>\n    .dataframe tbody tr th:only-of-type {\n        vertical-align: middle;\n    }\n\n    .dataframe tbody tr th {\n        vertical-align: top;\n    }\n\n    .dataframe thead th {\n        text-align: right;\n    }\n</style>\n<table border=\"1\" class=\"dataframe\">\n  <thead>\n    <tr style=\"text-align: right;\">\n      <th></th>\n      <th>ObjectId_x</th>\n      <th>StopID</th>\n      <th>stopDate</th>\n      <th>stopTime</th>\n      <th>stopDuration</th>\n      <th>stopInResponseToCFS</th>\n      <th>blockNumber</th>\n      <th>street</th>\n      <th>intersection</th>\n      <th>highwayExit</th>\n      <th>...</th>\n      <th>reasonForStopcode</th>\n      <th>reasonForStopCodeText</th>\n      <th>ObjectId_x.2</th>\n      <th>actionTakenDuringStop</th>\n      <th>personSearchConsentGiven</th>\n      <th>propertySearchConsentGiven</th>\n      <th>ObjectId_y.2</th>\n      <th>resultOfStop</th>\n      <th>resultOfStopcode</th>\n      <th>resultOfStopcodeText</th>\n    </tr>\n  </thead>\n  <tbody>\n    <tr>\n      <th>0</th>\n      <td>1</td>\n      <td>5875</td>\n      <td>2019/01/01 00:00:00</td>\n      <td>2020/06/26 07:41:59</td>\n      <td>5</td>\n      <td>0</td>\n      <td>200.0</td>\n      <td>E First St</td>\n      <td>NaN</td>\n      <td>NaN</td>\n      <td>...</td>\n      <td>54153</td>\n      <td>21453(D) VC - PED AGAINST RED LIGHT/ETC (I) 54153</td>\n      <td>17</td>\n      <td>Curbside detention</td>\n      <td>NaN</td>\n      <td>NaN</td>\n      <td>47</td>\n      <td>Citation for infraction</td>\n      <td>54153</td>\n      <td>21453(D) VC - PED AGAINST RED LIGHT/ETC (I) 54153</td>\n    </tr>\n    <tr>\n      <th>1</th>\n      <td>2</td>\n      <td>5782</td>\n      <td>2019/01/01 00:00:00</td>\n      <td>2020/06/26 00:04:59</td>\n      <td>5</td>\n      <td>1</td>\n      <td>5900.0</td>\n      <td>Long Beach Blvd</td>\n      <td>NaN</td>\n      <td>NaN</td>\n      <td>...</td>\n      <td>38021</td>\n      <td>273(A) PC - ILLEGAL PAY FOR ADOPTION (M) 38021</td>\n      <td>3</td>\n      <td>Curbside detention</td>\n      <td>NaN</td>\n      <td>NaN</td>\n      <td>1</td>\n      <td>Field interview card completed</td>\n      <td>NaN</td>\n      <td>NaN</td>\n    </tr>\n    <tr>\n      <th>2</th>\n      <td>3</td>\n      <td>5876</td>\n      <td>2019/01/01 00:00:00</td>\n      <td>2020/06/26 18:17:00</td>\n      <td>4</td>\n      <td>0</td>\n      <td>6600.0</td>\n      <td>Butler Ave</td>\n      <td>NaN</td>\n      <td>NaN</td>\n      <td>...</td>\n      <td>54106</td>\n      <td>22350 VC - UNSAFE SPEED:PREVAIL COND (I) 54106</td>\n      <td>22</td>\n      <td>None</td>\n      <td>NaN</td>\n      <td>NaN</td>\n      <td>51</td>\n      <td>No Action</td>\n      <td>NaN</td>\n      <td>NaN</td>\n    </tr>\n    <tr>\n      <th>3</th>\n      <td>4</td>\n      <td>5877</td>\n      <td>2019/01/01 00:00:00</td>\n      <td>2020/06/26 18:25:35</td>\n      <td>10</td>\n      <td>1</td>\n      <td>900.0</td>\n      <td>E anaheim</td>\n      <td>NaN</td>\n      <td>NaN</td>\n      <td>...</td>\n      <td>0</td>\n      <td>NaN</td>\n      <td>24</td>\n      <td>None</td>\n      <td>NaN</td>\n      <td>NaN</td>\n      <td>55</td>\n      <td>No Action</td>\n      <td>NaN</td>\n      <td>NaN</td>\n    </tr>\n    <tr>\n      <th>4</th>\n      <td>5</td>\n      <td>5785</td>\n      <td>2019/01/01 00:00:00</td>\n      <td>2020/06/26 01:04:00</td>\n      <td>16</td>\n      <td>0</td>\n      <td>4800.0</td>\n      <td>Vista street</td>\n      <td>NaN</td>\n      <td>NaN</td>\n      <td>...</td>\n      <td>65002</td>\n      <td>65002 ZZ - LOCAL ORDINANCE VIOL (I) 65002</td>\n      <td>8</td>\n      <td>None</td>\n      <td>NaN</td>\n      <td>NaN</td>\n      <td>5</td>\n      <td>Citation for infraction</td>\n      <td>65000</td>\n      <td>65000 ZZ - LOCAL ORDINANCE VIOL (M) 65000</td>\n    </tr>\n  </tbody>\n</table>\n<p>5 rows × 38 columns</p>\n</div>"
     },
     "metadata": {},
     "execution_count": 8
    }
   ],
   "source": [
    "df.head()"
   ]
  },
  {
   "source": [
    "## df0: Clean date and time columns:"
   ],
   "cell_type": "markdown",
   "metadata": {}
  },
  {
   "cell_type": "code",
   "execution_count": 9,
   "metadata": {},
   "outputs": [],
   "source": [
    "def clean_date_time(df):\n",
    "    df['stopDate'] = pd.to_datetime(df['stopDate']).dt.date\n",
    "    df['stopTime'] = pd.to_datetime(df['stopTime']).dt.time"
   ]
  },
  {
   "cell_type": "code",
   "execution_count": 10,
   "metadata": {},
   "outputs": [],
   "source": [
    "clean_date_time(df)"
   ]
  },
  {
   "cell_type": "code",
   "execution_count": 11,
   "metadata": {},
   "outputs": [
    {
     "output_type": "execute_result",
     "data": {
      "text/plain": [
       "  ObjectId_x StopID    stopDate  stopTime stopDuration stopInResponseToCFS  \\\n",
       "0          1   5875  2019-01-01  07:41:59            5                   0   \n",
       "1          2   5782  2019-01-01  00:04:59            5                   1   \n",
       "2          3   5876  2019-01-01  18:17:00            4                   0   \n",
       "3          4   5877  2019-01-01  18:25:35           10                   1   \n",
       "4          5   5785  2019-01-01  01:04:00           16                   0   \n",
       "\n",
       "  blockNumber           street intersection highwayExit  ...  \\\n",
       "0       200.0       E First St          NaN         NaN  ...   \n",
       "1      5900.0  Long Beach Blvd          NaN         NaN  ...   \n",
       "2      6600.0       Butler Ave          NaN         NaN  ...   \n",
       "3       900.0        E anaheim          NaN         NaN  ...   \n",
       "4      4800.0     Vista street          NaN         NaN  ...   \n",
       "\n",
       "  reasonForStopcode                              reasonForStopCodeText  \\\n",
       "0             54153  21453(D) VC - PED AGAINST RED LIGHT/ETC (I) 54153   \n",
       "1             38021     273(A) PC - ILLEGAL PAY FOR ADOPTION (M) 38021   \n",
       "2             54106     22350 VC - UNSAFE SPEED:PREVAIL COND (I) 54106   \n",
       "3                 0                                                NaN   \n",
       "4             65002          65002 ZZ - LOCAL ORDINANCE VIOL (I) 65002   \n",
       "\n",
       "  ObjectId_x.2 actionTakenDuringStop personSearchConsentGiven  \\\n",
       "0           17    Curbside detention                      NaN   \n",
       "1            3    Curbside detention                      NaN   \n",
       "2           22                  None                      NaN   \n",
       "3           24                  None                      NaN   \n",
       "4            8                  None                      NaN   \n",
       "\n",
       "  propertySearchConsentGiven ObjectId_y.2                    resultOfStop  \\\n",
       "0                        NaN           47         Citation for infraction   \n",
       "1                        NaN            1  Field interview card completed   \n",
       "2                        NaN           51                       No Action   \n",
       "3                        NaN           55                       No Action   \n",
       "4                        NaN            5         Citation for infraction   \n",
       "\n",
       "  resultOfStopcode                               resultOfStopcodeText  \n",
       "0            54153  21453(D) VC - PED AGAINST RED LIGHT/ETC (I) 54153  \n",
       "1              NaN                                                NaN  \n",
       "2              NaN                                                NaN  \n",
       "3              NaN                                                NaN  \n",
       "4            65000          65000 ZZ - LOCAL ORDINANCE VIOL (M) 65000  \n",
       "\n",
       "[5 rows x 38 columns]"
      ],
      "text/html": "<div>\n<style scoped>\n    .dataframe tbody tr th:only-of-type {\n        vertical-align: middle;\n    }\n\n    .dataframe tbody tr th {\n        vertical-align: top;\n    }\n\n    .dataframe thead th {\n        text-align: right;\n    }\n</style>\n<table border=\"1\" class=\"dataframe\">\n  <thead>\n    <tr style=\"text-align: right;\">\n      <th></th>\n      <th>ObjectId_x</th>\n      <th>StopID</th>\n      <th>stopDate</th>\n      <th>stopTime</th>\n      <th>stopDuration</th>\n      <th>stopInResponseToCFS</th>\n      <th>blockNumber</th>\n      <th>street</th>\n      <th>intersection</th>\n      <th>highwayExit</th>\n      <th>...</th>\n      <th>reasonForStopcode</th>\n      <th>reasonForStopCodeText</th>\n      <th>ObjectId_x.2</th>\n      <th>actionTakenDuringStop</th>\n      <th>personSearchConsentGiven</th>\n      <th>propertySearchConsentGiven</th>\n      <th>ObjectId_y.2</th>\n      <th>resultOfStop</th>\n      <th>resultOfStopcode</th>\n      <th>resultOfStopcodeText</th>\n    </tr>\n  </thead>\n  <tbody>\n    <tr>\n      <th>0</th>\n      <td>1</td>\n      <td>5875</td>\n      <td>2019-01-01</td>\n      <td>07:41:59</td>\n      <td>5</td>\n      <td>0</td>\n      <td>200.0</td>\n      <td>E First St</td>\n      <td>NaN</td>\n      <td>NaN</td>\n      <td>...</td>\n      <td>54153</td>\n      <td>21453(D) VC - PED AGAINST RED LIGHT/ETC (I) 54153</td>\n      <td>17</td>\n      <td>Curbside detention</td>\n      <td>NaN</td>\n      <td>NaN</td>\n      <td>47</td>\n      <td>Citation for infraction</td>\n      <td>54153</td>\n      <td>21453(D) VC - PED AGAINST RED LIGHT/ETC (I) 54153</td>\n    </tr>\n    <tr>\n      <th>1</th>\n      <td>2</td>\n      <td>5782</td>\n      <td>2019-01-01</td>\n      <td>00:04:59</td>\n      <td>5</td>\n      <td>1</td>\n      <td>5900.0</td>\n      <td>Long Beach Blvd</td>\n      <td>NaN</td>\n      <td>NaN</td>\n      <td>...</td>\n      <td>38021</td>\n      <td>273(A) PC - ILLEGAL PAY FOR ADOPTION (M) 38021</td>\n      <td>3</td>\n      <td>Curbside detention</td>\n      <td>NaN</td>\n      <td>NaN</td>\n      <td>1</td>\n      <td>Field interview card completed</td>\n      <td>NaN</td>\n      <td>NaN</td>\n    </tr>\n    <tr>\n      <th>2</th>\n      <td>3</td>\n      <td>5876</td>\n      <td>2019-01-01</td>\n      <td>18:17:00</td>\n      <td>4</td>\n      <td>0</td>\n      <td>6600.0</td>\n      <td>Butler Ave</td>\n      <td>NaN</td>\n      <td>NaN</td>\n      <td>...</td>\n      <td>54106</td>\n      <td>22350 VC - UNSAFE SPEED:PREVAIL COND (I) 54106</td>\n      <td>22</td>\n      <td>None</td>\n      <td>NaN</td>\n      <td>NaN</td>\n      <td>51</td>\n      <td>No Action</td>\n      <td>NaN</td>\n      <td>NaN</td>\n    </tr>\n    <tr>\n      <th>3</th>\n      <td>4</td>\n      <td>5877</td>\n      <td>2019-01-01</td>\n      <td>18:25:35</td>\n      <td>10</td>\n      <td>1</td>\n      <td>900.0</td>\n      <td>E anaheim</td>\n      <td>NaN</td>\n      <td>NaN</td>\n      <td>...</td>\n      <td>0</td>\n      <td>NaN</td>\n      <td>24</td>\n      <td>None</td>\n      <td>NaN</td>\n      <td>NaN</td>\n      <td>55</td>\n      <td>No Action</td>\n      <td>NaN</td>\n      <td>NaN</td>\n    </tr>\n    <tr>\n      <th>4</th>\n      <td>5</td>\n      <td>5785</td>\n      <td>2019-01-01</td>\n      <td>01:04:00</td>\n      <td>16</td>\n      <td>0</td>\n      <td>4800.0</td>\n      <td>Vista street</td>\n      <td>NaN</td>\n      <td>NaN</td>\n      <td>...</td>\n      <td>65002</td>\n      <td>65002 ZZ - LOCAL ORDINANCE VIOL (I) 65002</td>\n      <td>8</td>\n      <td>None</td>\n      <td>NaN</td>\n      <td>NaN</td>\n      <td>5</td>\n      <td>Citation for infraction</td>\n      <td>65000</td>\n      <td>65000 ZZ - LOCAL ORDINANCE VIOL (M) 65000</td>\n    </tr>\n  </tbody>\n</table>\n<p>5 rows × 38 columns</p>\n</div>"
     },
     "metadata": {},
     "execution_count": 11
    }
   ],
   "source": [
    "df.head()"
   ]
  },
  {
   "source": [
    "## Remove excess ObjectId columns:"
   ],
   "cell_type": "markdown",
   "metadata": {}
  },
  {
   "cell_type": "code",
   "execution_count": 12,
   "metadata": {},
   "outputs": [],
   "source": [
    "def remove_objectId(df):\n",
    "    cols = list(df.filter(regex='ObjectId').columns)\n",
    "    df.drop(cols, axis=1, inplace=True)"
   ]
  },
  {
   "cell_type": "code",
   "execution_count": 13,
   "metadata": {},
   "outputs": [
    {
     "output_type": "execute_result",
     "data": {
      "text/plain": [
       "  StopID    stopDate  stopTime stopDuration stopInResponseToCFS blockNumber  \\\n",
       "0   5875  2019-01-01  07:41:59            5                   0       200.0   \n",
       "1   5782  2019-01-01  00:04:59            5                   1      5900.0   \n",
       "2   5876  2019-01-01  18:17:00            4                   0      6600.0   \n",
       "3   5877  2019-01-01  18:25:35           10                   1       900.0   \n",
       "4   5785  2019-01-01  01:04:00           16                   0      4800.0   \n",
       "\n",
       "            street intersection highwayExit landMark  ...  \\\n",
       "0       E First St          NaN         NaN      NaN  ...   \n",
       "1  Long Beach Blvd          NaN         NaN      NaN  ...   \n",
       "2       Butler Ave          NaN         NaN      NaN  ...   \n",
       "3        E anaheim          NaN         NaN      NaN  ...   \n",
       "4     Vista street          NaN         NaN      NaN  ...   \n",
       "\n",
       "                                       reasonForStop  \\\n",
       "0                                  Traffic Violation   \n",
       "1                               Reasonable Suspicion   \n",
       "2                                  Traffic Violation   \n",
       "3  Knowledge of outstanding arrest warrant/wanted...   \n",
       "4                               Reasonable Suspicion   \n",
       "\n",
       "                     reasonForStopDetail reasonForStopcode  \\\n",
       "0                       Moving Violation             54153   \n",
       "1  Other Reasonable Suspicion of a crime             38021   \n",
       "2                       Moving Violation             54106   \n",
       "3                                    NaN                 0   \n",
       "4  Other Reasonable Suspicion of a crime             65002   \n",
       "\n",
       "                               reasonForStopCodeText actionTakenDuringStop  \\\n",
       "0  21453(D) VC - PED AGAINST RED LIGHT/ETC (I) 54153    Curbside detention   \n",
       "1     273(A) PC - ILLEGAL PAY FOR ADOPTION (M) 38021    Curbside detention   \n",
       "2     22350 VC - UNSAFE SPEED:PREVAIL COND (I) 54106                  None   \n",
       "3                                                NaN                  None   \n",
       "4          65002 ZZ - LOCAL ORDINANCE VIOL (I) 65002                  None   \n",
       "\n",
       "  personSearchConsentGiven propertySearchConsentGiven  \\\n",
       "0                      NaN                        NaN   \n",
       "1                      NaN                        NaN   \n",
       "2                      NaN                        NaN   \n",
       "3                      NaN                        NaN   \n",
       "4                      NaN                        NaN   \n",
       "\n",
       "                     resultOfStop resultOfStopcode  \\\n",
       "0         Citation for infraction            54153   \n",
       "1  Field interview card completed              NaN   \n",
       "2                       No Action              NaN   \n",
       "3                       No Action              NaN   \n",
       "4         Citation for infraction            65000   \n",
       "\n",
       "                                resultOfStopcodeText  \n",
       "0  21453(D) VC - PED AGAINST RED LIGHT/ETC (I) 54153  \n",
       "1                                                NaN  \n",
       "2                                                NaN  \n",
       "3                                                NaN  \n",
       "4          65000 ZZ - LOCAL ORDINANCE VIOL (M) 65000  \n",
       "\n",
       "[5 rows x 32 columns]"
      ],
      "text/html": "<div>\n<style scoped>\n    .dataframe tbody tr th:only-of-type {\n        vertical-align: middle;\n    }\n\n    .dataframe tbody tr th {\n        vertical-align: top;\n    }\n\n    .dataframe thead th {\n        text-align: right;\n    }\n</style>\n<table border=\"1\" class=\"dataframe\">\n  <thead>\n    <tr style=\"text-align: right;\">\n      <th></th>\n      <th>StopID</th>\n      <th>stopDate</th>\n      <th>stopTime</th>\n      <th>stopDuration</th>\n      <th>stopInResponseToCFS</th>\n      <th>blockNumber</th>\n      <th>street</th>\n      <th>intersection</th>\n      <th>highwayExit</th>\n      <th>landMark</th>\n      <th>...</th>\n      <th>reasonForStop</th>\n      <th>reasonForStopDetail</th>\n      <th>reasonForStopcode</th>\n      <th>reasonForStopCodeText</th>\n      <th>actionTakenDuringStop</th>\n      <th>personSearchConsentGiven</th>\n      <th>propertySearchConsentGiven</th>\n      <th>resultOfStop</th>\n      <th>resultOfStopcode</th>\n      <th>resultOfStopcodeText</th>\n    </tr>\n  </thead>\n  <tbody>\n    <tr>\n      <th>0</th>\n      <td>5875</td>\n      <td>2019-01-01</td>\n      <td>07:41:59</td>\n      <td>5</td>\n      <td>0</td>\n      <td>200.0</td>\n      <td>E First St</td>\n      <td>NaN</td>\n      <td>NaN</td>\n      <td>NaN</td>\n      <td>...</td>\n      <td>Traffic Violation</td>\n      <td>Moving Violation</td>\n      <td>54153</td>\n      <td>21453(D) VC - PED AGAINST RED LIGHT/ETC (I) 54153</td>\n      <td>Curbside detention</td>\n      <td>NaN</td>\n      <td>NaN</td>\n      <td>Citation for infraction</td>\n      <td>54153</td>\n      <td>21453(D) VC - PED AGAINST RED LIGHT/ETC (I) 54153</td>\n    </tr>\n    <tr>\n      <th>1</th>\n      <td>5782</td>\n      <td>2019-01-01</td>\n      <td>00:04:59</td>\n      <td>5</td>\n      <td>1</td>\n      <td>5900.0</td>\n      <td>Long Beach Blvd</td>\n      <td>NaN</td>\n      <td>NaN</td>\n      <td>NaN</td>\n      <td>...</td>\n      <td>Reasonable Suspicion</td>\n      <td>Other Reasonable Suspicion of a crime</td>\n      <td>38021</td>\n      <td>273(A) PC - ILLEGAL PAY FOR ADOPTION (M) 38021</td>\n      <td>Curbside detention</td>\n      <td>NaN</td>\n      <td>NaN</td>\n      <td>Field interview card completed</td>\n      <td>NaN</td>\n      <td>NaN</td>\n    </tr>\n    <tr>\n      <th>2</th>\n      <td>5876</td>\n      <td>2019-01-01</td>\n      <td>18:17:00</td>\n      <td>4</td>\n      <td>0</td>\n      <td>6600.0</td>\n      <td>Butler Ave</td>\n      <td>NaN</td>\n      <td>NaN</td>\n      <td>NaN</td>\n      <td>...</td>\n      <td>Traffic Violation</td>\n      <td>Moving Violation</td>\n      <td>54106</td>\n      <td>22350 VC - UNSAFE SPEED:PREVAIL COND (I) 54106</td>\n      <td>None</td>\n      <td>NaN</td>\n      <td>NaN</td>\n      <td>No Action</td>\n      <td>NaN</td>\n      <td>NaN</td>\n    </tr>\n    <tr>\n      <th>3</th>\n      <td>5877</td>\n      <td>2019-01-01</td>\n      <td>18:25:35</td>\n      <td>10</td>\n      <td>1</td>\n      <td>900.0</td>\n      <td>E anaheim</td>\n      <td>NaN</td>\n      <td>NaN</td>\n      <td>NaN</td>\n      <td>...</td>\n      <td>Knowledge of outstanding arrest warrant/wanted...</td>\n      <td>NaN</td>\n      <td>0</td>\n      <td>NaN</td>\n      <td>None</td>\n      <td>NaN</td>\n      <td>NaN</td>\n      <td>No Action</td>\n      <td>NaN</td>\n      <td>NaN</td>\n    </tr>\n    <tr>\n      <th>4</th>\n      <td>5785</td>\n      <td>2019-01-01</td>\n      <td>01:04:00</td>\n      <td>16</td>\n      <td>0</td>\n      <td>4800.0</td>\n      <td>Vista street</td>\n      <td>NaN</td>\n      <td>NaN</td>\n      <td>NaN</td>\n      <td>...</td>\n      <td>Reasonable Suspicion</td>\n      <td>Other Reasonable Suspicion of a crime</td>\n      <td>65002</td>\n      <td>65002 ZZ - LOCAL ORDINANCE VIOL (I) 65002</td>\n      <td>None</td>\n      <td>NaN</td>\n      <td>NaN</td>\n      <td>Citation for infraction</td>\n      <td>65000</td>\n      <td>65000 ZZ - LOCAL ORDINANCE VIOL (M) 65000</td>\n    </tr>\n  </tbody>\n</table>\n<p>5 rows × 32 columns</p>\n</div>"
     },
     "metadata": {},
     "execution_count": 13
    }
   ],
   "source": [
    "remove_objectId(df)\n",
    "df.head()"
   ]
  },
  {
   "cell_type": "code",
   "execution_count": 26,
   "metadata": {},
   "outputs": [
    {
     "output_type": "execute_result",
     "data": {
      "text/plain": [
       "Index(['StopID', 'stopDate', 'stopTime', 'stopDuration', 'stopInResponseToCFS',\n",
       "       'blockNumber', 'street', 'intersection', 'highwayExit', 'landMark',\n",
       "       'city', 'isSchool', 'schoolName', 'PID', 'isStudent', 'perceivedAge',\n",
       "       'perceivedGender', 'genderNonconforming', 'perceivedLgbt',\n",
       "       'perceivedLimitedEnglish', 'perceivedRace',\n",
       "       'perceivedOrKnownDisability', 'reasonForStop', 'reasonForStopDetail',\n",
       "       'reasonForStopcode', 'reasonForStopCodeText', 'actionTakenDuringStop',\n",
       "       'personSearchConsentGiven', 'propertySearchConsentGiven',\n",
       "       'resultOfStop', 'resultOfStopcode', 'resultOfStopcodeText'],\n",
       "      dtype='object')"
      ]
     },
     "metadata": {},
     "execution_count": 26
    }
   ],
   "source": [
    "df.columns"
   ]
  },
  {
   "source": [
    "## Drop other unneeded columns:"
   ],
   "cell_type": "markdown",
   "metadata": {}
  },
  {
   "cell_type": "code",
   "execution_count": 27,
   "metadata": {},
   "outputs": [],
   "source": [
    "def drop_others(df):\n",
    "    cols = ['highwayExit','isSchool', 'schoolName', 'isStudent']\n",
    "    df.drop(cols, axis=1, inplace=True)"
   ]
  },
  {
   "cell_type": "code",
   "execution_count": 28,
   "metadata": {},
   "outputs": [
    {
     "output_type": "execute_result",
     "data": {
      "text/plain": [
       "Index(['StopID', 'stopDate', 'stopTime', 'stopDuration', 'stopInResponseToCFS',\n",
       "       'blockNumber', 'street', 'intersection', 'landMark', 'city', 'PID',\n",
       "       'perceivedAge', 'perceivedGender', 'genderNonconforming',\n",
       "       'perceivedLgbt', 'perceivedLimitedEnglish', 'perceivedRace',\n",
       "       'perceivedOrKnownDisability', 'reasonForStop', 'reasonForStopDetail',\n",
       "       'reasonForStopcode', 'reasonForStopCodeText', 'actionTakenDuringStop',\n",
       "       'personSearchConsentGiven', 'propertySearchConsentGiven',\n",
       "       'resultOfStop', 'resultOfStopcode', 'resultOfStopcodeText'],\n",
       "      dtype='object')"
      ]
     },
     "metadata": {},
     "execution_count": 28
    }
   ],
   "source": [
    "drop_others(df)\n",
    "df.columns"
   ]
  },
  {
   "cell_type": "code",
   "execution_count": 83,
   "metadata": {},
   "outputs": [],
   "source": [
    "def drop_stop_text(df):\n",
    "    stop_text_cols = ['reasonForStopcode', 'reasonForStopCodeText','resultOfStopcode', 'resultOfStopcodeText']\n",
    "    df.drop(stop_text_cols, axis=1, inplace=True)"
   ]
  },
  {
   "cell_type": "code",
   "execution_count": 84,
   "metadata": {},
   "outputs": [],
   "source": [
    "drop_stop_text(df)"
   ]
  },
  {
   "source": [
    "## Race: Cast unique responses into new columns\n",
    "* Our main dataframe has 40523 unique stops, we need to create dummy variables so as not to falsely create duplicates"
   ],
   "cell_type": "markdown",
   "metadata": {}
  },
  {
   "cell_type": "code",
   "execution_count": 128,
   "metadata": {},
   "outputs": [
    {
     "output_type": "stream",
     "name": "stderr",
     "text": [
      "/Users/terencerustia/opt/anaconda3/envs/lbpd_acab_env/lib/python3.8/site-packages/IPython/core/interactiveshell.py:3165: DtypeWarning: Columns (10) have mixed types.Specify dtype option on import or set low_memory=False.\n  has_raised = await self.run_ast_nodes(code_ast.body, cell_name,\n"
     ]
    },
    {
     "output_type": "execute_result",
     "data": {
      "text/plain": [
       "(40523, 21)"
      ]
     },
     "metadata": {},
     "execution_count": 128
    }
   ],
   "source": [
    "pd.read_csv('./raw_data/0. mainStopDateTime.csv').shape"
   ]
  },
  {
   "cell_type": "code",
   "execution_count": 111,
   "metadata": {},
   "outputs": [],
   "source": [
    "# TABLE 1 - Race data\n",
    "df_race = pd.read_csv('./raw_data/1. perceivedRace.csv')"
   ]
  },
  {
   "cell_type": "code",
   "execution_count": 112,
   "metadata": {},
   "outputs": [
    {
     "output_type": "execute_result",
     "data": {
      "text/plain": [
       "   properties.ObjectId  properties.StopID  properties.PID  \\\n",
       "0                    1               5782               1   \n",
       "1                    2               5785               1   \n",
       "2                    3               5786               1   \n",
       "3                    4               5787               1   \n",
       "4                    5               5787               1   \n",
       "\n",
       "  properties.perceivedRace  \n",
       "0                    White  \n",
       "1                    White  \n",
       "2                    White  \n",
       "3                    Asian  \n",
       "4                    Black  "
      ],
      "text/html": "<div>\n<style scoped>\n    .dataframe tbody tr th:only-of-type {\n        vertical-align: middle;\n    }\n\n    .dataframe tbody tr th {\n        vertical-align: top;\n    }\n\n    .dataframe thead th {\n        text-align: right;\n    }\n</style>\n<table border=\"1\" class=\"dataframe\">\n  <thead>\n    <tr style=\"text-align: right;\">\n      <th></th>\n      <th>properties.ObjectId</th>\n      <th>properties.StopID</th>\n      <th>properties.PID</th>\n      <th>properties.perceivedRace</th>\n    </tr>\n  </thead>\n  <tbody>\n    <tr>\n      <th>0</th>\n      <td>1</td>\n      <td>5782</td>\n      <td>1</td>\n      <td>White</td>\n    </tr>\n    <tr>\n      <th>1</th>\n      <td>2</td>\n      <td>5785</td>\n      <td>1</td>\n      <td>White</td>\n    </tr>\n    <tr>\n      <th>2</th>\n      <td>3</td>\n      <td>5786</td>\n      <td>1</td>\n      <td>White</td>\n    </tr>\n    <tr>\n      <th>3</th>\n      <td>4</td>\n      <td>5787</td>\n      <td>1</td>\n      <td>Asian</td>\n    </tr>\n    <tr>\n      <th>4</th>\n      <td>5</td>\n      <td>5787</td>\n      <td>1</td>\n      <td>Black</td>\n    </tr>\n  </tbody>\n</table>\n</div>"
     },
     "metadata": {},
     "execution_count": 112
    }
   ],
   "source": [
    "df_race.head()"
   ]
  },
  {
   "cell_type": "code",
   "execution_count": 125,
   "metadata": {},
   "outputs": [],
   "source": [
    "df_race.rename(columns=lambda x: re.sub('properties.', '', x), inplace=True)"
   ]
  },
  {
   "cell_type": "code",
   "execution_count": 131,
   "metadata": {},
   "outputs": [],
   "source": [
    "df_race = pd.get_dummies(df_race).groupby(['StopID', 'PID']).sum().rename(columns=lambda x: re.sub('perceivedRace_', 'perceived_', x))"
   ]
  },
  {
   "cell_type": "code",
   "execution_count": 132,
   "metadata": {},
   "outputs": [
    {
     "output_type": "execute_result",
     "data": {
      "text/plain": [
       "            ObjectId  perceived_Asian  perceived_Black  perceived_Hispanic  \\\n",
       "StopID PID                                                                   \n",
       "5782   1           1                0                0                   0   \n",
       "5785   1           2                0                0                   0   \n",
       "5786   1           3                0                0                   0   \n",
       "5787   1          49                1                1                   1   \n",
       "5788   1          11                0                0                   0   \n",
       "\n",
       "            perceived_Middle Eastern or South Asian  \\\n",
       "StopID PID                                            \n",
       "5782   1                                          0   \n",
       "5785   1                                          0   \n",
       "5786   1                                          0   \n",
       "5787   1                                          1   \n",
       "5788   1                                          0   \n",
       "\n",
       "            perceived_Native American  perceived_Pacific Islander  \\\n",
       "StopID PID                                                          \n",
       "5782   1                            0                           0   \n",
       "5785   1                            0                           0   \n",
       "5786   1                            0                           0   \n",
       "5787   1                            1                           1   \n",
       "5788   1                            0                           0   \n",
       "\n",
       "            perceived_White  \n",
       "StopID PID                   \n",
       "5782   1                  1  \n",
       "5785   1                  1  \n",
       "5786   1                  1  \n",
       "5787   1                  1  \n",
       "5788   1                  1  "
      ],
      "text/html": "<div>\n<style scoped>\n    .dataframe tbody tr th:only-of-type {\n        vertical-align: middle;\n    }\n\n    .dataframe tbody tr th {\n        vertical-align: top;\n    }\n\n    .dataframe thead th {\n        text-align: right;\n    }\n</style>\n<table border=\"1\" class=\"dataframe\">\n  <thead>\n    <tr style=\"text-align: right;\">\n      <th></th>\n      <th></th>\n      <th>ObjectId</th>\n      <th>perceived_Asian</th>\n      <th>perceived_Black</th>\n      <th>perceived_Hispanic</th>\n      <th>perceived_Middle Eastern or South Asian</th>\n      <th>perceived_Native American</th>\n      <th>perceived_Pacific Islander</th>\n      <th>perceived_White</th>\n    </tr>\n    <tr>\n      <th>StopID</th>\n      <th>PID</th>\n      <th></th>\n      <th></th>\n      <th></th>\n      <th></th>\n      <th></th>\n      <th></th>\n      <th></th>\n      <th></th>\n    </tr>\n  </thead>\n  <tbody>\n    <tr>\n      <th>5782</th>\n      <th>1</th>\n      <td>1</td>\n      <td>0</td>\n      <td>0</td>\n      <td>0</td>\n      <td>0</td>\n      <td>0</td>\n      <td>0</td>\n      <td>1</td>\n    </tr>\n    <tr>\n      <th>5785</th>\n      <th>1</th>\n      <td>2</td>\n      <td>0</td>\n      <td>0</td>\n      <td>0</td>\n      <td>0</td>\n      <td>0</td>\n      <td>0</td>\n      <td>1</td>\n    </tr>\n    <tr>\n      <th>5786</th>\n      <th>1</th>\n      <td>3</td>\n      <td>0</td>\n      <td>0</td>\n      <td>0</td>\n      <td>0</td>\n      <td>0</td>\n      <td>0</td>\n      <td>1</td>\n    </tr>\n    <tr>\n      <th>5787</th>\n      <th>1</th>\n      <td>49</td>\n      <td>1</td>\n      <td>1</td>\n      <td>1</td>\n      <td>1</td>\n      <td>1</td>\n      <td>1</td>\n      <td>1</td>\n    </tr>\n    <tr>\n      <th>5788</th>\n      <th>1</th>\n      <td>11</td>\n      <td>0</td>\n      <td>0</td>\n      <td>0</td>\n      <td>0</td>\n      <td>0</td>\n      <td>0</td>\n      <td>1</td>\n    </tr>\n  </tbody>\n</table>\n</div>"
     },
     "metadata": {},
     "execution_count": 132
    }
   ],
   "source": [
    "df_race.head()"
   ]
  },
  {
   "cell_type": "code",
   "execution_count": null,
   "metadata": {},
   "outputs": [],
   "source": []
  },
  {
   "source": [
    "## Clean Disability Table:"
   ],
   "cell_type": "markdown",
   "metadata": {}
  },
  {
   "cell_type": "code",
   "execution_count": 1,
   "metadata": {},
   "outputs": [
    {
     "output_type": "error",
     "ename": "NameError",
     "evalue": "name 'pd' is not defined",
     "traceback": [
      "\u001b[0;31m---------------------------------------------------------------------------\u001b[0m",
      "\u001b[0;31mNameError\u001b[0m                                 Traceback (most recent call last)",
      "\u001b[0;32m<ipython-input-1-c0a4e155d828>\u001b[0m in \u001b[0;36m<module>\u001b[0;34m\u001b[0m\n\u001b[0;32m----> 1\u001b[0;31m \u001b[0mdisability_df\u001b[0m \u001b[0;34m=\u001b[0m \u001b[0mpd\u001b[0m\u001b[0;34m.\u001b[0m\u001b[0mread_csv\u001b[0m\u001b[0;34m(\u001b[0m\u001b[0;34m'./raw_data/2. perceivedKnownDisability.csv'\u001b[0m\u001b[0;34m)\u001b[0m\u001b[0;34m\u001b[0m\u001b[0;34m\u001b[0m\u001b[0m\n\u001b[0m\u001b[1;32m      2\u001b[0m \u001b[0mdisability_df\u001b[0m\u001b[0;34m.\u001b[0m\u001b[0mhead\u001b[0m\u001b[0;34m(\u001b[0m\u001b[0;36m3\u001b[0m\u001b[0;34m)\u001b[0m\u001b[0;34m\u001b[0m\u001b[0;34m\u001b[0m\u001b[0m\n",
      "\u001b[0;31mNameError\u001b[0m: name 'pd' is not defined"
     ]
    }
   ],
   "source": [
    "disability_df = pd.read_csv('./raw_data/2. perceivedKnownDisability.csv')\n",
    "disability_df.head(3)"
   ]
  },
  {
   "cell_type": "code",
   "execution_count": 154,
   "metadata": {},
   "outputs": [
    {
     "output_type": "execute_result",
     "data": {
      "text/plain": [
       "   ObjectId  StopID  PID Disability\n",
       "0         1    5782    1       None\n",
       "1         2    5785    1       None\n",
       "2         3    5786    1       None"
      ],
      "text/html": "<div>\n<style scoped>\n    .dataframe tbody tr th:only-of-type {\n        vertical-align: middle;\n    }\n\n    .dataframe tbody tr th {\n        vertical-align: top;\n    }\n\n    .dataframe thead th {\n        text-align: right;\n    }\n</style>\n<table border=\"1\" class=\"dataframe\">\n  <thead>\n    <tr style=\"text-align: right;\">\n      <th></th>\n      <th>ObjectId</th>\n      <th>StopID</th>\n      <th>PID</th>\n      <th>Disability</th>\n    </tr>\n  </thead>\n  <tbody>\n    <tr>\n      <th>0</th>\n      <td>1</td>\n      <td>5782</td>\n      <td>1</td>\n      <td>None</td>\n    </tr>\n    <tr>\n      <th>1</th>\n      <td>2</td>\n      <td>5785</td>\n      <td>1</td>\n      <td>None</td>\n    </tr>\n    <tr>\n      <th>2</th>\n      <td>3</td>\n      <td>5786</td>\n      <td>1</td>\n      <td>None</td>\n    </tr>\n  </tbody>\n</table>\n</div>"
     },
     "metadata": {},
     "execution_count": 154
    }
   ],
   "source": [
    "disability_df.rename(columns= lambda x: re.sub('properties.', '', x), inplace=True)\n",
    "disability_df.rename(columns= lambda x: re.sub('perceivedOrKnown', '', x), inplace=True)\n",
    "disability_df.head(3)"
   ]
  },
  {
   "cell_type": "code",
   "execution_count": 149,
   "metadata": {},
   "outputs": [
    {
     "output_type": "execute_result",
     "data": {
      "text/plain": [
       "array(['None', 'Mental health condition',\n",
       "       'Speech impairment or limited use of language', 'Other disability',\n",
       "       'Deafness or difficulty hearing', 'Blind or limited vision',\n",
       "       'Intellectual or developmental disability, including dementia'],\n",
       "      dtype=object)"
      ]
     },
     "metadata": {},
     "execution_count": 149
    }
   ],
   "source": [
    "disability_df['Disability'].unique()"
   ]
  },
  {
   "cell_type": "code",
   "execution_count": 150,
   "metadata": {},
   "outputs": [
    {
     "output_type": "stream",
     "name": "stdout",
     "text": [
      "<class 'pandas.core.frame.DataFrame'>\nRangeIndex: 40585 entries, 0 to 40584\nData columns (total 4 columns):\n #   Column      Non-Null Count  Dtype \n---  ------      --------------  ----- \n 0   ObjectId    40585 non-null  int64 \n 1   StopID      40585 non-null  int64 \n 2   PID         40585 non-null  int64 \n 3   Disability  40585 non-null  object\ndtypes: int64(3), object(1)\nmemory usage: 1.2+ MB\n"
     ]
    }
   ],
   "source": [
    "disability_df.info()"
   ]
  },
  {
   "cell_type": "code",
   "execution_count": 155,
   "metadata": {},
   "outputs": [
    {
     "output_type": "execute_result",
     "data": {
      "text/plain": [
       "   ObjectId  StopID  PID  DA_Blind or limited vision  \\\n",
       "0         1    5782    1                           0   \n",
       "1         2    5785    1                           0   \n",
       "2         3    5786    1                           0   \n",
       "3         4    5787    1                           0   \n",
       "4         5    5788    1                           0   \n",
       "\n",
       "   DA_Deafness or difficulty hearing  \\\n",
       "0                                  0   \n",
       "1                                  0   \n",
       "2                                  0   \n",
       "3                                  0   \n",
       "4                                  0   \n",
       "\n",
       "   DA_Intellectual or developmental disability, including dementia  \\\n",
       "0                                                  0                 \n",
       "1                                                  0                 \n",
       "2                                                  0                 \n",
       "3                                                  0                 \n",
       "4                                                  0                 \n",
       "\n",
       "   DA_Mental health condition  DA_Other disability  \\\n",
       "0                           0                    0   \n",
       "1                           0                    0   \n",
       "2                           0                    0   \n",
       "3                           0                    0   \n",
       "4                           0                    0   \n",
       "\n",
       "   DA_Speech impairment or limited use of language  \n",
       "0                                                0  \n",
       "1                                                0  \n",
       "2                                                0  \n",
       "3                                                0  \n",
       "4                                                0  "
      ],
      "text/html": "<div>\n<style scoped>\n    .dataframe tbody tr th:only-of-type {\n        vertical-align: middle;\n    }\n\n    .dataframe tbody tr th {\n        vertical-align: top;\n    }\n\n    .dataframe thead th {\n        text-align: right;\n    }\n</style>\n<table border=\"1\" class=\"dataframe\">\n  <thead>\n    <tr style=\"text-align: right;\">\n      <th></th>\n      <th>ObjectId</th>\n      <th>StopID</th>\n      <th>PID</th>\n      <th>DA_Blind or limited vision</th>\n      <th>DA_Deafness or difficulty hearing</th>\n      <th>DA_Intellectual or developmental disability, including dementia</th>\n      <th>DA_Mental health condition</th>\n      <th>DA_Other disability</th>\n      <th>DA_Speech impairment or limited use of language</th>\n    </tr>\n  </thead>\n  <tbody>\n    <tr>\n      <th>0</th>\n      <td>1</td>\n      <td>5782</td>\n      <td>1</td>\n      <td>0</td>\n      <td>0</td>\n      <td>0</td>\n      <td>0</td>\n      <td>0</td>\n      <td>0</td>\n    </tr>\n    <tr>\n      <th>1</th>\n      <td>2</td>\n      <td>5785</td>\n      <td>1</td>\n      <td>0</td>\n      <td>0</td>\n      <td>0</td>\n      <td>0</td>\n      <td>0</td>\n      <td>0</td>\n    </tr>\n    <tr>\n      <th>2</th>\n      <td>3</td>\n      <td>5786</td>\n      <td>1</td>\n      <td>0</td>\n      <td>0</td>\n      <td>0</td>\n      <td>0</td>\n      <td>0</td>\n      <td>0</td>\n    </tr>\n    <tr>\n      <th>3</th>\n      <td>4</td>\n      <td>5787</td>\n      <td>1</td>\n      <td>0</td>\n      <td>0</td>\n      <td>0</td>\n      <td>0</td>\n      <td>0</td>\n      <td>0</td>\n    </tr>\n    <tr>\n      <th>4</th>\n      <td>5</td>\n      <td>5788</td>\n      <td>1</td>\n      <td>0</td>\n      <td>0</td>\n      <td>0</td>\n      <td>0</td>\n      <td>0</td>\n      <td>0</td>\n    </tr>\n  </tbody>\n</table>\n</div>"
     },
     "metadata": {},
     "execution_count": 155
    }
   ],
   "source": [
    "disability_df = pd.get_dummies(disability_df)\n",
    "disability_df.drop('Disability_None', axis=1, inplace=True)\n",
    "disability_df.rename(columns=lambda x: re.sub('Disability_', 'DA_', x), inplace=True)\n",
    "disability_df.head()"
   ]
  },
  {
   "cell_type": "code",
   "execution_count": null,
   "metadata": {},
   "outputs": [],
   "source": [
    "# Cleaning function\n",
    "def "
   ]
  },
  {
   "cell_type": "code",
   "execution_count": null,
   "metadata": {},
   "outputs": [],
   "source": []
  }
 ]
}