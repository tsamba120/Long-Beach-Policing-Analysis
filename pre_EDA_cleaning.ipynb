{
 "metadata": {
  "language_info": {
   "codemirror_mode": {
    "name": "ipython",
    "version": 3
   },
   "file_extension": ".py",
   "mimetype": "text/x-python",
   "name": "python",
   "nbconvert_exporter": "python",
   "pygments_lexer": "ipython3",
   "version": "3.8.5"
  },
  "orig_nbformat": 2,
  "kernelspec": {
   "name": "python385jvsc74a57bd0c80bbb1121cd7f4020b528273b0abdb9e6c4295ef68413e87e37775322d7a8ce",
   "display_name": "Python 3.8.5 64-bit ('lbpd_acab_env': conda)"
  },
  "metadata": {
   "interpreter": {
    "hash": "c80bbb1121cd7f4020b528273b0abdb9e6c4295ef68413e87e37775322d7a8ce"
   }
  }
 },
 "nbformat": 4,
 "nbformat_minor": 2,
 "cells": [
  {
   "source": [
    "# Pre-EDA Cleaning for Scripts"
   ],
   "cell_type": "markdown",
   "metadata": {}
  },
  {
   "cell_type": "code",
   "execution_count": 4,
   "metadata": {},
   "outputs": [],
   "source": [
    "import re\n",
    "import numpy as np\n",
    "import pandas as pd\n",
    "import matplotlib.pyplot as plt\n",
    "import seaborn as sns"
   ]
  },
  {
   "cell_type": "code",
   "execution_count": 20,
   "metadata": {},
   "outputs": [],
   "source": [
    "df = pd.read_csv('./processed_data/PROCESSED_0_to_5.csv', dtype=object)"
   ]
  },
  {
   "cell_type": "code",
   "execution_count": 7,
   "metadata": {},
   "outputs": [
    {
     "output_type": "execute_result",
     "data": {
      "text/plain": [
       "  ObjectId_x StopID             stopDate             stopTime stopDuration  \\\n",
       "0          1   5875  2019/01/01 00:00:00  2020/06/26 07:41:59            5   \n",
       "1          2   5782  2019/01/01 00:00:00  2020/06/26 00:04:59            5   \n",
       "2          3   5876  2019/01/01 00:00:00  2020/06/26 18:17:00            4   \n",
       "3          4   5877  2019/01/01 00:00:00  2020/06/26 18:25:35           10   \n",
       "4          5   5785  2019/01/01 00:00:00  2020/06/26 01:04:00           16   \n",
       "\n",
       "  stopInResponseToCFS blockNumber           street intersection highwayExit  \\\n",
       "0                   0       200.0       E First St          NaN         NaN   \n",
       "1                   1      5900.0  Long Beach Blvd          NaN         NaN   \n",
       "2                   0      6600.0       Butler Ave          NaN         NaN   \n",
       "3                   1       900.0        E anaheim          NaN         NaN   \n",
       "4                   0      4800.0     Vista street          NaN         NaN   \n",
       "\n",
       "   ... reasonForStopcode                              reasonForStopCodeText  \\\n",
       "0  ...             54153  21453(D) VC - PED AGAINST RED LIGHT/ETC (I) 54153   \n",
       "1  ...             38021     273(A) PC - ILLEGAL PAY FOR ADOPTION (M) 38021   \n",
       "2  ...             54106     22350 VC - UNSAFE SPEED:PREVAIL COND (I) 54106   \n",
       "3  ...                 0                                                NaN   \n",
       "4  ...             65002          65002 ZZ - LOCAL ORDINANCE VIOL (I) 65002   \n",
       "\n",
       "  ObjectId_x.2 actionTakenDuringStop personSearchConsentGiven  \\\n",
       "0           17    Curbside detention                      NaN   \n",
       "1            3    Curbside detention                      NaN   \n",
       "2           22                  None                      NaN   \n",
       "3           24                  None                      NaN   \n",
       "4            8                  None                      NaN   \n",
       "\n",
       "  propertySearchConsentGiven ObjectId_y.2                    resultOfStop  \\\n",
       "0                        NaN           47         Citation for infraction   \n",
       "1                        NaN            1  Field interview card completed   \n",
       "2                        NaN           51                       No Action   \n",
       "3                        NaN           55                       No Action   \n",
       "4                        NaN            5         Citation for infraction   \n",
       "\n",
       "  resultOfStopcode                               resultOfStopcodeText  \n",
       "0            54153  21453(D) VC - PED AGAINST RED LIGHT/ETC (I) 54153  \n",
       "1              NaN                                                NaN  \n",
       "2              NaN                                                NaN  \n",
       "3              NaN                                                NaN  \n",
       "4            65000          65000 ZZ - LOCAL ORDINANCE VIOL (M) 65000  \n",
       "\n",
       "[5 rows x 38 columns]"
      ],
      "text/html": "<div>\n<style scoped>\n    .dataframe tbody tr th:only-of-type {\n        vertical-align: middle;\n    }\n\n    .dataframe tbody tr th {\n        vertical-align: top;\n    }\n\n    .dataframe thead th {\n        text-align: right;\n    }\n</style>\n<table border=\"1\" class=\"dataframe\">\n  <thead>\n    <tr style=\"text-align: right;\">\n      <th></th>\n      <th>ObjectId_x</th>\n      <th>StopID</th>\n      <th>stopDate</th>\n      <th>stopTime</th>\n      <th>stopDuration</th>\n      <th>stopInResponseToCFS</th>\n      <th>blockNumber</th>\n      <th>street</th>\n      <th>intersection</th>\n      <th>highwayExit</th>\n      <th>...</th>\n      <th>reasonForStopcode</th>\n      <th>reasonForStopCodeText</th>\n      <th>ObjectId_x.2</th>\n      <th>actionTakenDuringStop</th>\n      <th>personSearchConsentGiven</th>\n      <th>propertySearchConsentGiven</th>\n      <th>ObjectId_y.2</th>\n      <th>resultOfStop</th>\n      <th>resultOfStopcode</th>\n      <th>resultOfStopcodeText</th>\n    </tr>\n  </thead>\n  <tbody>\n    <tr>\n      <th>0</th>\n      <td>1</td>\n      <td>5875</td>\n      <td>2019/01/01 00:00:00</td>\n      <td>2020/06/26 07:41:59</td>\n      <td>5</td>\n      <td>0</td>\n      <td>200.0</td>\n      <td>E First St</td>\n      <td>NaN</td>\n      <td>NaN</td>\n      <td>...</td>\n      <td>54153</td>\n      <td>21453(D) VC - PED AGAINST RED LIGHT/ETC (I) 54153</td>\n      <td>17</td>\n      <td>Curbside detention</td>\n      <td>NaN</td>\n      <td>NaN</td>\n      <td>47</td>\n      <td>Citation for infraction</td>\n      <td>54153</td>\n      <td>21453(D) VC - PED AGAINST RED LIGHT/ETC (I) 54153</td>\n    </tr>\n    <tr>\n      <th>1</th>\n      <td>2</td>\n      <td>5782</td>\n      <td>2019/01/01 00:00:00</td>\n      <td>2020/06/26 00:04:59</td>\n      <td>5</td>\n      <td>1</td>\n      <td>5900.0</td>\n      <td>Long Beach Blvd</td>\n      <td>NaN</td>\n      <td>NaN</td>\n      <td>...</td>\n      <td>38021</td>\n      <td>273(A) PC - ILLEGAL PAY FOR ADOPTION (M) 38021</td>\n      <td>3</td>\n      <td>Curbside detention</td>\n      <td>NaN</td>\n      <td>NaN</td>\n      <td>1</td>\n      <td>Field interview card completed</td>\n      <td>NaN</td>\n      <td>NaN</td>\n    </tr>\n    <tr>\n      <th>2</th>\n      <td>3</td>\n      <td>5876</td>\n      <td>2019/01/01 00:00:00</td>\n      <td>2020/06/26 18:17:00</td>\n      <td>4</td>\n      <td>0</td>\n      <td>6600.0</td>\n      <td>Butler Ave</td>\n      <td>NaN</td>\n      <td>NaN</td>\n      <td>...</td>\n      <td>54106</td>\n      <td>22350 VC - UNSAFE SPEED:PREVAIL COND (I) 54106</td>\n      <td>22</td>\n      <td>None</td>\n      <td>NaN</td>\n      <td>NaN</td>\n      <td>51</td>\n      <td>No Action</td>\n      <td>NaN</td>\n      <td>NaN</td>\n    </tr>\n    <tr>\n      <th>3</th>\n      <td>4</td>\n      <td>5877</td>\n      <td>2019/01/01 00:00:00</td>\n      <td>2020/06/26 18:25:35</td>\n      <td>10</td>\n      <td>1</td>\n      <td>900.0</td>\n      <td>E anaheim</td>\n      <td>NaN</td>\n      <td>NaN</td>\n      <td>...</td>\n      <td>0</td>\n      <td>NaN</td>\n      <td>24</td>\n      <td>None</td>\n      <td>NaN</td>\n      <td>NaN</td>\n      <td>55</td>\n      <td>No Action</td>\n      <td>NaN</td>\n      <td>NaN</td>\n    </tr>\n    <tr>\n      <th>4</th>\n      <td>5</td>\n      <td>5785</td>\n      <td>2019/01/01 00:00:00</td>\n      <td>2020/06/26 01:04:00</td>\n      <td>16</td>\n      <td>0</td>\n      <td>4800.0</td>\n      <td>Vista street</td>\n      <td>NaN</td>\n      <td>NaN</td>\n      <td>...</td>\n      <td>65002</td>\n      <td>65002 ZZ - LOCAL ORDINANCE VIOL (I) 65002</td>\n      <td>8</td>\n      <td>None</td>\n      <td>NaN</td>\n      <td>NaN</td>\n      <td>5</td>\n      <td>Citation for infraction</td>\n      <td>65000</td>\n      <td>65000 ZZ - LOCAL ORDINANCE VIOL (M) 65000</td>\n    </tr>\n  </tbody>\n</table>\n<p>5 rows × 38 columns</p>\n</div>"
     },
     "metadata": {},
     "execution_count": 7
    }
   ],
   "source": [
    "df.head()"
   ]
  },
  {
   "source": [
    "### Clean date and time columns:"
   ],
   "cell_type": "markdown",
   "metadata": {}
  },
  {
   "cell_type": "code",
   "execution_count": 17,
   "metadata": {},
   "outputs": [],
   "source": [
    "def clean_date_time(df):\n",
    "    df['stopDate'] = pd.to_datetime(df['stopDate']).dt.date\n",
    "    df['stopTime'] = pd.to_datetime(df['stopTime']).dt.time"
   ]
  },
  {
   "cell_type": "code",
   "execution_count": 22,
   "metadata": {},
   "outputs": [],
   "source": [
    "clean_date_time(df)"
   ]
  },
  {
   "cell_type": "code",
   "execution_count": 23,
   "metadata": {},
   "outputs": [
    {
     "output_type": "execute_result",
     "data": {
      "text/plain": [
       "  ObjectId_x StopID    stopDate  stopTime stopDuration stopInResponseToCFS  \\\n",
       "0          1   5875  2019-01-01  07:41:59            5                   0   \n",
       "1          2   5782  2019-01-01  00:04:59            5                   1   \n",
       "2          3   5876  2019-01-01  18:17:00            4                   0   \n",
       "3          4   5877  2019-01-01  18:25:35           10                   1   \n",
       "4          5   5785  2019-01-01  01:04:00           16                   0   \n",
       "\n",
       "  blockNumber           street intersection highwayExit  ...  \\\n",
       "0       200.0       E First St          NaN         NaN  ...   \n",
       "1      5900.0  Long Beach Blvd          NaN         NaN  ...   \n",
       "2      6600.0       Butler Ave          NaN         NaN  ...   \n",
       "3       900.0        E anaheim          NaN         NaN  ...   \n",
       "4      4800.0     Vista street          NaN         NaN  ...   \n",
       "\n",
       "  reasonForStopcode                              reasonForStopCodeText  \\\n",
       "0             54153  21453(D) VC - PED AGAINST RED LIGHT/ETC (I) 54153   \n",
       "1             38021     273(A) PC - ILLEGAL PAY FOR ADOPTION (M) 38021   \n",
       "2             54106     22350 VC - UNSAFE SPEED:PREVAIL COND (I) 54106   \n",
       "3                 0                                                NaN   \n",
       "4             65002          65002 ZZ - LOCAL ORDINANCE VIOL (I) 65002   \n",
       "\n",
       "  ObjectId_x.2 actionTakenDuringStop personSearchConsentGiven  \\\n",
       "0           17    Curbside detention                      NaN   \n",
       "1            3    Curbside detention                      NaN   \n",
       "2           22                  None                      NaN   \n",
       "3           24                  None                      NaN   \n",
       "4            8                  None                      NaN   \n",
       "\n",
       "  propertySearchConsentGiven ObjectId_y.2                    resultOfStop  \\\n",
       "0                        NaN           47         Citation for infraction   \n",
       "1                        NaN            1  Field interview card completed   \n",
       "2                        NaN           51                       No Action   \n",
       "3                        NaN           55                       No Action   \n",
       "4                        NaN            5         Citation for infraction   \n",
       "\n",
       "  resultOfStopcode                               resultOfStopcodeText  \n",
       "0            54153  21453(D) VC - PED AGAINST RED LIGHT/ETC (I) 54153  \n",
       "1              NaN                                                NaN  \n",
       "2              NaN                                                NaN  \n",
       "3              NaN                                                NaN  \n",
       "4            65000          65000 ZZ - LOCAL ORDINANCE VIOL (M) 65000  \n",
       "\n",
       "[5 rows x 38 columns]"
      ],
      "text/html": "<div>\n<style scoped>\n    .dataframe tbody tr th:only-of-type {\n        vertical-align: middle;\n    }\n\n    .dataframe tbody tr th {\n        vertical-align: top;\n    }\n\n    .dataframe thead th {\n        text-align: right;\n    }\n</style>\n<table border=\"1\" class=\"dataframe\">\n  <thead>\n    <tr style=\"text-align: right;\">\n      <th></th>\n      <th>ObjectId_x</th>\n      <th>StopID</th>\n      <th>stopDate</th>\n      <th>stopTime</th>\n      <th>stopDuration</th>\n      <th>stopInResponseToCFS</th>\n      <th>blockNumber</th>\n      <th>street</th>\n      <th>intersection</th>\n      <th>highwayExit</th>\n      <th>...</th>\n      <th>reasonForStopcode</th>\n      <th>reasonForStopCodeText</th>\n      <th>ObjectId_x.2</th>\n      <th>actionTakenDuringStop</th>\n      <th>personSearchConsentGiven</th>\n      <th>propertySearchConsentGiven</th>\n      <th>ObjectId_y.2</th>\n      <th>resultOfStop</th>\n      <th>resultOfStopcode</th>\n      <th>resultOfStopcodeText</th>\n    </tr>\n  </thead>\n  <tbody>\n    <tr>\n      <th>0</th>\n      <td>1</td>\n      <td>5875</td>\n      <td>2019-01-01</td>\n      <td>07:41:59</td>\n      <td>5</td>\n      <td>0</td>\n      <td>200.0</td>\n      <td>E First St</td>\n      <td>NaN</td>\n      <td>NaN</td>\n      <td>...</td>\n      <td>54153</td>\n      <td>21453(D) VC - PED AGAINST RED LIGHT/ETC (I) 54153</td>\n      <td>17</td>\n      <td>Curbside detention</td>\n      <td>NaN</td>\n      <td>NaN</td>\n      <td>47</td>\n      <td>Citation for infraction</td>\n      <td>54153</td>\n      <td>21453(D) VC - PED AGAINST RED LIGHT/ETC (I) 54153</td>\n    </tr>\n    <tr>\n      <th>1</th>\n      <td>2</td>\n      <td>5782</td>\n      <td>2019-01-01</td>\n      <td>00:04:59</td>\n      <td>5</td>\n      <td>1</td>\n      <td>5900.0</td>\n      <td>Long Beach Blvd</td>\n      <td>NaN</td>\n      <td>NaN</td>\n      <td>...</td>\n      <td>38021</td>\n      <td>273(A) PC - ILLEGAL PAY FOR ADOPTION (M) 38021</td>\n      <td>3</td>\n      <td>Curbside detention</td>\n      <td>NaN</td>\n      <td>NaN</td>\n      <td>1</td>\n      <td>Field interview card completed</td>\n      <td>NaN</td>\n      <td>NaN</td>\n    </tr>\n    <tr>\n      <th>2</th>\n      <td>3</td>\n      <td>5876</td>\n      <td>2019-01-01</td>\n      <td>18:17:00</td>\n      <td>4</td>\n      <td>0</td>\n      <td>6600.0</td>\n      <td>Butler Ave</td>\n      <td>NaN</td>\n      <td>NaN</td>\n      <td>...</td>\n      <td>54106</td>\n      <td>22350 VC - UNSAFE SPEED:PREVAIL COND (I) 54106</td>\n      <td>22</td>\n      <td>None</td>\n      <td>NaN</td>\n      <td>NaN</td>\n      <td>51</td>\n      <td>No Action</td>\n      <td>NaN</td>\n      <td>NaN</td>\n    </tr>\n    <tr>\n      <th>3</th>\n      <td>4</td>\n      <td>5877</td>\n      <td>2019-01-01</td>\n      <td>18:25:35</td>\n      <td>10</td>\n      <td>1</td>\n      <td>900.0</td>\n      <td>E anaheim</td>\n      <td>NaN</td>\n      <td>NaN</td>\n      <td>...</td>\n      <td>0</td>\n      <td>NaN</td>\n      <td>24</td>\n      <td>None</td>\n      <td>NaN</td>\n      <td>NaN</td>\n      <td>55</td>\n      <td>No Action</td>\n      <td>NaN</td>\n      <td>NaN</td>\n    </tr>\n    <tr>\n      <th>4</th>\n      <td>5</td>\n      <td>5785</td>\n      <td>2019-01-01</td>\n      <td>01:04:00</td>\n      <td>16</td>\n      <td>0</td>\n      <td>4800.0</td>\n      <td>Vista street</td>\n      <td>NaN</td>\n      <td>NaN</td>\n      <td>...</td>\n      <td>65002</td>\n      <td>65002 ZZ - LOCAL ORDINANCE VIOL (I) 65002</td>\n      <td>8</td>\n      <td>None</td>\n      <td>NaN</td>\n      <td>NaN</td>\n      <td>5</td>\n      <td>Citation for infraction</td>\n      <td>65000</td>\n      <td>65000 ZZ - LOCAL ORDINANCE VIOL (M) 65000</td>\n    </tr>\n  </tbody>\n</table>\n<p>5 rows × 38 columns</p>\n</div>"
     },
     "metadata": {},
     "execution_count": 23
    }
   ],
   "source": [
    "df.head()"
   ]
  },
  {
   "source": [
    "### Remove excess ObjectId columns:"
   ],
   "cell_type": "markdown",
   "metadata": {}
  },
  {
   "cell_type": "code",
   "execution_count": 24,
   "metadata": {},
   "outputs": [],
   "source": [
    "def remove_objectId(df):\n",
    "    cols = list(df.filter(regex='ObjectId').columns)\n",
    "    df.drop(cols, axis=1, inplace=True)"
   ]
  },
  {
   "cell_type": "code",
   "execution_count": 25,
   "metadata": {},
   "outputs": [
    {
     "output_type": "execute_result",
     "data": {
      "text/plain": [
       "  StopID    stopDate  stopTime stopDuration stopInResponseToCFS blockNumber  \\\n",
       "0   5875  2019-01-01  07:41:59            5                   0       200.0   \n",
       "1   5782  2019-01-01  00:04:59            5                   1      5900.0   \n",
       "2   5876  2019-01-01  18:17:00            4                   0      6600.0   \n",
       "3   5877  2019-01-01  18:25:35           10                   1       900.0   \n",
       "4   5785  2019-01-01  01:04:00           16                   0      4800.0   \n",
       "\n",
       "            street intersection highwayExit landMark  ...  \\\n",
       "0       E First St          NaN         NaN      NaN  ...   \n",
       "1  Long Beach Blvd          NaN         NaN      NaN  ...   \n",
       "2       Butler Ave          NaN         NaN      NaN  ...   \n",
       "3        E anaheim          NaN         NaN      NaN  ...   \n",
       "4     Vista street          NaN         NaN      NaN  ...   \n",
       "\n",
       "                                       reasonForStop  \\\n",
       "0                                  Traffic Violation   \n",
       "1                               Reasonable Suspicion   \n",
       "2                                  Traffic Violation   \n",
       "3  Knowledge of outstanding arrest warrant/wanted...   \n",
       "4                               Reasonable Suspicion   \n",
       "\n",
       "                     reasonForStopDetail reasonForStopcode  \\\n",
       "0                       Moving Violation             54153   \n",
       "1  Other Reasonable Suspicion of a crime             38021   \n",
       "2                       Moving Violation             54106   \n",
       "3                                    NaN                 0   \n",
       "4  Other Reasonable Suspicion of a crime             65002   \n",
       "\n",
       "                               reasonForStopCodeText actionTakenDuringStop  \\\n",
       "0  21453(D) VC - PED AGAINST RED LIGHT/ETC (I) 54153    Curbside detention   \n",
       "1     273(A) PC - ILLEGAL PAY FOR ADOPTION (M) 38021    Curbside detention   \n",
       "2     22350 VC - UNSAFE SPEED:PREVAIL COND (I) 54106                  None   \n",
       "3                                                NaN                  None   \n",
       "4          65002 ZZ - LOCAL ORDINANCE VIOL (I) 65002                  None   \n",
       "\n",
       "  personSearchConsentGiven propertySearchConsentGiven  \\\n",
       "0                      NaN                        NaN   \n",
       "1                      NaN                        NaN   \n",
       "2                      NaN                        NaN   \n",
       "3                      NaN                        NaN   \n",
       "4                      NaN                        NaN   \n",
       "\n",
       "                     resultOfStop resultOfStopcode  \\\n",
       "0         Citation for infraction            54153   \n",
       "1  Field interview card completed              NaN   \n",
       "2                       No Action              NaN   \n",
       "3                       No Action              NaN   \n",
       "4         Citation for infraction            65000   \n",
       "\n",
       "                                resultOfStopcodeText  \n",
       "0  21453(D) VC - PED AGAINST RED LIGHT/ETC (I) 54153  \n",
       "1                                                NaN  \n",
       "2                                                NaN  \n",
       "3                                                NaN  \n",
       "4          65000 ZZ - LOCAL ORDINANCE VIOL (M) 65000  \n",
       "\n",
       "[5 rows x 32 columns]"
      ],
      "text/html": "<div>\n<style scoped>\n    .dataframe tbody tr th:only-of-type {\n        vertical-align: middle;\n    }\n\n    .dataframe tbody tr th {\n        vertical-align: top;\n    }\n\n    .dataframe thead th {\n        text-align: right;\n    }\n</style>\n<table border=\"1\" class=\"dataframe\">\n  <thead>\n    <tr style=\"text-align: right;\">\n      <th></th>\n      <th>StopID</th>\n      <th>stopDate</th>\n      <th>stopTime</th>\n      <th>stopDuration</th>\n      <th>stopInResponseToCFS</th>\n      <th>blockNumber</th>\n      <th>street</th>\n      <th>intersection</th>\n      <th>highwayExit</th>\n      <th>landMark</th>\n      <th>...</th>\n      <th>reasonForStop</th>\n      <th>reasonForStopDetail</th>\n      <th>reasonForStopcode</th>\n      <th>reasonForStopCodeText</th>\n      <th>actionTakenDuringStop</th>\n      <th>personSearchConsentGiven</th>\n      <th>propertySearchConsentGiven</th>\n      <th>resultOfStop</th>\n      <th>resultOfStopcode</th>\n      <th>resultOfStopcodeText</th>\n    </tr>\n  </thead>\n  <tbody>\n    <tr>\n      <th>0</th>\n      <td>5875</td>\n      <td>2019-01-01</td>\n      <td>07:41:59</td>\n      <td>5</td>\n      <td>0</td>\n      <td>200.0</td>\n      <td>E First St</td>\n      <td>NaN</td>\n      <td>NaN</td>\n      <td>NaN</td>\n      <td>...</td>\n      <td>Traffic Violation</td>\n      <td>Moving Violation</td>\n      <td>54153</td>\n      <td>21453(D) VC - PED AGAINST RED LIGHT/ETC (I) 54153</td>\n      <td>Curbside detention</td>\n      <td>NaN</td>\n      <td>NaN</td>\n      <td>Citation for infraction</td>\n      <td>54153</td>\n      <td>21453(D) VC - PED AGAINST RED LIGHT/ETC (I) 54153</td>\n    </tr>\n    <tr>\n      <th>1</th>\n      <td>5782</td>\n      <td>2019-01-01</td>\n      <td>00:04:59</td>\n      <td>5</td>\n      <td>1</td>\n      <td>5900.0</td>\n      <td>Long Beach Blvd</td>\n      <td>NaN</td>\n      <td>NaN</td>\n      <td>NaN</td>\n      <td>...</td>\n      <td>Reasonable Suspicion</td>\n      <td>Other Reasonable Suspicion of a crime</td>\n      <td>38021</td>\n      <td>273(A) PC - ILLEGAL PAY FOR ADOPTION (M) 38021</td>\n      <td>Curbside detention</td>\n      <td>NaN</td>\n      <td>NaN</td>\n      <td>Field interview card completed</td>\n      <td>NaN</td>\n      <td>NaN</td>\n    </tr>\n    <tr>\n      <th>2</th>\n      <td>5876</td>\n      <td>2019-01-01</td>\n      <td>18:17:00</td>\n      <td>4</td>\n      <td>0</td>\n      <td>6600.0</td>\n      <td>Butler Ave</td>\n      <td>NaN</td>\n      <td>NaN</td>\n      <td>NaN</td>\n      <td>...</td>\n      <td>Traffic Violation</td>\n      <td>Moving Violation</td>\n      <td>54106</td>\n      <td>22350 VC - UNSAFE SPEED:PREVAIL COND (I) 54106</td>\n      <td>None</td>\n      <td>NaN</td>\n      <td>NaN</td>\n      <td>No Action</td>\n      <td>NaN</td>\n      <td>NaN</td>\n    </tr>\n    <tr>\n      <th>3</th>\n      <td>5877</td>\n      <td>2019-01-01</td>\n      <td>18:25:35</td>\n      <td>10</td>\n      <td>1</td>\n      <td>900.0</td>\n      <td>E anaheim</td>\n      <td>NaN</td>\n      <td>NaN</td>\n      <td>NaN</td>\n      <td>...</td>\n      <td>Knowledge of outstanding arrest warrant/wanted...</td>\n      <td>NaN</td>\n      <td>0</td>\n      <td>NaN</td>\n      <td>None</td>\n      <td>NaN</td>\n      <td>NaN</td>\n      <td>No Action</td>\n      <td>NaN</td>\n      <td>NaN</td>\n    </tr>\n    <tr>\n      <th>4</th>\n      <td>5785</td>\n      <td>2019-01-01</td>\n      <td>01:04:00</td>\n      <td>16</td>\n      <td>0</td>\n      <td>4800.0</td>\n      <td>Vista street</td>\n      <td>NaN</td>\n      <td>NaN</td>\n      <td>NaN</td>\n      <td>...</td>\n      <td>Reasonable Suspicion</td>\n      <td>Other Reasonable Suspicion of a crime</td>\n      <td>65002</td>\n      <td>65002 ZZ - LOCAL ORDINANCE VIOL (I) 65002</td>\n      <td>None</td>\n      <td>NaN</td>\n      <td>NaN</td>\n      <td>Citation for infraction</td>\n      <td>65000</td>\n      <td>65000 ZZ - LOCAL ORDINANCE VIOL (M) 65000</td>\n    </tr>\n  </tbody>\n</table>\n<p>5 rows × 32 columns</p>\n</div>"
     },
     "metadata": {},
     "execution_count": 25
    }
   ],
   "source": [
    "remove_objectId(df)\n",
    "df.head()"
   ]
  },
  {
   "cell_type": "code",
   "execution_count": 26,
   "metadata": {},
   "outputs": [
    {
     "output_type": "execute_result",
     "data": {
      "text/plain": [
       "Index(['StopID', 'stopDate', 'stopTime', 'stopDuration', 'stopInResponseToCFS',\n",
       "       'blockNumber', 'street', 'intersection', 'highwayExit', 'landMark',\n",
       "       'city', 'isSchool', 'schoolName', 'PID', 'isStudent', 'perceivedAge',\n",
       "       'perceivedGender', 'genderNonconforming', 'perceivedLgbt',\n",
       "       'perceivedLimitedEnglish', 'perceivedRace',\n",
       "       'perceivedOrKnownDisability', 'reasonForStop', 'reasonForStopDetail',\n",
       "       'reasonForStopcode', 'reasonForStopCodeText', 'actionTakenDuringStop',\n",
       "       'personSearchConsentGiven', 'propertySearchConsentGiven',\n",
       "       'resultOfStop', 'resultOfStopcode', 'resultOfStopcodeText'],\n",
       "      dtype='object')"
      ]
     },
     "metadata": {},
     "execution_count": 26
    }
   ],
   "source": [
    "df.columns"
   ]
  },
  {
   "source": [
    "### Drop other unneeded columns:"
   ],
   "cell_type": "markdown",
   "metadata": {}
  },
  {
   "cell_type": "code",
   "execution_count": 27,
   "metadata": {},
   "outputs": [],
   "source": [
    "def drop_others(df):\n",
    "    cols = ['highwayExit','isSchool', 'schoolName', 'isStudent']\n",
    "    df.drop(cols, axis=1, inplace=True)"
   ]
  },
  {
   "cell_type": "code",
   "execution_count": 28,
   "metadata": {},
   "outputs": [
    {
     "output_type": "execute_result",
     "data": {
      "text/plain": [
       "Index(['StopID', 'stopDate', 'stopTime', 'stopDuration', 'stopInResponseToCFS',\n",
       "       'blockNumber', 'street', 'intersection', 'landMark', 'city', 'PID',\n",
       "       'perceivedAge', 'perceivedGender', 'genderNonconforming',\n",
       "       'perceivedLgbt', 'perceivedLimitedEnglish', 'perceivedRace',\n",
       "       'perceivedOrKnownDisability', 'reasonForStop', 'reasonForStopDetail',\n",
       "       'reasonForStopcode', 'reasonForStopCodeText', 'actionTakenDuringStop',\n",
       "       'personSearchConsentGiven', 'propertySearchConsentGiven',\n",
       "       'resultOfStop', 'resultOfStopcode', 'resultOfStopcodeText'],\n",
       "      dtype='object')"
      ]
     },
     "metadata": {},
     "execution_count": 28
    }
   ],
   "source": [
    "drop_others(df)\n",
    "df.columns"
   ]
  },
  {
   "cell_type": "code",
   "execution_count": 37,
   "metadata": {},
   "outputs": [
    {
     "output_type": "stream",
     "name": "stdout",
     "text": [
      "<class 'pandas.core.frame.DataFrame'>\nRangeIndex: 82543 entries, 0 to 82542\nData columns (total 28 columns):\n #   Column                      Non-Null Count  Dtype \n---  ------                      --------------  ----- \n 0   StopID                      82543 non-null  object\n 1   stopDate                    82543 non-null  object\n 2   stopTime                    82543 non-null  object\n 3   stopDuration                82543 non-null  object\n 4   stopInResponseToCFS         82543 non-null  object\n 5   blockNumber                 52070 non-null  object\n 6   street                      64978 non-null  object\n 7   intersection                30895 non-null  object\n 8   landMark                    10 non-null     object\n 9   city                        82543 non-null  object\n 10  PID                         82543 non-null  object\n 11  perceivedAge                82543 non-null  object\n 12  perceivedGender             82117 non-null  object\n 13  genderNonconforming         82543 non-null  object\n 14  perceivedLgbt               82543 non-null  object\n 15  perceivedLimitedEnglish     82543 non-null  object\n 16  perceivedRace               82543 non-null  object\n 17  perceivedOrKnownDisability  82543 non-null  object\n 18  reasonForStop               82543 non-null  object\n 19  reasonForStopDetail         76525 non-null  object\n 20  reasonForStopcode           82543 non-null  object\n 21  reasonForStopCodeText       76501 non-null  object\n 22  actionTakenDuringStop       82543 non-null  object\n 23  personSearchConsentGiven    2902 non-null   object\n 24  propertySearchConsentGiven  843 non-null    object\n 25  resultOfStop                82543 non-null  object\n 26  resultOfStopcode            57183 non-null  object\n 27  resultOfStopcodeText        57183 non-null  object\ndtypes: object(28)\nmemory usage: 17.6+ MB\n"
     ]
    }
   ],
   "source": [
    "df.info()"
   ]
  },
  {
   "cell_type": "code",
   "execution_count": 39,
   "metadata": {},
   "outputs": [
    {
     "output_type": "execute_result",
     "data": {
      "text/plain": [
       "  StopID    stopDate  stopTime stopDuration stopInResponseToCFS blockNumber  \\\n",
       "0   5875  2019-01-01  07:41:59            5                   0       200.0   \n",
       "1   5782  2019-01-01  00:04:59            5                   1      5900.0   \n",
       "2   5876  2019-01-01  18:17:00            4                   0      6600.0   \n",
       "3   5877  2019-01-01  18:25:35           10                   1       900.0   \n",
       "4   5785  2019-01-01  01:04:00           16                   0      4800.0   \n",
       "\n",
       "            street intersection landMark        city  ...  \\\n",
       "0       E First St          NaN      NaN  LONG BEACH  ...   \n",
       "1  Long Beach Blvd          NaN      NaN  LONG BEACH  ...   \n",
       "2       Butler Ave          NaN      NaN  LONG BEACH  ...   \n",
       "3        E anaheim          NaN      NaN  LONG BEACH  ...   \n",
       "4     Vista street          NaN      NaN  LONG BEACH  ...   \n",
       "\n",
       "                                       reasonForStop  \\\n",
       "0                                  Traffic Violation   \n",
       "1                               Reasonable Suspicion   \n",
       "2                                  Traffic Violation   \n",
       "3  Knowledge of outstanding arrest warrant/wanted...   \n",
       "4                               Reasonable Suspicion   \n",
       "\n",
       "                     reasonForStopDetail reasonForStopcode  \\\n",
       "0                       Moving Violation             54153   \n",
       "1  Other Reasonable Suspicion of a crime             38021   \n",
       "2                       Moving Violation             54106   \n",
       "3                                    NaN                 0   \n",
       "4  Other Reasonable Suspicion of a crime             65002   \n",
       "\n",
       "                               reasonForStopCodeText actionTakenDuringStop  \\\n",
       "0  21453(D) VC - PED AGAINST RED LIGHT/ETC (I) 54153    Curbside detention   \n",
       "1     273(A) PC - ILLEGAL PAY FOR ADOPTION (M) 38021    Curbside detention   \n",
       "2     22350 VC - UNSAFE SPEED:PREVAIL COND (I) 54106                  None   \n",
       "3                                                NaN                  None   \n",
       "4          65002 ZZ - LOCAL ORDINANCE VIOL (I) 65002                  None   \n",
       "\n",
       "  personSearchConsentGiven propertySearchConsentGiven  \\\n",
       "0                      NaN                        NaN   \n",
       "1                      NaN                        NaN   \n",
       "2                      NaN                        NaN   \n",
       "3                      NaN                        NaN   \n",
       "4                      NaN                        NaN   \n",
       "\n",
       "                     resultOfStop resultOfStopcode  \\\n",
       "0         Citation for infraction            54153   \n",
       "1  Field interview card completed              NaN   \n",
       "2                       No Action              NaN   \n",
       "3                       No Action              NaN   \n",
       "4         Citation for infraction            65000   \n",
       "\n",
       "                                resultOfStopcodeText  \n",
       "0  21453(D) VC - PED AGAINST RED LIGHT/ETC (I) 54153  \n",
       "1                                                NaN  \n",
       "2                                                NaN  \n",
       "3                                                NaN  \n",
       "4          65000 ZZ - LOCAL ORDINANCE VIOL (M) 65000  \n",
       "\n",
       "[5 rows x 28 columns]"
      ],
      "text/html": "<div>\n<style scoped>\n    .dataframe tbody tr th:only-of-type {\n        vertical-align: middle;\n    }\n\n    .dataframe tbody tr th {\n        vertical-align: top;\n    }\n\n    .dataframe thead th {\n        text-align: right;\n    }\n</style>\n<table border=\"1\" class=\"dataframe\">\n  <thead>\n    <tr style=\"text-align: right;\">\n      <th></th>\n      <th>StopID</th>\n      <th>stopDate</th>\n      <th>stopTime</th>\n      <th>stopDuration</th>\n      <th>stopInResponseToCFS</th>\n      <th>blockNumber</th>\n      <th>street</th>\n      <th>intersection</th>\n      <th>landMark</th>\n      <th>city</th>\n      <th>...</th>\n      <th>reasonForStop</th>\n      <th>reasonForStopDetail</th>\n      <th>reasonForStopcode</th>\n      <th>reasonForStopCodeText</th>\n      <th>actionTakenDuringStop</th>\n      <th>personSearchConsentGiven</th>\n      <th>propertySearchConsentGiven</th>\n      <th>resultOfStop</th>\n      <th>resultOfStopcode</th>\n      <th>resultOfStopcodeText</th>\n    </tr>\n  </thead>\n  <tbody>\n    <tr>\n      <th>0</th>\n      <td>5875</td>\n      <td>2019-01-01</td>\n      <td>07:41:59</td>\n      <td>5</td>\n      <td>0</td>\n      <td>200.0</td>\n      <td>E First St</td>\n      <td>NaN</td>\n      <td>NaN</td>\n      <td>LONG BEACH</td>\n      <td>...</td>\n      <td>Traffic Violation</td>\n      <td>Moving Violation</td>\n      <td>54153</td>\n      <td>21453(D) VC - PED AGAINST RED LIGHT/ETC (I) 54153</td>\n      <td>Curbside detention</td>\n      <td>NaN</td>\n      <td>NaN</td>\n      <td>Citation for infraction</td>\n      <td>54153</td>\n      <td>21453(D) VC - PED AGAINST RED LIGHT/ETC (I) 54153</td>\n    </tr>\n    <tr>\n      <th>1</th>\n      <td>5782</td>\n      <td>2019-01-01</td>\n      <td>00:04:59</td>\n      <td>5</td>\n      <td>1</td>\n      <td>5900.0</td>\n      <td>Long Beach Blvd</td>\n      <td>NaN</td>\n      <td>NaN</td>\n      <td>LONG BEACH</td>\n      <td>...</td>\n      <td>Reasonable Suspicion</td>\n      <td>Other Reasonable Suspicion of a crime</td>\n      <td>38021</td>\n      <td>273(A) PC - ILLEGAL PAY FOR ADOPTION (M) 38021</td>\n      <td>Curbside detention</td>\n      <td>NaN</td>\n      <td>NaN</td>\n      <td>Field interview card completed</td>\n      <td>NaN</td>\n      <td>NaN</td>\n    </tr>\n    <tr>\n      <th>2</th>\n      <td>5876</td>\n      <td>2019-01-01</td>\n      <td>18:17:00</td>\n      <td>4</td>\n      <td>0</td>\n      <td>6600.0</td>\n      <td>Butler Ave</td>\n      <td>NaN</td>\n      <td>NaN</td>\n      <td>LONG BEACH</td>\n      <td>...</td>\n      <td>Traffic Violation</td>\n      <td>Moving Violation</td>\n      <td>54106</td>\n      <td>22350 VC - UNSAFE SPEED:PREVAIL COND (I) 54106</td>\n      <td>None</td>\n      <td>NaN</td>\n      <td>NaN</td>\n      <td>No Action</td>\n      <td>NaN</td>\n      <td>NaN</td>\n    </tr>\n    <tr>\n      <th>3</th>\n      <td>5877</td>\n      <td>2019-01-01</td>\n      <td>18:25:35</td>\n      <td>10</td>\n      <td>1</td>\n      <td>900.0</td>\n      <td>E anaheim</td>\n      <td>NaN</td>\n      <td>NaN</td>\n      <td>LONG BEACH</td>\n      <td>...</td>\n      <td>Knowledge of outstanding arrest warrant/wanted...</td>\n      <td>NaN</td>\n      <td>0</td>\n      <td>NaN</td>\n      <td>None</td>\n      <td>NaN</td>\n      <td>NaN</td>\n      <td>No Action</td>\n      <td>NaN</td>\n      <td>NaN</td>\n    </tr>\n    <tr>\n      <th>4</th>\n      <td>5785</td>\n      <td>2019-01-01</td>\n      <td>01:04:00</td>\n      <td>16</td>\n      <td>0</td>\n      <td>4800.0</td>\n      <td>Vista street</td>\n      <td>NaN</td>\n      <td>NaN</td>\n      <td>LONG BEACH</td>\n      <td>...</td>\n      <td>Reasonable Suspicion</td>\n      <td>Other Reasonable Suspicion of a crime</td>\n      <td>65002</td>\n      <td>65002 ZZ - LOCAL ORDINANCE VIOL (I) 65002</td>\n      <td>None</td>\n      <td>NaN</td>\n      <td>NaN</td>\n      <td>Citation for infraction</td>\n      <td>65000</td>\n      <td>65000 ZZ - LOCAL ORDINANCE VIOL (M) 65000</td>\n    </tr>\n  </tbody>\n</table>\n<p>5 rows × 28 columns</p>\n</div>"
     },
     "metadata": {},
     "execution_count": 39
    }
   ],
   "source": [
    "df.head(5)"
   ]
  },
  {
   "cell_type": "code",
   "execution_count": 44,
   "metadata": {},
   "outputs": [
    {
     "output_type": "execute_result",
     "data": {
      "text/plain": [
       "Hispanic                         16716\n",
       "Black                            12472\n",
       "White                            10972\n",
       "Asian                             3150\n",
       "Middle Eastern or South Asian     1804\n",
       "Pacific Islander                  1700\n",
       "Native American                   1301\n",
       "Name: perceivedRace, dtype: int64"
      ]
     },
     "metadata": {},
     "execution_count": 44
    }
   ],
   "source": [
    "df[['StopID', 'PID', 'perceivedRace']].drop_duplicates()['perceivedRace'].value_counts()"
   ]
  },
  {
   "cell_type": "code",
   "execution_count": null,
   "metadata": {},
   "outputs": [],
   "source": []
  }
 ]
}